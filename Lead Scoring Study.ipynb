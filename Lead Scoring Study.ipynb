{
 "cells": [
  {
   "cell_type": "markdown",
   "metadata": {},
   "source": [
    "# Lead Scoring Study "
   ]
  },
  {
   "cell_type": "markdown",
   "metadata": {},
   "source": [
    "## A. Problem Statment "
   ]
  },
  {
   "cell_type": "markdown",
   "metadata": {},
   "source": [
    "1. Building a logistic regression model to assign a lead score between 0 and 100 to each of the leads which can be used by the company to target potential leads\n",
    "2. Creating a model that can adjust according to company's requirements\n",
    "    - When sales team is recruited and the team wants to contact all the leads that has good chances of conversion\n",
    "    - When the sales team is involved in other project and will only call when there is a requirement "
   ]
  },
  {
   "cell_type": "markdown",
   "metadata": {},
   "source": [
    "#### Importing Revelant Libraries"
   ]
  },
  {
   "cell_type": "code",
   "execution_count": 312,
   "metadata": {},
   "outputs": [],
   "source": [
    "import numpy as np\n",
    "import pandas as pd\n",
    "\n",
    "import warnings \n",
    "warnings.filterwarnings('ignore')"
   ]
  },
  {
   "cell_type": "code",
   "execution_count": 313,
   "metadata": {},
   "outputs": [],
   "source": [
    "df = pd.read_csv('Leads.csv')"
   ]
  },
  {
   "cell_type": "code",
   "execution_count": 314,
   "metadata": {},
   "outputs": [
    {
     "data": {
      "text/plain": [
       "(9240, 37)"
      ]
     },
     "execution_count": 314,
     "metadata": {},
     "output_type": "execute_result"
    }
   ],
   "source": [
    "# checking the shape of dataframe \n",
    "\n",
    "df.shape"
   ]
  },
  {
   "cell_type": "code",
   "execution_count": 315,
   "metadata": {},
   "outputs": [
    {
     "data": {
      "text/html": [
       "<div>\n",
       "<style scoped>\n",
       "    .dataframe tbody tr th:only-of-type {\n",
       "        vertical-align: middle;\n",
       "    }\n",
       "\n",
       "    .dataframe tbody tr th {\n",
       "        vertical-align: top;\n",
       "    }\n",
       "\n",
       "    .dataframe thead th {\n",
       "        text-align: right;\n",
       "    }\n",
       "</style>\n",
       "<table border=\"1\" class=\"dataframe\">\n",
       "  <thead>\n",
       "    <tr style=\"text-align: right;\">\n",
       "      <th></th>\n",
       "      <th>Prospect ID</th>\n",
       "      <th>Lead Number</th>\n",
       "      <th>Lead Origin</th>\n",
       "      <th>Lead Source</th>\n",
       "      <th>Do Not Email</th>\n",
       "      <th>Do Not Call</th>\n",
       "      <th>Converted</th>\n",
       "      <th>TotalVisits</th>\n",
       "      <th>Total Time Spent on Website</th>\n",
       "      <th>Page Views Per Visit</th>\n",
       "      <th>...</th>\n",
       "      <th>Get updates on DM Content</th>\n",
       "      <th>Lead Profile</th>\n",
       "      <th>City</th>\n",
       "      <th>Asymmetrique Activity Index</th>\n",
       "      <th>Asymmetrique Profile Index</th>\n",
       "      <th>Asymmetrique Activity Score</th>\n",
       "      <th>Asymmetrique Profile Score</th>\n",
       "      <th>I agree to pay the amount through cheque</th>\n",
       "      <th>A free copy of Mastering The Interview</th>\n",
       "      <th>Last Notable Activity</th>\n",
       "    </tr>\n",
       "  </thead>\n",
       "  <tbody>\n",
       "    <tr>\n",
       "      <th>0</th>\n",
       "      <td>7927b2df-8bba-4d29-b9a2-b6e0beafe620</td>\n",
       "      <td>660737</td>\n",
       "      <td>API</td>\n",
       "      <td>Olark Chat</td>\n",
       "      <td>No</td>\n",
       "      <td>No</td>\n",
       "      <td>0</td>\n",
       "      <td>0.0</td>\n",
       "      <td>0</td>\n",
       "      <td>0.0</td>\n",
       "      <td>...</td>\n",
       "      <td>No</td>\n",
       "      <td>Select</td>\n",
       "      <td>Select</td>\n",
       "      <td>02.Medium</td>\n",
       "      <td>02.Medium</td>\n",
       "      <td>15.0</td>\n",
       "      <td>15.0</td>\n",
       "      <td>No</td>\n",
       "      <td>No</td>\n",
       "      <td>Modified</td>\n",
       "    </tr>\n",
       "    <tr>\n",
       "      <th>1</th>\n",
       "      <td>2a272436-5132-4136-86fa-dcc88c88f482</td>\n",
       "      <td>660728</td>\n",
       "      <td>API</td>\n",
       "      <td>Organic Search</td>\n",
       "      <td>No</td>\n",
       "      <td>No</td>\n",
       "      <td>0</td>\n",
       "      <td>5.0</td>\n",
       "      <td>674</td>\n",
       "      <td>2.5</td>\n",
       "      <td>...</td>\n",
       "      <td>No</td>\n",
       "      <td>Select</td>\n",
       "      <td>Select</td>\n",
       "      <td>02.Medium</td>\n",
       "      <td>02.Medium</td>\n",
       "      <td>15.0</td>\n",
       "      <td>15.0</td>\n",
       "      <td>No</td>\n",
       "      <td>No</td>\n",
       "      <td>Email Opened</td>\n",
       "    </tr>\n",
       "    <tr>\n",
       "      <th>2</th>\n",
       "      <td>8cc8c611-a219-4f35-ad23-fdfd2656bd8a</td>\n",
       "      <td>660727</td>\n",
       "      <td>Landing Page Submission</td>\n",
       "      <td>Direct Traffic</td>\n",
       "      <td>No</td>\n",
       "      <td>No</td>\n",
       "      <td>1</td>\n",
       "      <td>2.0</td>\n",
       "      <td>1532</td>\n",
       "      <td>2.0</td>\n",
       "      <td>...</td>\n",
       "      <td>No</td>\n",
       "      <td>Potential Lead</td>\n",
       "      <td>Mumbai</td>\n",
       "      <td>02.Medium</td>\n",
       "      <td>01.High</td>\n",
       "      <td>14.0</td>\n",
       "      <td>20.0</td>\n",
       "      <td>No</td>\n",
       "      <td>Yes</td>\n",
       "      <td>Email Opened</td>\n",
       "    </tr>\n",
       "    <tr>\n",
       "      <th>3</th>\n",
       "      <td>0cc2df48-7cf4-4e39-9de9-19797f9b38cc</td>\n",
       "      <td>660719</td>\n",
       "      <td>Landing Page Submission</td>\n",
       "      <td>Direct Traffic</td>\n",
       "      <td>No</td>\n",
       "      <td>No</td>\n",
       "      <td>0</td>\n",
       "      <td>1.0</td>\n",
       "      <td>305</td>\n",
       "      <td>1.0</td>\n",
       "      <td>...</td>\n",
       "      <td>No</td>\n",
       "      <td>Select</td>\n",
       "      <td>Mumbai</td>\n",
       "      <td>02.Medium</td>\n",
       "      <td>01.High</td>\n",
       "      <td>13.0</td>\n",
       "      <td>17.0</td>\n",
       "      <td>No</td>\n",
       "      <td>No</td>\n",
       "      <td>Modified</td>\n",
       "    </tr>\n",
       "    <tr>\n",
       "      <th>4</th>\n",
       "      <td>3256f628-e534-4826-9d63-4a8b88782852</td>\n",
       "      <td>660681</td>\n",
       "      <td>Landing Page Submission</td>\n",
       "      <td>Google</td>\n",
       "      <td>No</td>\n",
       "      <td>No</td>\n",
       "      <td>1</td>\n",
       "      <td>2.0</td>\n",
       "      <td>1428</td>\n",
       "      <td>1.0</td>\n",
       "      <td>...</td>\n",
       "      <td>No</td>\n",
       "      <td>Select</td>\n",
       "      <td>Mumbai</td>\n",
       "      <td>02.Medium</td>\n",
       "      <td>01.High</td>\n",
       "      <td>15.0</td>\n",
       "      <td>18.0</td>\n",
       "      <td>No</td>\n",
       "      <td>No</td>\n",
       "      <td>Modified</td>\n",
       "    </tr>\n",
       "  </tbody>\n",
       "</table>\n",
       "<p>5 rows × 37 columns</p>\n",
       "</div>"
      ],
      "text/plain": [
       "                            Prospect ID  Lead Number              Lead Origin  \\\n",
       "0  7927b2df-8bba-4d29-b9a2-b6e0beafe620       660737                      API   \n",
       "1  2a272436-5132-4136-86fa-dcc88c88f482       660728                      API   \n",
       "2  8cc8c611-a219-4f35-ad23-fdfd2656bd8a       660727  Landing Page Submission   \n",
       "3  0cc2df48-7cf4-4e39-9de9-19797f9b38cc       660719  Landing Page Submission   \n",
       "4  3256f628-e534-4826-9d63-4a8b88782852       660681  Landing Page Submission   \n",
       "\n",
       "      Lead Source Do Not Email Do Not Call  Converted  TotalVisits  \\\n",
       "0      Olark Chat           No          No          0          0.0   \n",
       "1  Organic Search           No          No          0          5.0   \n",
       "2  Direct Traffic           No          No          1          2.0   \n",
       "3  Direct Traffic           No          No          0          1.0   \n",
       "4          Google           No          No          1          2.0   \n",
       "\n",
       "   Total Time Spent on Website  Page Views Per Visit  ...  \\\n",
       "0                            0                   0.0  ...   \n",
       "1                          674                   2.5  ...   \n",
       "2                         1532                   2.0  ...   \n",
       "3                          305                   1.0  ...   \n",
       "4                         1428                   1.0  ...   \n",
       "\n",
       "  Get updates on DM Content    Lead Profile    City  \\\n",
       "0                        No          Select  Select   \n",
       "1                        No          Select  Select   \n",
       "2                        No  Potential Lead  Mumbai   \n",
       "3                        No          Select  Mumbai   \n",
       "4                        No          Select  Mumbai   \n",
       "\n",
       "  Asymmetrique Activity Index Asymmetrique Profile Index  \\\n",
       "0                   02.Medium                  02.Medium   \n",
       "1                   02.Medium                  02.Medium   \n",
       "2                   02.Medium                    01.High   \n",
       "3                   02.Medium                    01.High   \n",
       "4                   02.Medium                    01.High   \n",
       "\n",
       "  Asymmetrique Activity Score Asymmetrique Profile Score  \\\n",
       "0                        15.0                       15.0   \n",
       "1                        15.0                       15.0   \n",
       "2                        14.0                       20.0   \n",
       "3                        13.0                       17.0   \n",
       "4                        15.0                       18.0   \n",
       "\n",
       "  I agree to pay the amount through cheque  \\\n",
       "0                                       No   \n",
       "1                                       No   \n",
       "2                                       No   \n",
       "3                                       No   \n",
       "4                                       No   \n",
       "\n",
       "  A free copy of Mastering The Interview Last Notable Activity  \n",
       "0                                     No              Modified  \n",
       "1                                     No          Email Opened  \n",
       "2                                    Yes          Email Opened  \n",
       "3                                     No              Modified  \n",
       "4                                     No              Modified  \n",
       "\n",
       "[5 rows x 37 columns]"
      ]
     },
     "execution_count": 315,
     "metadata": {},
     "output_type": "execute_result"
    }
   ],
   "source": [
    "# observing the dataframe for the first time\n",
    "\n",
    "df.head()"
   ]
  },
  {
   "cell_type": "markdown",
   "metadata": {},
   "source": [
    "## B. Data Preperation and EDA"
   ]
  },
  {
   "cell_type": "code",
   "execution_count": 316,
   "metadata": {},
   "outputs": [
    {
     "data": {
      "text/plain": [
       "Index(['Specialization', 'How did you hear about X Education', 'Lead Profile',\n",
       "       'City'],\n",
       "      dtype='object')"
      ]
     },
     "execution_count": 316,
     "metadata": {},
     "output_type": "execute_result"
    }
   ],
   "source": [
    "# checking for columns with 'select' field\n",
    "# select is an option that was not selected during data entry\n",
    "\n",
    "df.columns[df.isin(['Select']).any()]"
   ]
  },
  {
   "cell_type": "code",
   "execution_count": 317,
   "metadata": {},
   "outputs": [],
   "source": [
    "# replacing 'Select' by nan in 'Specialization'\n",
    "\n",
    "df['Specialization'] = df['Specialization'].replace('Select',np.nan)"
   ]
  },
  {
   "cell_type": "code",
   "execution_count": 318,
   "metadata": {},
   "outputs": [],
   "source": [
    "# replacing 'Select' by nan in 'How did you hear about X Education'\n",
    "\n",
    "df['How did you hear about X Education'] = df['How did you hear about X Education'].replace('Select',np.nan)"
   ]
  },
  {
   "cell_type": "code",
   "execution_count": 319,
   "metadata": {},
   "outputs": [],
   "source": [
    "# replacing 'Select' by nan in 'Lead Profile'\n",
    "\n",
    "df['Lead Profile'] = df['Lead Profile'].replace('Select',np.nan)"
   ]
  },
  {
   "cell_type": "code",
   "execution_count": 320,
   "metadata": {},
   "outputs": [],
   "source": [
    "#replacing 'Select' by nan in 'City'\n",
    "\n",
    "df['City'] = df['City'].replace('Select',np.nan)"
   ]
  },
  {
   "cell_type": "code",
   "execution_count": 321,
   "metadata": {},
   "outputs": [
    {
     "data": {
      "text/plain": [
       "Prospect ID                                      0.00\n",
       "Lead Number                                      0.00\n",
       "Lead Origin                                      0.00\n",
       "Lead Source                                      0.00\n",
       "Do Not Email                                     0.00\n",
       "Do Not Call                                      0.00\n",
       "Converted                                        0.00\n",
       "TotalVisits                                      0.01\n",
       "Total Time Spent on Website                      0.00\n",
       "Page Views Per Visit                             0.01\n",
       "Last Activity                                    0.01\n",
       "Country                                          0.27\n",
       "Specialization                                   0.37\n",
       "How did you hear about X Education               0.78\n",
       "What is your current occupation                  0.29\n",
       "What matters most to you in choosing a course    0.29\n",
       "Search                                           0.00\n",
       "Magazine                                         0.00\n",
       "Newspaper Article                                0.00\n",
       "X Education Forums                               0.00\n",
       "Newspaper                                        0.00\n",
       "Digital Advertisement                            0.00\n",
       "Through Recommendations                          0.00\n",
       "Receive More Updates About Our Courses           0.00\n",
       "Tags                                             0.36\n",
       "Lead Quality                                     0.52\n",
       "Update me on Supply Chain Content                0.00\n",
       "Get updates on DM Content                        0.00\n",
       "Lead Profile                                     0.74\n",
       "City                                             0.40\n",
       "Asymmetrique Activity Index                      0.46\n",
       "Asymmetrique Profile Index                       0.46\n",
       "Asymmetrique Activity Score                      0.46\n",
       "Asymmetrique Profile Score                       0.46\n",
       "I agree to pay the amount through cheque         0.00\n",
       "A free copy of Mastering The Interview           0.00\n",
       "Last Notable Activity                            0.00\n",
       "dtype: float64"
      ]
     },
     "execution_count": 321,
     "metadata": {},
     "output_type": "execute_result"
    }
   ],
   "source": [
    "# checking the percentage of missing values \n",
    "\n",
    "round(df.isnull().sum()/len(df),2)"
   ]
  },
  {
   "cell_type": "markdown",
   "metadata": {},
   "source": [
    "#### Dropping rows with missing high percentage of missing values"
   ]
  },
  {
   "cell_type": "markdown",
   "metadata": {},
   "source": [
    "- 'Lead Quality' is a metric based on the intution of the employee who has been assigned the lead. With high missing values it does not hold significance to the model we will create"
   ]
  },
  {
   "cell_type": "code",
   "execution_count": 322,
   "metadata": {},
   "outputs": [],
   "source": [
    "# droppping 'Lead Quality'\n",
    "\n",
    "df.drop('Lead Quality' , axis =1 , inplace = True)"
   ]
  },
  {
   "cell_type": "markdown",
   "metadata": {},
   "source": [
    "#### Note"
   ]
  },
  {
   "cell_type": "markdown",
   "metadata": {},
   "source": [
    "The following are metrics assigned to each customer based on their activity and profile. It does not hold high significance to understand their state with hot leads specially when they have high missing values\n",
    "1. 'Asymmetrique Activity Index'\n",
    "2. 'Asymmetrique Profile Index'\n",
    "3. 'Asymmetrique Activity Score'\n",
    "4. 'Asymmetrique Profile Score'"
   ]
  },
  {
   "cell_type": "code",
   "execution_count": 323,
   "metadata": {},
   "outputs": [],
   "source": [
    "# dropping the above mentioned rows \n",
    "\n",
    "df.drop('Asymmetrique Activity Index' , axis =1 , inplace = True)\n",
    "\n",
    "df.drop('Asymmetrique Profile Index' , axis =1 , inplace = True)\n",
    "\n",
    "df.drop('Asymmetrique Activity Score' , axis =1 , inplace = True)\n",
    "\n",
    "df.drop('Asymmetrique Profile Score' , axis =1 , inplace = True)"
   ]
  },
  {
   "cell_type": "markdown",
   "metadata": {},
   "source": [
    "#### Note"
   ]
  },
  {
   "cell_type": "markdown",
   "metadata": {},
   "source": [
    "- 'Country' has significant number of missing values and is not a important variable for the problem statement we have"
   ]
  },
  {
   "cell_type": "code",
   "execution_count": 324,
   "metadata": {},
   "outputs": [],
   "source": [
    "# dropping 'Country'\n",
    "\n",
    "df.drop('Country' , axis =1 , inplace = True)"
   ]
  },
  {
   "cell_type": "code",
   "execution_count": 325,
   "metadata": {},
   "outputs": [
    {
     "data": {
      "text/plain": [
       "Prospect ID                                      0.00\n",
       "Lead Number                                      0.00\n",
       "Lead Origin                                      0.00\n",
       "Lead Source                                      0.00\n",
       "Do Not Email                                     0.00\n",
       "Do Not Call                                      0.00\n",
       "Converted                                        0.00\n",
       "TotalVisits                                      0.01\n",
       "Total Time Spent on Website                      0.00\n",
       "Page Views Per Visit                             0.01\n",
       "Last Activity                                    0.01\n",
       "Specialization                                   0.37\n",
       "How did you hear about X Education               0.78\n",
       "What is your current occupation                  0.29\n",
       "What matters most to you in choosing a course    0.29\n",
       "Search                                           0.00\n",
       "Magazine                                         0.00\n",
       "Newspaper Article                                0.00\n",
       "X Education Forums                               0.00\n",
       "Newspaper                                        0.00\n",
       "Digital Advertisement                            0.00\n",
       "Through Recommendations                          0.00\n",
       "Receive More Updates About Our Courses           0.00\n",
       "Tags                                             0.36\n",
       "Update me on Supply Chain Content                0.00\n",
       "Get updates on DM Content                        0.00\n",
       "Lead Profile                                     0.74\n",
       "City                                             0.40\n",
       "I agree to pay the amount through cheque         0.00\n",
       "A free copy of Mastering The Interview           0.00\n",
       "Last Notable Activity                            0.00\n",
       "dtype: float64"
      ]
     },
     "execution_count": 325,
     "metadata": {},
     "output_type": "execute_result"
    }
   ],
   "source": [
    "# checking the percentage of missing values \n",
    "\n",
    "round(df.isnull().sum()/len(df),2)"
   ]
  },
  {
   "cell_type": "code",
   "execution_count": 326,
   "metadata": {},
   "outputs": [
    {
     "data": {
      "text/plain": [
       "(9240, 31)"
      ]
     },
     "execution_count": 326,
     "metadata": {},
     "output_type": "execute_result"
    }
   ],
   "source": [
    "df.shape"
   ]
  },
  {
   "cell_type": "markdown",
   "metadata": {},
   "source": [
    "#### Note"
   ]
  },
  {
   "cell_type": "markdown",
   "metadata": {},
   "source": [
    "- 'What is your current occupation' , 'What matters most to you in choosing a course' and 'Tags' have might high number of missing values but they have important information for the problem statement. Doing some analysis on the same"
   ]
  },
  {
   "cell_type": "code",
   "execution_count": 327,
   "metadata": {},
   "outputs": [
    {
     "data": {
      "text/plain": [
       "What is your current occupation\n",
       "Unemployed              5600\n",
       "Working Professional     706\n",
       "Student                  210\n",
       "Other                     16\n",
       "Housewife                 10\n",
       "Businessman                8\n",
       "Name: count, dtype: int64"
      ]
     },
     "execution_count": 327,
     "metadata": {},
     "output_type": "execute_result"
    }
   ],
   "source": [
    "df['What is your current occupation'].value_counts()"
   ]
  },
  {
   "cell_type": "markdown",
   "metadata": {},
   "source": [
    "#### Note"
   ]
  },
  {
   "cell_type": "markdown",
   "metadata": {},
   "source": [
    "- The majority of information in 'What is your current occupation' does not have enough significance in the categorisation of hot leads. Between unemployed, workig professional and student it has most of the information. With high missing values this column is not significant enough. Thus dropping 'What is your current occupation'"
   ]
  },
  {
   "cell_type": "code",
   "execution_count": 328,
   "metadata": {},
   "outputs": [],
   "source": [
    "# dropping 'What is your current occupation'\n",
    "\n",
    "df.drop('What is your current occupation' , axis =1 , inplace = True)"
   ]
  },
  {
   "cell_type": "code",
   "execution_count": 329,
   "metadata": {},
   "outputs": [
    {
     "data": {
      "text/plain": [
       "What matters most to you in choosing a course\n",
       "Better Career Prospects      6528\n",
       "Flexibility & Convenience       2\n",
       "Other                           1\n",
       "Name: count, dtype: int64"
      ]
     },
     "execution_count": 329,
     "metadata": {},
     "output_type": "execute_result"
    }
   ],
   "source": [
    "df['What matters most to you in choosing a course'].value_counts()"
   ]
  },
  {
   "cell_type": "markdown",
   "metadata": {},
   "source": [
    "#### Note"
   ]
  },
  {
   "cell_type": "markdown",
   "metadata": {},
   "source": [
    "- 'What matters most to you in choosing a course' has most of its information as Better Career Prospects. Thus if we drop the column it will not make a lot of difference to the model"
   ]
  },
  {
   "cell_type": "code",
   "execution_count": 330,
   "metadata": {},
   "outputs": [],
   "source": [
    "# dropping 'What matters most to you in choosing a course'\n",
    "\n",
    "df.drop('What matters most to you in choosing a course' , axis =1 , inplace = True)"
   ]
  },
  {
   "cell_type": "code",
   "execution_count": 331,
   "metadata": {},
   "outputs": [
    {
     "data": {
      "text/plain": [
       "Tags\n",
       "Will revert after reading the email                  2072\n",
       "Ringing                                              1203\n",
       "Interested in other courses                           513\n",
       "Already a student                                     465\n",
       "Closed by Horizzon                                    358\n",
       "switched off                                          240\n",
       "Busy                                                  186\n",
       "Lost to EINS                                          175\n",
       "Not doing further education                           145\n",
       "Interested  in full time MBA                          117\n",
       "Graduation in progress                                111\n",
       "invalid number                                         83\n",
       "Diploma holder (Not Eligible)                          63\n",
       "wrong number given                                     47\n",
       "opp hangup                                             33\n",
       "number not provided                                    27\n",
       "in touch with EINS                                     12\n",
       "Lost to Others                                          7\n",
       "Still Thinking                                          6\n",
       "Want to take admission but has financial problems       6\n",
       "In confusion whether part time or DLP                   5\n",
       "Interested in Next batch                                5\n",
       "Lateral student                                         3\n",
       "Shall take in the next coming month                     2\n",
       "University not recognized                               2\n",
       "Recognition issue (DEC approval)                        1\n",
       "Name: count, dtype: int64"
      ]
     },
     "execution_count": 331,
     "metadata": {},
     "output_type": "execute_result"
    }
   ],
   "source": [
    "df['Tags'].value_counts()"
   ]
  },
  {
   "cell_type": "markdown",
   "metadata": {},
   "source": [
    "#### Note"
   ]
  },
  {
   "cell_type": "markdown",
   "metadata": {},
   "source": [
    "- The information with large values in 'Tags' such as -Will revert after reading the email- have less significance in making with regards to our problem statement. We can drop this column "
   ]
  },
  {
   "cell_type": "code",
   "execution_count": 332,
   "metadata": {},
   "outputs": [],
   "source": [
    "# dropping 'Tags'\n",
    "\n",
    "df.drop('Tags' , axis =1 , inplace = True)"
   ]
  },
  {
   "cell_type": "code",
   "execution_count": 333,
   "metadata": {},
   "outputs": [
    {
     "data": {
      "text/plain": [
       "Prospect ID                                 0.00\n",
       "Lead Number                                 0.00\n",
       "Lead Origin                                 0.00\n",
       "Lead Source                                 0.00\n",
       "Do Not Email                                0.00\n",
       "Do Not Call                                 0.00\n",
       "Converted                                   0.00\n",
       "TotalVisits                                 0.01\n",
       "Total Time Spent on Website                 0.00\n",
       "Page Views Per Visit                        0.01\n",
       "Last Activity                               0.01\n",
       "Specialization                              0.37\n",
       "How did you hear about X Education          0.78\n",
       "Search                                      0.00\n",
       "Magazine                                    0.00\n",
       "Newspaper Article                           0.00\n",
       "X Education Forums                          0.00\n",
       "Newspaper                                   0.00\n",
       "Digital Advertisement                       0.00\n",
       "Through Recommendations                     0.00\n",
       "Receive More Updates About Our Courses      0.00\n",
       "Update me on Supply Chain Content           0.00\n",
       "Get updates on DM Content                   0.00\n",
       "Lead Profile                                0.74\n",
       "City                                        0.40\n",
       "I agree to pay the amount through cheque    0.00\n",
       "A free copy of Mastering The Interview      0.00\n",
       "Last Notable Activity                       0.00\n",
       "dtype: float64"
      ]
     },
     "execution_count": 333,
     "metadata": {},
     "output_type": "execute_result"
    }
   ],
   "source": [
    "# checking the missing values now \n",
    "\n",
    "round(df.isnull().sum()/len(df.index),2)"
   ]
  },
  {
   "cell_type": "markdown",
   "metadata": {},
   "source": [
    "#### Note"
   ]
  },
  {
   "cell_type": "markdown",
   "metadata": {},
   "source": [
    "- We do not have significant missing values in the dataframe now. We can proceed to the next step. "
   ]
  },
  {
   "cell_type": "code",
   "execution_count": 334,
   "metadata": {},
   "outputs": [
    {
     "data": {
      "text/plain": [
       "(9240, 28)"
      ]
     },
     "execution_count": 334,
     "metadata": {},
     "output_type": "execute_result"
    }
   ],
   "source": [
    "df.shape"
   ]
  },
  {
   "cell_type": "markdown",
   "metadata": {},
   "source": [
    "#### Finding highly skewed columns"
   ]
  },
  {
   "cell_type": "markdown",
   "metadata": {},
   "source": [
    "- Skewed columns are columns that have categorical values but are highly polarised in terms of their data"
   ]
  },
  {
   "cell_type": "code",
   "execution_count": 335,
   "metadata": {},
   "outputs": [
    {
     "data": {
      "text/plain": [
       "Index(['Prospect ID', 'Lead Number', 'Lead Origin', 'Lead Source',\n",
       "       'Do Not Email', 'Do Not Call', 'Converted', 'TotalVisits',\n",
       "       'Total Time Spent on Website', 'Page Views Per Visit', 'Last Activity',\n",
       "       'Specialization', 'How did you hear about X Education', 'Search',\n",
       "       'Magazine', 'Newspaper Article', 'X Education Forums', 'Newspaper',\n",
       "       'Digital Advertisement', 'Through Recommendations',\n",
       "       'Receive More Updates About Our Courses',\n",
       "       'Update me on Supply Chain Content', 'Get updates on DM Content',\n",
       "       'Lead Profile', 'City', 'I agree to pay the amount through cheque',\n",
       "       'A free copy of Mastering The Interview', 'Last Notable Activity'],\n",
       "      dtype='object')"
      ]
     },
     "execution_count": 335,
     "metadata": {},
     "output_type": "execute_result"
    }
   ],
   "source": [
    "df.columns"
   ]
  },
  {
   "cell_type": "code",
   "execution_count": 336,
   "metadata": {},
   "outputs": [
    {
     "data": {
      "text/plain": [
       "Page Views Per Visit\n",
       "0.00    2189\n",
       "2.00    1795\n",
       "3.00    1196\n",
       "4.00     896\n",
       "1.00     651\n",
       "        ... \n",
       "3.43       1\n",
       "2.56       1\n",
       "6.33       1\n",
       "1.64       1\n",
       "2.08       1\n",
       "Name: count, Length: 114, dtype: int64"
      ]
     },
     "execution_count": 336,
     "metadata": {},
     "output_type": "execute_result"
    }
   ],
   "source": [
    "df['Page Views Per Visit'].value_counts()"
   ]
  },
  {
   "cell_type": "code",
   "execution_count": 337,
   "metadata": {},
   "outputs": [],
   "source": [
    "# dropping 'Do Not Call'\n",
    "\n",
    "df.drop('Do Not Call', axis =1 , inplace = True)"
   ]
  },
  {
   "cell_type": "code",
   "execution_count": 338,
   "metadata": {},
   "outputs": [
    {
     "data": {
      "text/plain": [
       "Magazine\n",
       "No    9240\n",
       "Name: count, dtype: int64"
      ]
     },
     "execution_count": 338,
     "metadata": {},
     "output_type": "execute_result"
    }
   ],
   "source": [
    "df['Magazine'].value_counts()"
   ]
  },
  {
   "cell_type": "code",
   "execution_count": 339,
   "metadata": {},
   "outputs": [],
   "source": [
    "# dropping 'Magazine'\n",
    "\n",
    "df.drop('Magazine', axis=1 , inplace = True)"
   ]
  },
  {
   "cell_type": "code",
   "execution_count": 340,
   "metadata": {},
   "outputs": [
    {
     "data": {
      "text/plain": [
       "Search\n",
       "No     9226\n",
       "Yes      14\n",
       "Name: count, dtype: int64"
      ]
     },
     "execution_count": 340,
     "metadata": {},
     "output_type": "execute_result"
    }
   ],
   "source": [
    "df['Search'].value_counts()"
   ]
  },
  {
   "cell_type": "code",
   "execution_count": 341,
   "metadata": {},
   "outputs": [],
   "source": [
    "# dropping 'Search'\n",
    "\n",
    "df.drop('Search' , axis =1, inplace =True)"
   ]
  },
  {
   "cell_type": "code",
   "execution_count": 342,
   "metadata": {},
   "outputs": [
    {
     "data": {
      "text/plain": [
       "Newspaper Article\n",
       "No     9238\n",
       "Yes       2\n",
       "Name: count, dtype: int64"
      ]
     },
     "execution_count": 342,
     "metadata": {},
     "output_type": "execute_result"
    }
   ],
   "source": [
    "df['Newspaper Article'].value_counts()"
   ]
  },
  {
   "cell_type": "code",
   "execution_count": 343,
   "metadata": {},
   "outputs": [],
   "source": [
    "# dropping 'Newspaper Article'\n",
    "\n",
    "df.drop('Newspaper Article', axis =1 , inplace = True)"
   ]
  },
  {
   "cell_type": "code",
   "execution_count": 344,
   "metadata": {},
   "outputs": [
    {
     "data": {
      "text/plain": [
       "X Education Forums\n",
       "No     9239\n",
       "Yes       1\n",
       "Name: count, dtype: int64"
      ]
     },
     "execution_count": 344,
     "metadata": {},
     "output_type": "execute_result"
    }
   ],
   "source": [
    "df['X Education Forums'].value_counts()"
   ]
  },
  {
   "cell_type": "code",
   "execution_count": 345,
   "metadata": {},
   "outputs": [],
   "source": [
    "# dropping 'X Education Forums'\n",
    "\n",
    "df.drop('X Education Forums', axis =1 , inplace = True)"
   ]
  },
  {
   "cell_type": "code",
   "execution_count": 346,
   "metadata": {},
   "outputs": [
    {
     "data": {
      "text/plain": [
       "Newspaper\n",
       "No     9239\n",
       "Yes       1\n",
       "Name: count, dtype: int64"
      ]
     },
     "execution_count": 346,
     "metadata": {},
     "output_type": "execute_result"
    }
   ],
   "source": [
    "df['Newspaper'].value_counts()"
   ]
  },
  {
   "cell_type": "code",
   "execution_count": 347,
   "metadata": {},
   "outputs": [],
   "source": [
    "# dropping 'Newspaper'\n",
    "\n",
    "df.drop('Newspaper', axis=1 , inplace = True)"
   ]
  },
  {
   "cell_type": "code",
   "execution_count": 348,
   "metadata": {},
   "outputs": [
    {
     "data": {
      "text/plain": [
       "Digital Advertisement\n",
       "No     9236\n",
       "Yes       4\n",
       "Name: count, dtype: int64"
      ]
     },
     "execution_count": 348,
     "metadata": {},
     "output_type": "execute_result"
    }
   ],
   "source": [
    "df['Digital Advertisement'].value_counts()"
   ]
  },
  {
   "cell_type": "code",
   "execution_count": 349,
   "metadata": {},
   "outputs": [],
   "source": [
    "# dropping 'Digital Advertisement'\n",
    "\n",
    "df.drop('Digital Advertisement', axis=1 , inplace = True)"
   ]
  },
  {
   "cell_type": "code",
   "execution_count": 350,
   "metadata": {},
   "outputs": [
    {
     "data": {
      "text/plain": [
       "Through Recommendations\n",
       "No     9233\n",
       "Yes       7\n",
       "Name: count, dtype: int64"
      ]
     },
     "execution_count": 350,
     "metadata": {},
     "output_type": "execute_result"
    }
   ],
   "source": [
    "df['Through Recommendations'].value_counts()"
   ]
  },
  {
   "cell_type": "code",
   "execution_count": 351,
   "metadata": {},
   "outputs": [],
   "source": [
    "# dropping 'Through Recommendations'\n",
    "\n",
    "df.drop('Through Recommendations', axis=1 , inplace = True)"
   ]
  },
  {
   "cell_type": "code",
   "execution_count": 352,
   "metadata": {},
   "outputs": [
    {
     "data": {
      "text/plain": [
       "Receive More Updates About Our Courses\n",
       "No    9240\n",
       "Name: count, dtype: int64"
      ]
     },
     "execution_count": 352,
     "metadata": {},
     "output_type": "execute_result"
    }
   ],
   "source": [
    "df['Receive More Updates About Our Courses'].value_counts()"
   ]
  },
  {
   "cell_type": "code",
   "execution_count": 353,
   "metadata": {},
   "outputs": [],
   "source": [
    "# dropping 'Receive More Updates About Our Courses'\n",
    "\n",
    "df.drop('Receive More Updates About Our Courses', axis=1 , inplace = True)"
   ]
  },
  {
   "cell_type": "code",
   "execution_count": 354,
   "metadata": {},
   "outputs": [
    {
     "data": {
      "text/plain": [
       "Update me on Supply Chain Content\n",
       "No    9240\n",
       "Name: count, dtype: int64"
      ]
     },
     "execution_count": 354,
     "metadata": {},
     "output_type": "execute_result"
    }
   ],
   "source": [
    "df['Update me on Supply Chain Content'].value_counts()"
   ]
  },
  {
   "cell_type": "code",
   "execution_count": 355,
   "metadata": {},
   "outputs": [],
   "source": [
    "# dropping 'Update me on Supply Chain Content'\n",
    "\n",
    "df.drop('Update me on Supply Chain Content', axis=1 , inplace = True)"
   ]
  },
  {
   "cell_type": "code",
   "execution_count": 356,
   "metadata": {},
   "outputs": [
    {
     "data": {
      "text/plain": [
       "Get updates on DM Content\n",
       "No    9240\n",
       "Name: count, dtype: int64"
      ]
     },
     "execution_count": 356,
     "metadata": {},
     "output_type": "execute_result"
    }
   ],
   "source": [
    "df['Get updates on DM Content'].value_counts()"
   ]
  },
  {
   "cell_type": "code",
   "execution_count": 357,
   "metadata": {},
   "outputs": [],
   "source": [
    "# dropping 'Get updates on DM Content'\n",
    "\n",
    "df.drop('Get updates on DM Content', axis=1 , inplace = True)"
   ]
  },
  {
   "cell_type": "code",
   "execution_count": 358,
   "metadata": {},
   "outputs": [
    {
     "data": {
      "text/plain": [
       "I agree to pay the amount through cheque\n",
       "No    9240\n",
       "Name: count, dtype: int64"
      ]
     },
     "execution_count": 358,
     "metadata": {},
     "output_type": "execute_result"
    }
   ],
   "source": [
    "df['I agree to pay the amount through cheque'].value_counts()"
   ]
  },
  {
   "cell_type": "code",
   "execution_count": 359,
   "metadata": {},
   "outputs": [],
   "source": [
    " # dropping 'I agree to pay the amount through cheque'\n",
    "\n",
    "df.drop('I agree to pay the amount through cheque', axis=1 , inplace = True)"
   ]
  },
  {
   "cell_type": "markdown",
   "metadata": {},
   "source": [
    "#### Note"
   ]
  },
  {
   "cell_type": "markdown",
   "metadata": {},
   "source": [
    "- The other columns do not have skewed values in the dataframe and we can proceed to the next step"
   ]
  },
  {
   "cell_type": "markdown",
   "metadata": {},
   "source": [
    "#### Checking for categorical columns with less percentage of rows"
   ]
  },
  {
   "cell_type": "code",
   "execution_count": 360,
   "metadata": {},
   "outputs": [
    {
     "data": {
      "text/plain": [
       "Index(['Prospect ID', 'Lead Number', 'Lead Origin', 'Lead Source',\n",
       "       'Do Not Email', 'Converted', 'TotalVisits',\n",
       "       'Total Time Spent on Website', 'Page Views Per Visit', 'Last Activity',\n",
       "       'Specialization', 'How did you hear about X Education', 'Lead Profile',\n",
       "       'City', 'A free copy of Mastering The Interview',\n",
       "       'Last Notable Activity'],\n",
       "      dtype='object')"
      ]
     },
     "execution_count": 360,
     "metadata": {},
     "output_type": "execute_result"
    }
   ],
   "source": [
    "df.columns"
   ]
  },
  {
   "cell_type": "code",
   "execution_count": 361,
   "metadata": {},
   "outputs": [
    {
     "data": {
      "text/plain": [
       "(9240, 16)"
      ]
     },
     "execution_count": 361,
     "metadata": {},
     "output_type": "execute_result"
    }
   ],
   "source": [
    "df.shape"
   ]
  },
  {
   "cell_type": "code",
   "execution_count": 362,
   "metadata": {},
   "outputs": [
    {
     "data": {
      "text/plain": [
       "Lead Source\n",
       "Google               2868\n",
       "Direct Traffic       2543\n",
       "Olark Chat           1755\n",
       "Organic Search       1154\n",
       "Reference             534\n",
       "Welingak Website      142\n",
       "Referral Sites        125\n",
       "Facebook               55\n",
       "bing                    6\n",
       "google                  5\n",
       "Click2call              4\n",
       "Press_Release           2\n",
       "Social Media            2\n",
       "Live Chat               2\n",
       "youtubechannel          1\n",
       "testone                 1\n",
       "Pay per Click Ads       1\n",
       "welearnblog_Home        1\n",
       "WeLearn                 1\n",
       "blog                    1\n",
       "NC_EDM                  1\n",
       "Name: count, dtype: int64"
      ]
     },
     "execution_count": 362,
     "metadata": {},
     "output_type": "execute_result"
    }
   ],
   "source": [
    "df['Lead Source'].value_counts()"
   ]
  },
  {
   "cell_type": "code",
   "execution_count": 363,
   "metadata": {},
   "outputs": [],
   "source": [
    "# putting the values with less than 100 occurences in one category - other\n",
    "\n",
    "lis_ls = ['Facebook','bing','google','Click2call','Live Chat','Social Media','Press_Release','blog','Pay per Click Ads','welearnblog_Home','WeLearn','testone','NC_EDM','youtubechannel']\n",
    "\n",
    "df['Lead Source'] = df['Lead Source'].apply(lambda x : 'Other_ls' if x in lis_ls else x)\n"
   ]
  },
  {
   "cell_type": "code",
   "execution_count": 364,
   "metadata": {},
   "outputs": [
    {
     "data": {
      "text/plain": [
       "Lead Source\n",
       "Google              2868\n",
       "Direct Traffic      2543\n",
       "Olark Chat          1755\n",
       "Organic Search      1154\n",
       "Reference            534\n",
       "Welingak Website     142\n",
       "Referral Sites       125\n",
       "Other_ls              83\n",
       "Name: count, dtype: int64"
      ]
     },
     "execution_count": 364,
     "metadata": {},
     "output_type": "execute_result"
    }
   ],
   "source": [
    "df['Lead Source'].value_counts()"
   ]
  },
  {
   "cell_type": "code",
   "execution_count": 365,
   "metadata": {},
   "outputs": [
    {
     "data": {
      "text/plain": [
       "How did you hear about X Education\n",
       "Online Search            808\n",
       "Word Of Mouth            348\n",
       "Student of SomeSchool    310\n",
       "Other                    186\n",
       "Multiple Sources         152\n",
       "Advertisements            70\n",
       "Social Media              67\n",
       "Email                     26\n",
       "SMS                       23\n",
       "Name: count, dtype: int64"
      ]
     },
     "execution_count": 365,
     "metadata": {},
     "output_type": "execute_result"
    }
   ],
   "source": [
    "df['How did you hear about X Education'].value_counts()"
   ]
  },
  {
   "cell_type": "code",
   "execution_count": 366,
   "metadata": {},
   "outputs": [],
   "source": [
    "# putting the values with less than 100 occurences in one category - other\n",
    "\n",
    "lis_ed = ['Advertisements','Social Media','Email','SMS']\n",
    "\n",
    "df['How did you hear about X Education'] = df['How did you hear about X Education'].apply(lambda x : 'Other_ed' if x in lis_ed else x)"
   ]
  },
  {
   "cell_type": "code",
   "execution_count": 367,
   "metadata": {},
   "outputs": [
    {
     "data": {
      "text/plain": [
       "How did you hear about X Education\n",
       "Online Search            808\n",
       "Word Of Mouth            348\n",
       "Student of SomeSchool    310\n",
       "Other                    186\n",
       "Other_ed                 186\n",
       "Multiple Sources         152\n",
       "Name: count, dtype: int64"
      ]
     },
     "execution_count": 367,
     "metadata": {},
     "output_type": "execute_result"
    }
   ],
   "source": [
    "df['How did you hear about X Education'].value_counts()"
   ]
  },
  {
   "cell_type": "code",
   "execution_count": 368,
   "metadata": {},
   "outputs": [
    {
     "data": {
      "text/plain": [
       "Lead Profile\n",
       "Potential Lead                 1613\n",
       "Other Leads                     487\n",
       "Student of SomeSchool           241\n",
       "Lateral Student                  24\n",
       "Dual Specialization Student      20\n",
       "Name: count, dtype: int64"
      ]
     },
     "execution_count": 368,
     "metadata": {},
     "output_type": "execute_result"
    }
   ],
   "source": [
    "df['Lead Profile'].value_counts()"
   ]
  },
  {
   "cell_type": "code",
   "execution_count": 369,
   "metadata": {},
   "outputs": [],
   "source": [
    "lis_lp = ['Lateral Student','Dual Specialization Student']\n",
    "\n",
    "df['Lead Profile'] = df['Lead Profile'].apply(lambda x : 'Other_lp' if x in lis_lp else x)"
   ]
  },
  {
   "cell_type": "code",
   "execution_count": 370,
   "metadata": {},
   "outputs": [
    {
     "data": {
      "text/plain": [
       "Lead Profile\n",
       "Potential Lead           1613\n",
       "Other Leads               487\n",
       "Student of SomeSchool     241\n",
       "Other_lp                   44\n",
       "Name: count, dtype: int64"
      ]
     },
     "execution_count": 370,
     "metadata": {},
     "output_type": "execute_result"
    }
   ],
   "source": [
    "df['Lead Profile'].value_counts()"
   ]
  },
  {
   "cell_type": "code",
   "execution_count": 371,
   "metadata": {},
   "outputs": [
    {
     "data": {
      "text/plain": [
       "Last Activity\n",
       "Email Opened                    3437\n",
       "SMS Sent                        2745\n",
       "Olark Chat Conversation          973\n",
       "Page Visited on Website          640\n",
       "Converted to Lead                428\n",
       "Email Bounced                    326\n",
       "Email Link Clicked               267\n",
       "Form Submitted on Website        116\n",
       "Unreachable                       93\n",
       "Unsubscribed                      61\n",
       "Had a Phone Conversation          30\n",
       "Approached upfront                 9\n",
       "View in browser link Clicked       6\n",
       "Email Received                     2\n",
       "Email Marked Spam                  2\n",
       "Visited Booth in Tradeshow         1\n",
       "Resubscribed to emails             1\n",
       "Name: count, dtype: int64"
      ]
     },
     "execution_count": 371,
     "metadata": {},
     "output_type": "execute_result"
    }
   ],
   "source": [
    "df['Last Activity'].value_counts()"
   ]
  },
  {
   "cell_type": "code",
   "execution_count": 372,
   "metadata": {},
   "outputs": [],
   "source": [
    "lis_la = ['Unreachable','Unsubscribed','Had a Phone Conversation','View in browser link Clicked','Approached upfront','Email Marked Spam','Email Received','Resubscribed to emails','Visited Booth in Tradeshow']\n",
    "\n",
    "df['Last Activity'] = df['Last Activity'].apply(lambda x : 'Other_la' if x in lis_la else x)"
   ]
  },
  {
   "cell_type": "code",
   "execution_count": 373,
   "metadata": {},
   "outputs": [
    {
     "data": {
      "text/plain": [
       "Last Activity\n",
       "Email Opened                 3437\n",
       "SMS Sent                     2745\n",
       "Olark Chat Conversation       973\n",
       "Page Visited on Website       640\n",
       "Converted to Lead             428\n",
       "Email Bounced                 326\n",
       "Email Link Clicked            267\n",
       "Other_la                      205\n",
       "Form Submitted on Website     116\n",
       "Name: count, dtype: int64"
      ]
     },
     "execution_count": 373,
     "metadata": {},
     "output_type": "execute_result"
    }
   ],
   "source": [
    "df['Last Activity'].value_counts()"
   ]
  },
  {
   "cell_type": "code",
   "execution_count": 374,
   "metadata": {},
   "outputs": [
    {
     "data": {
      "text/plain": [
       "Last Notable Activity\n",
       "Modified                        3407\n",
       "Email Opened                    2827\n",
       "SMS Sent                        2172\n",
       "Page Visited on Website          318\n",
       "Olark Chat Conversation          183\n",
       "Email Link Clicked               173\n",
       "Email Bounced                     60\n",
       "Unsubscribed                      47\n",
       "Unreachable                       32\n",
       "Had a Phone Conversation          14\n",
       "Email Marked Spam                  2\n",
       "Approached upfront                 1\n",
       "Resubscribed to emails             1\n",
       "View in browser link Clicked       1\n",
       "Form Submitted on Website          1\n",
       "Email Received                     1\n",
       "Name: count, dtype: int64"
      ]
     },
     "execution_count": 374,
     "metadata": {},
     "output_type": "execute_result"
    }
   ],
   "source": [
    "df['Last Notable Activity'].value_counts()"
   ]
  },
  {
   "cell_type": "code",
   "execution_count": 375,
   "metadata": {},
   "outputs": [],
   "source": [
    "lis_na = ['Email Bounced','Unsubscribed','Unreachable','Had a Phone Conversation','Email Marked Spam','Resubscribed to emails','Email Received','Form Submitted on Website','View in browser link Clicked','Approached upfront']\n",
    "\n",
    "df['Last Notable Activity'] = df['Last Notable Activity'].apply(lambda x : 'Other_na' if x in lis_na else x)"
   ]
  },
  {
   "cell_type": "code",
   "execution_count": 376,
   "metadata": {},
   "outputs": [
    {
     "data": {
      "text/plain": [
       "Last Notable Activity\n",
       "Modified                   3407\n",
       "Email Opened               2827\n",
       "SMS Sent                   2172\n",
       "Page Visited on Website     318\n",
       "Olark Chat Conversation     183\n",
       "Email Link Clicked          173\n",
       "Other_na                    160\n",
       "Name: count, dtype: int64"
      ]
     },
     "execution_count": 376,
     "metadata": {},
     "output_type": "execute_result"
    }
   ],
   "source": [
    "df['Last Notable Activity'].value_counts()"
   ]
  },
  {
   "cell_type": "code",
   "execution_count": 377,
   "metadata": {},
   "outputs": [
    {
     "data": {
      "text/plain": [
       "Prospect ID                               0.00\n",
       "Lead Number                               0.00\n",
       "Lead Origin                               0.00\n",
       "Lead Source                               0.00\n",
       "Do Not Email                              0.00\n",
       "Converted                                 0.00\n",
       "TotalVisits                               0.01\n",
       "Total Time Spent on Website               0.00\n",
       "Page Views Per Visit                      0.01\n",
       "Last Activity                             0.01\n",
       "Specialization                            0.37\n",
       "How did you hear about X Education        0.78\n",
       "Lead Profile                              0.74\n",
       "City                                      0.40\n",
       "A free copy of Mastering The Interview    0.00\n",
       "Last Notable Activity                     0.00\n",
       "dtype: float64"
      ]
     },
     "execution_count": 377,
     "metadata": {},
     "output_type": "execute_result"
    }
   ],
   "source": [
    "round(df.isnull().sum()/len(df.index),2)"
   ]
  },
  {
   "cell_type": "markdown",
   "metadata": {},
   "source": [
    "#### Removing any remaining null values"
   ]
  },
  {
   "cell_type": "code",
   "execution_count": 378,
   "metadata": {},
   "outputs": [
    {
     "data": {
      "text/plain": [
       "Prospect ID                               0.00\n",
       "Lead Number                               0.00\n",
       "Lead Origin                               0.00\n",
       "Lead Source                               0.00\n",
       "Do Not Email                              0.00\n",
       "Converted                                 0.00\n",
       "TotalVisits                               0.01\n",
       "Total Time Spent on Website               0.00\n",
       "Page Views Per Visit                      0.01\n",
       "Last Activity                             0.01\n",
       "Specialization                            0.37\n",
       "How did you hear about X Education        0.78\n",
       "Lead Profile                              0.74\n",
       "City                                      0.40\n",
       "A free copy of Mastering The Interview    0.00\n",
       "Last Notable Activity                     0.00\n",
       "dtype: float64"
      ]
     },
     "execution_count": 378,
     "metadata": {},
     "output_type": "execute_result"
    }
   ],
   "source": [
    "round(df.isnull().sum()/len(df.index),2)"
   ]
  },
  {
   "cell_type": "code",
   "execution_count": 379,
   "metadata": {},
   "outputs": [
    {
     "data": {
      "text/plain": [
       "(9240, 16)"
      ]
     },
     "execution_count": 379,
     "metadata": {},
     "output_type": "execute_result"
    }
   ],
   "source": [
    "df.shape"
   ]
  },
  {
   "cell_type": "code",
   "execution_count": 380,
   "metadata": {},
   "outputs": [],
   "source": [
    "# dropping the null values in the remaiaining columns as their number is very small \n",
    "\n",
    "df.dropna(inplace = True)"
   ]
  },
  {
   "cell_type": "code",
   "execution_count": 381,
   "metadata": {},
   "outputs": [
    {
     "data": {
      "text/plain": [
       "Prospect ID                               0.0\n",
       "Lead Number                               0.0\n",
       "Lead Origin                               0.0\n",
       "Lead Source                               0.0\n",
       "Do Not Email                              0.0\n",
       "Converted                                 0.0\n",
       "TotalVisits                               0.0\n",
       "Total Time Spent on Website               0.0\n",
       "Page Views Per Visit                      0.0\n",
       "Last Activity                             0.0\n",
       "Specialization                            0.0\n",
       "How did you hear about X Education        0.0\n",
       "Lead Profile                              0.0\n",
       "City                                      0.0\n",
       "A free copy of Mastering The Interview    0.0\n",
       "Last Notable Activity                     0.0\n",
       "dtype: float64"
      ]
     },
     "execution_count": 381,
     "metadata": {},
     "output_type": "execute_result"
    }
   ],
   "source": [
    "# checking for the null variables \n",
    "\n",
    "round(df.isnull().sum()/len(df.index),2)"
   ]
  },
  {
   "cell_type": "code",
   "execution_count": 382,
   "metadata": {},
   "outputs": [
    {
     "data": {
      "text/plain": [
       "(519, 16)"
      ]
     },
     "execution_count": 382,
     "metadata": {},
     "output_type": "execute_result"
    }
   ],
   "source": [
    "df.shape"
   ]
  },
  {
   "cell_type": "code",
   "execution_count": 383,
   "metadata": {},
   "outputs": [
    {
     "name": "stdout",
     "output_type": "stream",
     "text": [
      "0.05616883116883117\n"
     ]
    }
   ],
   "source": [
    "#### Checking the percentage of the rows that are left\n",
    "\n",
    "a = len(df.index)/9240\n",
    "print(a)"
   ]
  },
  {
   "cell_type": "code",
   "execution_count": 384,
   "metadata": {},
   "outputs": [],
   "source": [
    "# We have retainied more than 98 percentage of the rows after removing the null values "
   ]
  },
  {
   "cell_type": "markdown",
   "metadata": {},
   "source": [
    "#### Creating Dummies for all the categorical variables "
   ]
  },
  {
   "cell_type": "code",
   "execution_count": 385,
   "metadata": {},
   "outputs": [
    {
     "name": "stdout",
     "output_type": "stream",
     "text": [
      "<class 'pandas.core.frame.DataFrame'>\n",
      "Index: 519 entries, 6 to 9231\n",
      "Data columns (total 16 columns):\n",
      " #   Column                                  Non-Null Count  Dtype  \n",
      "---  ------                                  --------------  -----  \n",
      " 0   Prospect ID                             519 non-null    object \n",
      " 1   Lead Number                             519 non-null    int64  \n",
      " 2   Lead Origin                             519 non-null    object \n",
      " 3   Lead Source                             519 non-null    object \n",
      " 4   Do Not Email                            519 non-null    object \n",
      " 5   Converted                               519 non-null    int64  \n",
      " 6   TotalVisits                             519 non-null    float64\n",
      " 7   Total Time Spent on Website             519 non-null    int64  \n",
      " 8   Page Views Per Visit                    519 non-null    float64\n",
      " 9   Last Activity                           519 non-null    object \n",
      " 10  Specialization                          519 non-null    object \n",
      " 11  How did you hear about X Education      519 non-null    object \n",
      " 12  Lead Profile                            519 non-null    object \n",
      " 13  City                                    519 non-null    object \n",
      " 14  A free copy of Mastering The Interview  519 non-null    object \n",
      " 15  Last Notable Activity                   519 non-null    object \n",
      "dtypes: float64(2), int64(3), object(11)\n",
      "memory usage: 68.9+ KB\n"
     ]
    }
   ],
   "source": [
    "df.info()"
   ]
  },
  {
   "cell_type": "markdown",
   "metadata": {},
   "source": [
    "#### Variable One : Lead Origin"
   ]
  },
  {
   "cell_type": "code",
   "execution_count": 386,
   "metadata": {},
   "outputs": [
    {
     "data": {
      "text/html": [
       "<div>\n",
       "<style scoped>\n",
       "    .dataframe tbody tr th:only-of-type {\n",
       "        vertical-align: middle;\n",
       "    }\n",
       "\n",
       "    .dataframe tbody tr th {\n",
       "        vertical-align: top;\n",
       "    }\n",
       "\n",
       "    .dataframe thead th {\n",
       "        text-align: right;\n",
       "    }\n",
       "</style>\n",
       "<table border=\"1\" class=\"dataframe\">\n",
       "  <thead>\n",
       "    <tr style=\"text-align: right;\">\n",
       "      <th></th>\n",
       "      <th>Landing Page Submission</th>\n",
       "      <th>Lead Add Form</th>\n",
       "    </tr>\n",
       "  </thead>\n",
       "  <tbody>\n",
       "    <tr>\n",
       "      <th>6</th>\n",
       "      <td>1</td>\n",
       "      <td>0</td>\n",
       "    </tr>\n",
       "    <tr>\n",
       "      <th>22</th>\n",
       "      <td>1</td>\n",
       "      <td>0</td>\n",
       "    </tr>\n",
       "    <tr>\n",
       "      <th>27</th>\n",
       "      <td>1</td>\n",
       "      <td>0</td>\n",
       "    </tr>\n",
       "    <tr>\n",
       "      <th>37</th>\n",
       "      <td>1</td>\n",
       "      <td>0</td>\n",
       "    </tr>\n",
       "    <tr>\n",
       "      <th>39</th>\n",
       "      <td>1</td>\n",
       "      <td>0</td>\n",
       "    </tr>\n",
       "  </tbody>\n",
       "</table>\n",
       "</div>"
      ],
      "text/plain": [
       "    Landing Page Submission  Lead Add Form\n",
       "6                         1              0\n",
       "22                        1              0\n",
       "27                        1              0\n",
       "37                        1              0\n",
       "39                        1              0"
      ]
     },
     "execution_count": 386,
     "metadata": {},
     "output_type": "execute_result"
    }
   ],
   "source": [
    "leadorigin_dummy = pd.get_dummies(df['Lead Origin'], drop_first = True, dtype = int)\n",
    "leadorigin_dummy.head()"
   ]
  },
  {
   "cell_type": "markdown",
   "metadata": {},
   "source": [
    "#### Variable Two : Lead Source"
   ]
  },
  {
   "cell_type": "code",
   "execution_count": 387,
   "metadata": {},
   "outputs": [
    {
     "data": {
      "text/html": [
       "<div>\n",
       "<style scoped>\n",
       "    .dataframe tbody tr th:only-of-type {\n",
       "        vertical-align: middle;\n",
       "    }\n",
       "\n",
       "    .dataframe tbody tr th {\n",
       "        vertical-align: top;\n",
       "    }\n",
       "\n",
       "    .dataframe thead th {\n",
       "        text-align: right;\n",
       "    }\n",
       "</style>\n",
       "<table border=\"1\" class=\"dataframe\">\n",
       "  <thead>\n",
       "    <tr style=\"text-align: right;\">\n",
       "      <th></th>\n",
       "      <th>Google</th>\n",
       "      <th>Olark Chat</th>\n",
       "      <th>Organic Search</th>\n",
       "      <th>Other_ls</th>\n",
       "      <th>Reference</th>\n",
       "      <th>Referral Sites</th>\n",
       "    </tr>\n",
       "  </thead>\n",
       "  <tbody>\n",
       "    <tr>\n",
       "      <th>6</th>\n",
       "      <td>1</td>\n",
       "      <td>0</td>\n",
       "      <td>0</td>\n",
       "      <td>0</td>\n",
       "      <td>0</td>\n",
       "      <td>0</td>\n",
       "    </tr>\n",
       "    <tr>\n",
       "      <th>22</th>\n",
       "      <td>1</td>\n",
       "      <td>0</td>\n",
       "      <td>0</td>\n",
       "      <td>0</td>\n",
       "      <td>0</td>\n",
       "      <td>0</td>\n",
       "    </tr>\n",
       "    <tr>\n",
       "      <th>27</th>\n",
       "      <td>1</td>\n",
       "      <td>0</td>\n",
       "      <td>0</td>\n",
       "      <td>0</td>\n",
       "      <td>0</td>\n",
       "      <td>0</td>\n",
       "    </tr>\n",
       "    <tr>\n",
       "      <th>37</th>\n",
       "      <td>1</td>\n",
       "      <td>0</td>\n",
       "      <td>0</td>\n",
       "      <td>0</td>\n",
       "      <td>0</td>\n",
       "      <td>0</td>\n",
       "    </tr>\n",
       "    <tr>\n",
       "      <th>39</th>\n",
       "      <td>1</td>\n",
       "      <td>0</td>\n",
       "      <td>0</td>\n",
       "      <td>0</td>\n",
       "      <td>0</td>\n",
       "      <td>0</td>\n",
       "    </tr>\n",
       "  </tbody>\n",
       "</table>\n",
       "</div>"
      ],
      "text/plain": [
       "    Google  Olark Chat  Organic Search  Other_ls  Reference  Referral Sites\n",
       "6        1           0               0         0          0               0\n",
       "22       1           0               0         0          0               0\n",
       "27       1           0               0         0          0               0\n",
       "37       1           0               0         0          0               0\n",
       "39       1           0               0         0          0               0"
      ]
     },
     "execution_count": 387,
     "metadata": {},
     "output_type": "execute_result"
    }
   ],
   "source": [
    "leadsource_dummy = pd.get_dummies(df['Lead Source'], drop_first = True ,dtype = int)\n",
    "leadsource_dummy.head()"
   ]
  },
  {
   "cell_type": "markdown",
   "metadata": {},
   "source": [
    "#### Variable Three : Do Not Email"
   ]
  },
  {
   "cell_type": "code",
   "execution_count": 388,
   "metadata": {},
   "outputs": [],
   "source": [
    "# creating a function to clearly mention the yes and its related variable\n",
    "\n",
    "def email(x):\n",
    "    if x == 'Yes':\n",
    "        return 'yes_email'\n",
    "    else:\n",
    "        return 'no_email'"
   ]
  },
  {
   "cell_type": "code",
   "execution_count": 389,
   "metadata": {},
   "outputs": [],
   "source": [
    "\n",
    "df['Do Not Email'] = df['Do Not Email'].apply(email)"
   ]
  },
  {
   "cell_type": "code",
   "execution_count": 390,
   "metadata": {},
   "outputs": [
    {
     "data": {
      "text/html": [
       "<div>\n",
       "<style scoped>\n",
       "    .dataframe tbody tr th:only-of-type {\n",
       "        vertical-align: middle;\n",
       "    }\n",
       "\n",
       "    .dataframe tbody tr th {\n",
       "        vertical-align: top;\n",
       "    }\n",
       "\n",
       "    .dataframe thead th {\n",
       "        text-align: right;\n",
       "    }\n",
       "</style>\n",
       "<table border=\"1\" class=\"dataframe\">\n",
       "  <thead>\n",
       "    <tr style=\"text-align: right;\">\n",
       "      <th></th>\n",
       "      <th>yes_email</th>\n",
       "    </tr>\n",
       "  </thead>\n",
       "  <tbody>\n",
       "    <tr>\n",
       "      <th>6</th>\n",
       "      <td>0</td>\n",
       "    </tr>\n",
       "    <tr>\n",
       "      <th>22</th>\n",
       "      <td>0</td>\n",
       "    </tr>\n",
       "    <tr>\n",
       "      <th>27</th>\n",
       "      <td>0</td>\n",
       "    </tr>\n",
       "    <tr>\n",
       "      <th>37</th>\n",
       "      <td>0</td>\n",
       "    </tr>\n",
       "    <tr>\n",
       "      <th>39</th>\n",
       "      <td>0</td>\n",
       "    </tr>\n",
       "  </tbody>\n",
       "</table>\n",
       "</div>"
      ],
      "text/plain": [
       "    yes_email\n",
       "6           0\n",
       "22          0\n",
       "27          0\n",
       "37          0\n",
       "39          0"
      ]
     },
     "execution_count": 390,
     "metadata": {},
     "output_type": "execute_result"
    }
   ],
   "source": [
    "donotemail_dummy = pd.get_dummies(df['Do Not Email'], drop_first = True,dtype = int)\n",
    "donotemail_dummy.head()"
   ]
  },
  {
   "cell_type": "markdown",
   "metadata": {},
   "source": [
    "#### Variable Four : Last Activity "
   ]
  },
  {
   "cell_type": "code",
   "execution_count": 391,
   "metadata": {},
   "outputs": [],
   "source": [
    "def sms(x):\n",
    "    if x == 'SMS Sent':\n",
    "        return 'sms_sent_la'\n",
    "    if x == 'Olark Chat Conversation':\n",
    "        return 'Olark_Chat_Conversation_la'\n",
    "    else:\n",
    "        return x"
   ]
  },
  {
   "cell_type": "code",
   "execution_count": 392,
   "metadata": {},
   "outputs": [],
   "source": [
    "df['Last Activity'] = df['Last Activity'].apply(sms)"
   ]
  },
  {
   "cell_type": "code",
   "execution_count": 393,
   "metadata": {},
   "outputs": [
    {
     "data": {
      "text/plain": [
       "Last Activity\n",
       "Email Opened                  263\n",
       "sms_sent_la                   126\n",
       "Page Visited on Website        44\n",
       "Converted to Lead              21\n",
       "Form Submitted on Website      20\n",
       "Other_la                       14\n",
       "Email Link Clicked             14\n",
       "Olark_Chat_Conversation_la     12\n",
       "Email Bounced                   5\n",
       "Name: count, dtype: int64"
      ]
     },
     "execution_count": 393,
     "metadata": {},
     "output_type": "execute_result"
    }
   ],
   "source": [
    "df['Last Activity'].value_counts()"
   ]
  },
  {
   "cell_type": "code",
   "execution_count": 394,
   "metadata": {},
   "outputs": [
    {
     "data": {
      "text/html": [
       "<div>\n",
       "<style scoped>\n",
       "    .dataframe tbody tr th:only-of-type {\n",
       "        vertical-align: middle;\n",
       "    }\n",
       "\n",
       "    .dataframe tbody tr th {\n",
       "        vertical-align: top;\n",
       "    }\n",
       "\n",
       "    .dataframe thead th {\n",
       "        text-align: right;\n",
       "    }\n",
       "</style>\n",
       "<table border=\"1\" class=\"dataframe\">\n",
       "  <thead>\n",
       "    <tr style=\"text-align: right;\">\n",
       "      <th></th>\n",
       "      <th>Email Bounced</th>\n",
       "      <th>Email Link Clicked</th>\n",
       "      <th>Email Opened</th>\n",
       "      <th>Form Submitted on Website</th>\n",
       "      <th>Olark_Chat_Conversation_la</th>\n",
       "      <th>Other_la</th>\n",
       "      <th>Page Visited on Website</th>\n",
       "      <th>sms_sent_la</th>\n",
       "    </tr>\n",
       "  </thead>\n",
       "  <tbody>\n",
       "    <tr>\n",
       "      <th>6</th>\n",
       "      <td>0</td>\n",
       "      <td>0</td>\n",
       "      <td>1</td>\n",
       "      <td>0</td>\n",
       "      <td>0</td>\n",
       "      <td>0</td>\n",
       "      <td>0</td>\n",
       "      <td>0</td>\n",
       "    </tr>\n",
       "    <tr>\n",
       "      <th>22</th>\n",
       "      <td>0</td>\n",
       "      <td>0</td>\n",
       "      <td>0</td>\n",
       "      <td>0</td>\n",
       "      <td>0</td>\n",
       "      <td>0</td>\n",
       "      <td>0</td>\n",
       "      <td>0</td>\n",
       "    </tr>\n",
       "    <tr>\n",
       "      <th>27</th>\n",
       "      <td>0</td>\n",
       "      <td>0</td>\n",
       "      <td>1</td>\n",
       "      <td>0</td>\n",
       "      <td>0</td>\n",
       "      <td>0</td>\n",
       "      <td>0</td>\n",
       "      <td>0</td>\n",
       "    </tr>\n",
       "    <tr>\n",
       "      <th>37</th>\n",
       "      <td>0</td>\n",
       "      <td>0</td>\n",
       "      <td>1</td>\n",
       "      <td>0</td>\n",
       "      <td>0</td>\n",
       "      <td>0</td>\n",
       "      <td>0</td>\n",
       "      <td>0</td>\n",
       "    </tr>\n",
       "    <tr>\n",
       "      <th>39</th>\n",
       "      <td>0</td>\n",
       "      <td>0</td>\n",
       "      <td>1</td>\n",
       "      <td>0</td>\n",
       "      <td>0</td>\n",
       "      <td>0</td>\n",
       "      <td>0</td>\n",
       "      <td>0</td>\n",
       "    </tr>\n",
       "  </tbody>\n",
       "</table>\n",
       "</div>"
      ],
      "text/plain": [
       "    Email Bounced  Email Link Clicked  Email Opened  \\\n",
       "6               0                   0             1   \n",
       "22              0                   0             0   \n",
       "27              0                   0             1   \n",
       "37              0                   0             1   \n",
       "39              0                   0             1   \n",
       "\n",
       "    Form Submitted on Website  Olark_Chat_Conversation_la  Other_la  \\\n",
       "6                           0                           0         0   \n",
       "22                          0                           0         0   \n",
       "27                          0                           0         0   \n",
       "37                          0                           0         0   \n",
       "39                          0                           0         0   \n",
       "\n",
       "    Page Visited on Website  sms_sent_la  \n",
       "6                         0            0  \n",
       "22                        0            0  \n",
       "27                        0            0  \n",
       "37                        0            0  \n",
       "39                        0            0  "
      ]
     },
     "execution_count": 394,
     "metadata": {},
     "output_type": "execute_result"
    }
   ],
   "source": [
    "lastactivity_dummy = pd.get_dummies(df['Last Activity'], drop_first = True,dtype = int)\n",
    "lastactivity_dummy.head()"
   ]
  },
  {
   "cell_type": "markdown",
   "metadata": {},
   "source": [
    "#### Variable Five : Specialization "
   ]
  },
  {
   "cell_type": "code",
   "execution_count": 395,
   "metadata": {},
   "outputs": [
    {
     "data": {
      "text/plain": [
       "Specialization\n",
       "Finance Management                   96\n",
       "Human Resource Management            77\n",
       "Marketing Management                 77\n",
       "Business Administration              51\n",
       "Banking, Investment And Insurance    40\n",
       "Operations Management                36\n",
       "IT Projects Management               32\n",
       "Supply Chain Management              29\n",
       "Media and Advertising                18\n",
       "International Business               16\n",
       "Retail Management                    14\n",
       "Travel and Tourism                    9\n",
       "E-Business                            8\n",
       "Hospitality Management                7\n",
       "Healthcare Management                 3\n",
       "E-COMMERCE                            3\n",
       "Rural and Agribusiness                3\n",
       "Name: count, dtype: int64"
      ]
     },
     "execution_count": 395,
     "metadata": {},
     "output_type": "execute_result"
    }
   ],
   "source": [
    "df['Specialization'].value_counts()"
   ]
  },
  {
   "cell_type": "code",
   "execution_count": 396,
   "metadata": {},
   "outputs": [],
   "source": [
    "def specs(x):\n",
    "    if x == 'Select':\n",
    "        return 'select_specs'\n",
    "    else:\n",
    "        return x"
   ]
  },
  {
   "cell_type": "code",
   "execution_count": 397,
   "metadata": {},
   "outputs": [],
   "source": [
    "df['Specialization'] = df['Specialization'].apply(specs)"
   ]
  },
  {
   "cell_type": "code",
   "execution_count": 398,
   "metadata": {},
   "outputs": [
    {
     "data": {
      "text/html": [
       "<div>\n",
       "<style scoped>\n",
       "    .dataframe tbody tr th:only-of-type {\n",
       "        vertical-align: middle;\n",
       "    }\n",
       "\n",
       "    .dataframe tbody tr th {\n",
       "        vertical-align: top;\n",
       "    }\n",
       "\n",
       "    .dataframe thead th {\n",
       "        text-align: right;\n",
       "    }\n",
       "</style>\n",
       "<table border=\"1\" class=\"dataframe\">\n",
       "  <thead>\n",
       "    <tr style=\"text-align: right;\">\n",
       "      <th></th>\n",
       "      <th>Business Administration</th>\n",
       "      <th>E-Business</th>\n",
       "      <th>E-COMMERCE</th>\n",
       "      <th>Finance Management</th>\n",
       "      <th>Healthcare Management</th>\n",
       "      <th>Hospitality Management</th>\n",
       "      <th>Human Resource Management</th>\n",
       "      <th>IT Projects Management</th>\n",
       "      <th>International Business</th>\n",
       "      <th>Marketing Management</th>\n",
       "      <th>Media and Advertising</th>\n",
       "      <th>Operations Management</th>\n",
       "      <th>Retail Management</th>\n",
       "      <th>Rural and Agribusiness</th>\n",
       "      <th>Supply Chain Management</th>\n",
       "      <th>Travel and Tourism</th>\n",
       "    </tr>\n",
       "  </thead>\n",
       "  <tbody>\n",
       "    <tr>\n",
       "      <th>6</th>\n",
       "      <td>0</td>\n",
       "      <td>0</td>\n",
       "      <td>0</td>\n",
       "      <td>0</td>\n",
       "      <td>0</td>\n",
       "      <td>0</td>\n",
       "      <td>0</td>\n",
       "      <td>0</td>\n",
       "      <td>0</td>\n",
       "      <td>0</td>\n",
       "      <td>0</td>\n",
       "      <td>0</td>\n",
       "      <td>0</td>\n",
       "      <td>0</td>\n",
       "      <td>1</td>\n",
       "      <td>0</td>\n",
       "    </tr>\n",
       "    <tr>\n",
       "      <th>22</th>\n",
       "      <td>0</td>\n",
       "      <td>0</td>\n",
       "      <td>0</td>\n",
       "      <td>0</td>\n",
       "      <td>0</td>\n",
       "      <td>0</td>\n",
       "      <td>0</td>\n",
       "      <td>0</td>\n",
       "      <td>0</td>\n",
       "      <td>0</td>\n",
       "      <td>0</td>\n",
       "      <td>0</td>\n",
       "      <td>0</td>\n",
       "      <td>0</td>\n",
       "      <td>0</td>\n",
       "      <td>0</td>\n",
       "    </tr>\n",
       "    <tr>\n",
       "      <th>27</th>\n",
       "      <td>0</td>\n",
       "      <td>0</td>\n",
       "      <td>0</td>\n",
       "      <td>0</td>\n",
       "      <td>0</td>\n",
       "      <td>0</td>\n",
       "      <td>0</td>\n",
       "      <td>0</td>\n",
       "      <td>0</td>\n",
       "      <td>0</td>\n",
       "      <td>1</td>\n",
       "      <td>0</td>\n",
       "      <td>0</td>\n",
       "      <td>0</td>\n",
       "      <td>0</td>\n",
       "      <td>0</td>\n",
       "    </tr>\n",
       "    <tr>\n",
       "      <th>37</th>\n",
       "      <td>0</td>\n",
       "      <td>0</td>\n",
       "      <td>0</td>\n",
       "      <td>1</td>\n",
       "      <td>0</td>\n",
       "      <td>0</td>\n",
       "      <td>0</td>\n",
       "      <td>0</td>\n",
       "      <td>0</td>\n",
       "      <td>0</td>\n",
       "      <td>0</td>\n",
       "      <td>0</td>\n",
       "      <td>0</td>\n",
       "      <td>0</td>\n",
       "      <td>0</td>\n",
       "      <td>0</td>\n",
       "    </tr>\n",
       "    <tr>\n",
       "      <th>39</th>\n",
       "      <td>0</td>\n",
       "      <td>0</td>\n",
       "      <td>0</td>\n",
       "      <td>0</td>\n",
       "      <td>0</td>\n",
       "      <td>0</td>\n",
       "      <td>0</td>\n",
       "      <td>0</td>\n",
       "      <td>0</td>\n",
       "      <td>0</td>\n",
       "      <td>0</td>\n",
       "      <td>1</td>\n",
       "      <td>0</td>\n",
       "      <td>0</td>\n",
       "      <td>0</td>\n",
       "      <td>0</td>\n",
       "    </tr>\n",
       "  </tbody>\n",
       "</table>\n",
       "</div>"
      ],
      "text/plain": [
       "    Business Administration  E-Business  E-COMMERCE  Finance Management  \\\n",
       "6                         0           0           0                   0   \n",
       "22                        0           0           0                   0   \n",
       "27                        0           0           0                   0   \n",
       "37                        0           0           0                   1   \n",
       "39                        0           0           0                   0   \n",
       "\n",
       "    Healthcare Management  Hospitality Management  Human Resource Management  \\\n",
       "6                       0                       0                          0   \n",
       "22                      0                       0                          0   \n",
       "27                      0                       0                          0   \n",
       "37                      0                       0                          0   \n",
       "39                      0                       0                          0   \n",
       "\n",
       "    IT Projects Management  International Business  Marketing Management  \\\n",
       "6                        0                       0                     0   \n",
       "22                       0                       0                     0   \n",
       "27                       0                       0                     0   \n",
       "37                       0                       0                     0   \n",
       "39                       0                       0                     0   \n",
       "\n",
       "    Media and Advertising  Operations Management  Retail Management  \\\n",
       "6                       0                      0                  0   \n",
       "22                      0                      0                  0   \n",
       "27                      1                      0                  0   \n",
       "37                      0                      0                  0   \n",
       "39                      0                      1                  0   \n",
       "\n",
       "    Rural and Agribusiness  Supply Chain Management  Travel and Tourism  \n",
       "6                        0                        1                   0  \n",
       "22                       0                        0                   0  \n",
       "27                       0                        0                   0  \n",
       "37                       0                        0                   0  \n",
       "39                       0                        0                   0  "
      ]
     },
     "execution_count": 398,
     "metadata": {},
     "output_type": "execute_result"
    }
   ],
   "source": [
    "specialization_dummy = pd.get_dummies(df['Specialization'], drop_first = True,dtype = int)\n",
    "specialization_dummy.head()"
   ]
  },
  {
   "cell_type": "markdown",
   "metadata": {},
   "source": [
    "#### Variable Six : How did you hear about X Education"
   ]
  },
  {
   "cell_type": "code",
   "execution_count": 399,
   "metadata": {},
   "outputs": [
    {
     "data": {
      "text/plain": [
       "How did you hear about X Education\n",
       "Online Search            217\n",
       "Student of SomeSchool     93\n",
       "Word Of Mouth             87\n",
       "Other_ed                  46\n",
       "Other                     45\n",
       "Multiple Sources          31\n",
       "Name: count, dtype: int64"
      ]
     },
     "execution_count": 399,
     "metadata": {},
     "output_type": "execute_result"
    }
   ],
   "source": [
    "df['How did you hear about X Education'].value_counts()"
   ]
  },
  {
   "cell_type": "code",
   "execution_count": 400,
   "metadata": {},
   "outputs": [],
   "source": [
    "def edu (x):\n",
    "    if x == 'Student of SomeSchool':\n",
    "        return 'edu_someschool'\n",
    "    else:\n",
    "        return x"
   ]
  },
  {
   "cell_type": "code",
   "execution_count": 401,
   "metadata": {},
   "outputs": [],
   "source": [
    "df['How did you hear about X Education'] = df['How did you hear about X Education'].apply(edu)"
   ]
  },
  {
   "cell_type": "code",
   "execution_count": 402,
   "metadata": {},
   "outputs": [
    {
     "data": {
      "text/html": [
       "<div>\n",
       "<style scoped>\n",
       "    .dataframe tbody tr th:only-of-type {\n",
       "        vertical-align: middle;\n",
       "    }\n",
       "\n",
       "    .dataframe tbody tr th {\n",
       "        vertical-align: top;\n",
       "    }\n",
       "\n",
       "    .dataframe thead th {\n",
       "        text-align: right;\n",
       "    }\n",
       "</style>\n",
       "<table border=\"1\" class=\"dataframe\">\n",
       "  <thead>\n",
       "    <tr style=\"text-align: right;\">\n",
       "      <th></th>\n",
       "      <th>Online Search</th>\n",
       "      <th>Other</th>\n",
       "      <th>Other_ed</th>\n",
       "      <th>Word Of Mouth</th>\n",
       "      <th>edu_someschool</th>\n",
       "    </tr>\n",
       "  </thead>\n",
       "  <tbody>\n",
       "    <tr>\n",
       "      <th>6</th>\n",
       "      <td>1</td>\n",
       "      <td>0</td>\n",
       "      <td>0</td>\n",
       "      <td>0</td>\n",
       "      <td>0</td>\n",
       "    </tr>\n",
       "    <tr>\n",
       "      <th>22</th>\n",
       "      <td>0</td>\n",
       "      <td>0</td>\n",
       "      <td>1</td>\n",
       "      <td>0</td>\n",
       "      <td>0</td>\n",
       "    </tr>\n",
       "    <tr>\n",
       "      <th>27</th>\n",
       "      <td>1</td>\n",
       "      <td>0</td>\n",
       "      <td>0</td>\n",
       "      <td>0</td>\n",
       "      <td>0</td>\n",
       "    </tr>\n",
       "    <tr>\n",
       "      <th>37</th>\n",
       "      <td>0</td>\n",
       "      <td>0</td>\n",
       "      <td>0</td>\n",
       "      <td>0</td>\n",
       "      <td>1</td>\n",
       "    </tr>\n",
       "    <tr>\n",
       "      <th>39</th>\n",
       "      <td>0</td>\n",
       "      <td>0</td>\n",
       "      <td>1</td>\n",
       "      <td>0</td>\n",
       "      <td>0</td>\n",
       "    </tr>\n",
       "  </tbody>\n",
       "</table>\n",
       "</div>"
      ],
      "text/plain": [
       "    Online Search  Other  Other_ed  Word Of Mouth  edu_someschool\n",
       "6               1      0         0              0               0\n",
       "22              0      0         1              0               0\n",
       "27              1      0         0              0               0\n",
       "37              0      0         0              0               1\n",
       "39              0      0         1              0               0"
      ]
     },
     "execution_count": 402,
     "metadata": {},
     "output_type": "execute_result"
    }
   ],
   "source": [
    "education_dummy = pd.get_dummies(df['How did you hear about X Education'], drop_first = True,dtype = int)\n",
    "education_dummy.head()"
   ]
  },
  {
   "cell_type": "markdown",
   "metadata": {},
   "source": [
    "#### Variable Seven : Lead Profile"
   ]
  },
  {
   "cell_type": "code",
   "execution_count": 403,
   "metadata": {},
   "outputs": [
    {
     "data": {
      "text/plain": [
       "Lead Profile\n",
       "Potential Lead           372\n",
       "Other Leads              130\n",
       "Student of SomeSchool     11\n",
       "Other_lp                   6\n",
       "Name: count, dtype: int64"
      ]
     },
     "execution_count": 403,
     "metadata": {},
     "output_type": "execute_result"
    }
   ],
   "source": [
    "df['Lead Profile'].value_counts()"
   ]
  },
  {
   "cell_type": "code",
   "execution_count": 404,
   "metadata": {},
   "outputs": [],
   "source": [
    "def lp(x):\n",
    "    if x == 'Select':\n",
    "        return 'select_lp'\n",
    "    elif x == 'Student of SomeSchool':\n",
    "        return 'lp_someschool'\n",
    "    else:\n",
    "        return x"
   ]
  },
  {
   "cell_type": "code",
   "execution_count": 405,
   "metadata": {},
   "outputs": [],
   "source": [
    "df['Lead Profile'] = df['Lead Profile'].apply(lp)"
   ]
  },
  {
   "cell_type": "code",
   "execution_count": 406,
   "metadata": {},
   "outputs": [
    {
     "data": {
      "text/html": [
       "<div>\n",
       "<style scoped>\n",
       "    .dataframe tbody tr th:only-of-type {\n",
       "        vertical-align: middle;\n",
       "    }\n",
       "\n",
       "    .dataframe tbody tr th {\n",
       "        vertical-align: top;\n",
       "    }\n",
       "\n",
       "    .dataframe thead th {\n",
       "        text-align: right;\n",
       "    }\n",
       "</style>\n",
       "<table border=\"1\" class=\"dataframe\">\n",
       "  <thead>\n",
       "    <tr style=\"text-align: right;\">\n",
       "      <th></th>\n",
       "      <th>Other_lp</th>\n",
       "      <th>Potential Lead</th>\n",
       "      <th>lp_someschool</th>\n",
       "    </tr>\n",
       "  </thead>\n",
       "  <tbody>\n",
       "    <tr>\n",
       "      <th>6</th>\n",
       "      <td>0</td>\n",
       "      <td>1</td>\n",
       "      <td>0</td>\n",
       "    </tr>\n",
       "    <tr>\n",
       "      <th>22</th>\n",
       "      <td>0</td>\n",
       "      <td>1</td>\n",
       "      <td>0</td>\n",
       "    </tr>\n",
       "    <tr>\n",
       "      <th>27</th>\n",
       "      <td>0</td>\n",
       "      <td>1</td>\n",
       "      <td>0</td>\n",
       "    </tr>\n",
       "    <tr>\n",
       "      <th>37</th>\n",
       "      <td>0</td>\n",
       "      <td>1</td>\n",
       "      <td>0</td>\n",
       "    </tr>\n",
       "    <tr>\n",
       "      <th>39</th>\n",
       "      <td>0</td>\n",
       "      <td>1</td>\n",
       "      <td>0</td>\n",
       "    </tr>\n",
       "  </tbody>\n",
       "</table>\n",
       "</div>"
      ],
      "text/plain": [
       "    Other_lp  Potential Lead  lp_someschool\n",
       "6          0               1              0\n",
       "22         0               1              0\n",
       "27         0               1              0\n",
       "37         0               1              0\n",
       "39         0               1              0"
      ]
     },
     "execution_count": 406,
     "metadata": {},
     "output_type": "execute_result"
    }
   ],
   "source": [
    "leadprofile_dummy = pd.get_dummies(df['Lead Profile'], drop_first = True,dtype = int)\n",
    "leadprofile_dummy.head()"
   ]
  },
  {
   "cell_type": "markdown",
   "metadata": {},
   "source": [
    "#### Variable Eight : City "
   ]
  },
  {
   "cell_type": "code",
   "execution_count": 407,
   "metadata": {},
   "outputs": [
    {
     "data": {
      "text/plain": [
       "City\n",
       "Mumbai                         318\n",
       "Thane & Outskirts               96\n",
       "Other Cities                    42\n",
       "Other Cities of Maharashtra     41\n",
       "Other Metro Cities              19\n",
       "Tier II Cities                   3\n",
       "Name: count, dtype: int64"
      ]
     },
     "execution_count": 407,
     "metadata": {},
     "output_type": "execute_result"
    }
   ],
   "source": [
    "df['City'].value_counts()"
   ]
  },
  {
   "cell_type": "code",
   "execution_count": 408,
   "metadata": {},
   "outputs": [],
   "source": [
    "def city (x):\n",
    "    if  x == 'Select':\n",
    "        return 'select_city'\n",
    "    else:\n",
    "        return x"
   ]
  },
  {
   "cell_type": "code",
   "execution_count": 409,
   "metadata": {},
   "outputs": [],
   "source": [
    "df['City'] = df['City'].apply(city)"
   ]
  },
  {
   "cell_type": "code",
   "execution_count": 410,
   "metadata": {},
   "outputs": [
    {
     "data": {
      "text/html": [
       "<div>\n",
       "<style scoped>\n",
       "    .dataframe tbody tr th:only-of-type {\n",
       "        vertical-align: middle;\n",
       "    }\n",
       "\n",
       "    .dataframe tbody tr th {\n",
       "        vertical-align: top;\n",
       "    }\n",
       "\n",
       "    .dataframe thead th {\n",
       "        text-align: right;\n",
       "    }\n",
       "</style>\n",
       "<table border=\"1\" class=\"dataframe\">\n",
       "  <thead>\n",
       "    <tr style=\"text-align: right;\">\n",
       "      <th></th>\n",
       "      <th>Other Cities</th>\n",
       "      <th>Other Cities of Maharashtra</th>\n",
       "      <th>Other Metro Cities</th>\n",
       "      <th>Thane &amp; Outskirts</th>\n",
       "      <th>Tier II Cities</th>\n",
       "    </tr>\n",
       "  </thead>\n",
       "  <tbody>\n",
       "    <tr>\n",
       "      <th>6</th>\n",
       "      <td>0</td>\n",
       "      <td>0</td>\n",
       "      <td>0</td>\n",
       "      <td>0</td>\n",
       "      <td>0</td>\n",
       "    </tr>\n",
       "    <tr>\n",
       "      <th>22</th>\n",
       "      <td>0</td>\n",
       "      <td>0</td>\n",
       "      <td>0</td>\n",
       "      <td>0</td>\n",
       "      <td>0</td>\n",
       "    </tr>\n",
       "    <tr>\n",
       "      <th>27</th>\n",
       "      <td>0</td>\n",
       "      <td>0</td>\n",
       "      <td>0</td>\n",
       "      <td>0</td>\n",
       "      <td>0</td>\n",
       "    </tr>\n",
       "    <tr>\n",
       "      <th>37</th>\n",
       "      <td>0</td>\n",
       "      <td>0</td>\n",
       "      <td>0</td>\n",
       "      <td>0</td>\n",
       "      <td>0</td>\n",
       "    </tr>\n",
       "    <tr>\n",
       "      <th>39</th>\n",
       "      <td>0</td>\n",
       "      <td>1</td>\n",
       "      <td>0</td>\n",
       "      <td>0</td>\n",
       "      <td>0</td>\n",
       "    </tr>\n",
       "  </tbody>\n",
       "</table>\n",
       "</div>"
      ],
      "text/plain": [
       "    Other Cities  Other Cities of Maharashtra  Other Metro Cities  \\\n",
       "6              0                            0                   0   \n",
       "22             0                            0                   0   \n",
       "27             0                            0                   0   \n",
       "37             0                            0                   0   \n",
       "39             0                            1                   0   \n",
       "\n",
       "    Thane & Outskirts  Tier II Cities  \n",
       "6                   0               0  \n",
       "22                  0               0  \n",
       "27                  0               0  \n",
       "37                  0               0  \n",
       "39                  0               0  "
      ]
     },
     "execution_count": 410,
     "metadata": {},
     "output_type": "execute_result"
    }
   ],
   "source": [
    "city_dummy = pd.get_dummies(df['City'], drop_first = True,dtype = int)\n",
    "city_dummy.head()"
   ]
  },
  {
   "cell_type": "markdown",
   "metadata": {},
   "source": [
    "#### Variable Nine : A free copy of Mastering The Interview"
   ]
  },
  {
   "cell_type": "code",
   "execution_count": 411,
   "metadata": {},
   "outputs": [
    {
     "data": {
      "text/plain": [
       "A free copy of Mastering The Interview\n",
       "No     479\n",
       "Yes     40\n",
       "Name: count, dtype: int64"
      ]
     },
     "execution_count": 411,
     "metadata": {},
     "output_type": "execute_result"
    }
   ],
   "source": [
    "df['A free copy of Mastering The Interview'].value_counts()"
   ]
  },
  {
   "cell_type": "code",
   "execution_count": 412,
   "metadata": {},
   "outputs": [],
   "source": [
    "# creating a function to clearly mention the yes and its related variable\n",
    "\n",
    "def emails(x):\n",
    "    if x == 'Yes':\n",
    "        return 'yes_copy'\n",
    "    else:\n",
    "        return 'no_copy'"
   ]
  },
  {
   "cell_type": "code",
   "execution_count": 413,
   "metadata": {},
   "outputs": [],
   "source": [
    "df['A free copy of Mastering The Interview'] = df['A free copy of Mastering The Interview'].apply(emails)"
   ]
  },
  {
   "cell_type": "code",
   "execution_count": 414,
   "metadata": {},
   "outputs": [
    {
     "data": {
      "text/html": [
       "<div>\n",
       "<style scoped>\n",
       "    .dataframe tbody tr th:only-of-type {\n",
       "        vertical-align: middle;\n",
       "    }\n",
       "\n",
       "    .dataframe tbody tr th {\n",
       "        vertical-align: top;\n",
       "    }\n",
       "\n",
       "    .dataframe thead th {\n",
       "        text-align: right;\n",
       "    }\n",
       "</style>\n",
       "<table border=\"1\" class=\"dataframe\">\n",
       "  <thead>\n",
       "    <tr style=\"text-align: right;\">\n",
       "      <th></th>\n",
       "      <th>yes_copy</th>\n",
       "    </tr>\n",
       "  </thead>\n",
       "  <tbody>\n",
       "    <tr>\n",
       "      <th>6</th>\n",
       "      <td>0</td>\n",
       "    </tr>\n",
       "    <tr>\n",
       "      <th>22</th>\n",
       "      <td>0</td>\n",
       "    </tr>\n",
       "    <tr>\n",
       "      <th>27</th>\n",
       "      <td>0</td>\n",
       "    </tr>\n",
       "    <tr>\n",
       "      <th>37</th>\n",
       "      <td>0</td>\n",
       "    </tr>\n",
       "    <tr>\n",
       "      <th>39</th>\n",
       "      <td>0</td>\n",
       "    </tr>\n",
       "  </tbody>\n",
       "</table>\n",
       "</div>"
      ],
      "text/plain": [
       "    yes_copy\n",
       "6          0\n",
       "22         0\n",
       "27         0\n",
       "37         0\n",
       "39         0"
      ]
     },
     "execution_count": 414,
     "metadata": {},
     "output_type": "execute_result"
    }
   ],
   "source": [
    "copy_dummy = pd.get_dummies(df['A free copy of Mastering The Interview'], drop_first = True,dtype = int)\n",
    "copy_dummy.head()"
   ]
  },
  {
   "cell_type": "markdown",
   "metadata": {},
   "source": [
    "#### Variable Ten : Last Notable Activity"
   ]
  },
  {
   "cell_type": "code",
   "execution_count": 415,
   "metadata": {},
   "outputs": [
    {
     "data": {
      "text/plain": [
       "Last Notable Activity\n",
       "Email Opened               227\n",
       "Modified                   148\n",
       "SMS Sent                   104\n",
       "Page Visited on Website     20\n",
       "Other_na                    12\n",
       "Email Link Clicked           6\n",
       "Olark Chat Conversation      2\n",
       "Name: count, dtype: int64"
      ]
     },
     "execution_count": 415,
     "metadata": {},
     "output_type": "execute_result"
    }
   ],
   "source": [
    "df['Last Notable Activity'].value_counts()"
   ]
  },
  {
   "cell_type": "code",
   "execution_count": 416,
   "metadata": {},
   "outputs": [
    {
     "data": {
      "text/html": [
       "<div>\n",
       "<style scoped>\n",
       "    .dataframe tbody tr th:only-of-type {\n",
       "        vertical-align: middle;\n",
       "    }\n",
       "\n",
       "    .dataframe tbody tr th {\n",
       "        vertical-align: top;\n",
       "    }\n",
       "\n",
       "    .dataframe thead th {\n",
       "        text-align: right;\n",
       "    }\n",
       "</style>\n",
       "<table border=\"1\" class=\"dataframe\">\n",
       "  <thead>\n",
       "    <tr style=\"text-align: right;\">\n",
       "      <th></th>\n",
       "      <th>Email Opened</th>\n",
       "      <th>Modified</th>\n",
       "      <th>Olark Chat Conversation</th>\n",
       "      <th>Other_na</th>\n",
       "      <th>Page Visited on Website</th>\n",
       "      <th>SMS Sent</th>\n",
       "    </tr>\n",
       "  </thead>\n",
       "  <tbody>\n",
       "    <tr>\n",
       "      <th>6</th>\n",
       "      <td>0</td>\n",
       "      <td>1</td>\n",
       "      <td>0</td>\n",
       "      <td>0</td>\n",
       "      <td>0</td>\n",
       "      <td>0</td>\n",
       "    </tr>\n",
       "    <tr>\n",
       "      <th>22</th>\n",
       "      <td>0</td>\n",
       "      <td>1</td>\n",
       "      <td>0</td>\n",
       "      <td>0</td>\n",
       "      <td>0</td>\n",
       "      <td>0</td>\n",
       "    </tr>\n",
       "    <tr>\n",
       "      <th>27</th>\n",
       "      <td>1</td>\n",
       "      <td>0</td>\n",
       "      <td>0</td>\n",
       "      <td>0</td>\n",
       "      <td>0</td>\n",
       "      <td>0</td>\n",
       "    </tr>\n",
       "    <tr>\n",
       "      <th>37</th>\n",
       "      <td>1</td>\n",
       "      <td>0</td>\n",
       "      <td>0</td>\n",
       "      <td>0</td>\n",
       "      <td>0</td>\n",
       "      <td>0</td>\n",
       "    </tr>\n",
       "    <tr>\n",
       "      <th>39</th>\n",
       "      <td>1</td>\n",
       "      <td>0</td>\n",
       "      <td>0</td>\n",
       "      <td>0</td>\n",
       "      <td>0</td>\n",
       "      <td>0</td>\n",
       "    </tr>\n",
       "  </tbody>\n",
       "</table>\n",
       "</div>"
      ],
      "text/plain": [
       "    Email Opened  Modified  Olark Chat Conversation  Other_na  \\\n",
       "6              0         1                        0         0   \n",
       "22             0         1                        0         0   \n",
       "27             1         0                        0         0   \n",
       "37             1         0                        0         0   \n",
       "39             1         0                        0         0   \n",
       "\n",
       "    Page Visited on Website  SMS Sent  \n",
       "6                         0         0  \n",
       "22                        0         0  \n",
       "27                        0         0  \n",
       "37                        0         0  \n",
       "39                        0         0  "
      ]
     },
     "execution_count": 416,
     "metadata": {},
     "output_type": "execute_result"
    }
   ],
   "source": [
    "activity_dummy = pd.get_dummies(df['Last Notable Activity'], drop_first = True,dtype = int)\n",
    "activity_dummy.head()"
   ]
  },
  {
   "cell_type": "code",
   "execution_count": 417,
   "metadata": {},
   "outputs": [
    {
     "data": {
      "text/html": [
       "<div>\n",
       "<style scoped>\n",
       "    .dataframe tbody tr th:only-of-type {\n",
       "        vertical-align: middle;\n",
       "    }\n",
       "\n",
       "    .dataframe tbody tr th {\n",
       "        vertical-align: top;\n",
       "    }\n",
       "\n",
       "    .dataframe thead th {\n",
       "        text-align: right;\n",
       "    }\n",
       "</style>\n",
       "<table border=\"1\" class=\"dataframe\">\n",
       "  <thead>\n",
       "    <tr style=\"text-align: right;\">\n",
       "      <th></th>\n",
       "      <th>Prospect ID</th>\n",
       "      <th>Lead Number</th>\n",
       "      <th>Lead Origin</th>\n",
       "      <th>Lead Source</th>\n",
       "      <th>Do Not Email</th>\n",
       "      <th>Converted</th>\n",
       "      <th>TotalVisits</th>\n",
       "      <th>Total Time Spent on Website</th>\n",
       "      <th>Page Views Per Visit</th>\n",
       "      <th>Last Activity</th>\n",
       "      <th>...</th>\n",
       "      <th>Other Metro Cities</th>\n",
       "      <th>Thane &amp; Outskirts</th>\n",
       "      <th>Tier II Cities</th>\n",
       "      <th>yes_copy</th>\n",
       "      <th>Email Opened</th>\n",
       "      <th>Modified</th>\n",
       "      <th>Olark Chat Conversation</th>\n",
       "      <th>Other_na</th>\n",
       "      <th>Page Visited on Website</th>\n",
       "      <th>SMS Sent</th>\n",
       "    </tr>\n",
       "  </thead>\n",
       "  <tbody>\n",
       "    <tr>\n",
       "      <th>6</th>\n",
       "      <td>9fae7df4-169d-489b-afe4-0f3d752542ed</td>\n",
       "      <td>660673</td>\n",
       "      <td>Landing Page Submission</td>\n",
       "      <td>Google</td>\n",
       "      <td>no_email</td>\n",
       "      <td>1</td>\n",
       "      <td>2.0</td>\n",
       "      <td>1640</td>\n",
       "      <td>2.0</td>\n",
       "      <td>Email Opened</td>\n",
       "      <td>...</td>\n",
       "      <td>0</td>\n",
       "      <td>0</td>\n",
       "      <td>0</td>\n",
       "      <td>0</td>\n",
       "      <td>0</td>\n",
       "      <td>1</td>\n",
       "      <td>0</td>\n",
       "      <td>0</td>\n",
       "      <td>0</td>\n",
       "      <td>0</td>\n",
       "    </tr>\n",
       "    <tr>\n",
       "      <th>22</th>\n",
       "      <td>8fd38b83-5c32-4277-bcfb-499f34a01c56</td>\n",
       "      <td>660471</td>\n",
       "      <td>Landing Page Submission</td>\n",
       "      <td>Google</td>\n",
       "      <td>no_email</td>\n",
       "      <td>1</td>\n",
       "      <td>1.0</td>\n",
       "      <td>1013</td>\n",
       "      <td>1.0</td>\n",
       "      <td>Converted to Lead</td>\n",
       "      <td>...</td>\n",
       "      <td>0</td>\n",
       "      <td>0</td>\n",
       "      <td>0</td>\n",
       "      <td>0</td>\n",
       "      <td>0</td>\n",
       "      <td>1</td>\n",
       "      <td>0</td>\n",
       "      <td>0</td>\n",
       "      <td>0</td>\n",
       "      <td>0</td>\n",
       "    </tr>\n",
       "    <tr>\n",
       "      <th>27</th>\n",
       "      <td>6d143c0e-abae-425f-a2c0-52c2946cbd45</td>\n",
       "      <td>660424</td>\n",
       "      <td>Landing Page Submission</td>\n",
       "      <td>Google</td>\n",
       "      <td>no_email</td>\n",
       "      <td>1</td>\n",
       "      <td>6.0</td>\n",
       "      <td>1315</td>\n",
       "      <td>6.0</td>\n",
       "      <td>Email Opened</td>\n",
       "      <td>...</td>\n",
       "      <td>0</td>\n",
       "      <td>0</td>\n",
       "      <td>0</td>\n",
       "      <td>0</td>\n",
       "      <td>1</td>\n",
       "      <td>0</td>\n",
       "      <td>0</td>\n",
       "      <td>0</td>\n",
       "      <td>0</td>\n",
       "      <td>0</td>\n",
       "    </tr>\n",
       "    <tr>\n",
       "      <th>37</th>\n",
       "      <td>e60a54bc-0816-430e-a99a-019a8b5a27e5</td>\n",
       "      <td>660267</td>\n",
       "      <td>Landing Page Submission</td>\n",
       "      <td>Google</td>\n",
       "      <td>no_email</td>\n",
       "      <td>1</td>\n",
       "      <td>5.0</td>\n",
       "      <td>563</td>\n",
       "      <td>5.0</td>\n",
       "      <td>Email Opened</td>\n",
       "      <td>...</td>\n",
       "      <td>0</td>\n",
       "      <td>0</td>\n",
       "      <td>0</td>\n",
       "      <td>0</td>\n",
       "      <td>1</td>\n",
       "      <td>0</td>\n",
       "      <td>0</td>\n",
       "      <td>0</td>\n",
       "      <td>0</td>\n",
       "      <td>0</td>\n",
       "    </tr>\n",
       "    <tr>\n",
       "      <th>39</th>\n",
       "      <td>d6686032-c65e-4495-a0f4-ba7471209356</td>\n",
       "      <td>660236</td>\n",
       "      <td>Landing Page Submission</td>\n",
       "      <td>Google</td>\n",
       "      <td>no_email</td>\n",
       "      <td>1</td>\n",
       "      <td>4.0</td>\n",
       "      <td>25</td>\n",
       "      <td>4.0</td>\n",
       "      <td>Email Opened</td>\n",
       "      <td>...</td>\n",
       "      <td>0</td>\n",
       "      <td>0</td>\n",
       "      <td>0</td>\n",
       "      <td>0</td>\n",
       "      <td>1</td>\n",
       "      <td>0</td>\n",
       "      <td>0</td>\n",
       "      <td>0</td>\n",
       "      <td>0</td>\n",
       "      <td>0</td>\n",
       "    </tr>\n",
       "  </tbody>\n",
       "</table>\n",
       "<p>5 rows × 69 columns</p>\n",
       "</div>"
      ],
      "text/plain": [
       "                             Prospect ID  Lead Number  \\\n",
       "6   9fae7df4-169d-489b-afe4-0f3d752542ed       660673   \n",
       "22  8fd38b83-5c32-4277-bcfb-499f34a01c56       660471   \n",
       "27  6d143c0e-abae-425f-a2c0-52c2946cbd45       660424   \n",
       "37  e60a54bc-0816-430e-a99a-019a8b5a27e5       660267   \n",
       "39  d6686032-c65e-4495-a0f4-ba7471209356       660236   \n",
       "\n",
       "                Lead Origin Lead Source Do Not Email  Converted  TotalVisits  \\\n",
       "6   Landing Page Submission      Google     no_email          1          2.0   \n",
       "22  Landing Page Submission      Google     no_email          1          1.0   \n",
       "27  Landing Page Submission      Google     no_email          1          6.0   \n",
       "37  Landing Page Submission      Google     no_email          1          5.0   \n",
       "39  Landing Page Submission      Google     no_email          1          4.0   \n",
       "\n",
       "    Total Time Spent on Website  Page Views Per Visit      Last Activity  ...  \\\n",
       "6                          1640                   2.0       Email Opened  ...   \n",
       "22                         1013                   1.0  Converted to Lead  ...   \n",
       "27                         1315                   6.0       Email Opened  ...   \n",
       "37                          563                   5.0       Email Opened  ...   \n",
       "39                           25                   4.0       Email Opened  ...   \n",
       "\n",
       "   Other Metro Cities Thane & Outskirts Tier II Cities yes_copy Email Opened  \\\n",
       "6                   0                 0              0        0            0   \n",
       "22                  0                 0              0        0            0   \n",
       "27                  0                 0              0        0            1   \n",
       "37                  0                 0              0        0            1   \n",
       "39                  0                 0              0        0            1   \n",
       "\n",
       "   Modified  Olark Chat Conversation  Other_na  Page Visited on Website  \\\n",
       "6         1                        0         0                        0   \n",
       "22        1                        0         0                        0   \n",
       "27        0                        0         0                        0   \n",
       "37        0                        0         0                        0   \n",
       "39        0                        0         0                        0   \n",
       "\n",
       "    SMS Sent  \n",
       "6          0  \n",
       "22         0  \n",
       "27         0  \n",
       "37         0  \n",
       "39         0  \n",
       "\n",
       "[5 rows x 69 columns]"
      ]
     },
     "execution_count": 417,
     "metadata": {},
     "output_type": "execute_result"
    }
   ],
   "source": [
    "#### Putting all the dummy dataframe together \n",
    "\n",
    "final = pd.concat([df,leadorigin_dummy,leadsource_dummy,donotemail_dummy,lastactivity_dummy,specialization_dummy,education_dummy,leadprofile_dummy,city_dummy,copy_dummy,activity_dummy],axis =1)\n",
    "final.head()"
   ]
  },
  {
   "cell_type": "code",
   "execution_count": 418,
   "metadata": {},
   "outputs": [],
   "source": [
    "# dropping all the related variables after creating the dummies \n",
    "\n",
    "final = final.drop('Lead Origin',axis =1)\n",
    "final = final.drop('Lead Source',axis =1)\n",
    "final = final.drop('Do Not Email',axis =1)\n",
    "final = final.drop('Last Activity',axis =1)\n",
    "final = final.drop('Specialization',axis =1)\n",
    "final = final.drop('How did you hear about X Education',axis =1)\n",
    "final = final.drop('Lead Profile',axis =1)\n",
    "final = final.drop('City',axis =1)\n",
    "final = final.drop('A free copy of Mastering The Interview',axis =1)\n",
    "final = final.drop('Last Notable Activity',axis =1)"
   ]
  },
  {
   "cell_type": "code",
   "execution_count": 419,
   "metadata": {},
   "outputs": [
    {
     "data": {
      "text/html": [
       "<div>\n",
       "<style scoped>\n",
       "    .dataframe tbody tr th:only-of-type {\n",
       "        vertical-align: middle;\n",
       "    }\n",
       "\n",
       "    .dataframe tbody tr th {\n",
       "        vertical-align: top;\n",
       "    }\n",
       "\n",
       "    .dataframe thead th {\n",
       "        text-align: right;\n",
       "    }\n",
       "</style>\n",
       "<table border=\"1\" class=\"dataframe\">\n",
       "  <thead>\n",
       "    <tr style=\"text-align: right;\">\n",
       "      <th></th>\n",
       "      <th>Prospect ID</th>\n",
       "      <th>Lead Number</th>\n",
       "      <th>Converted</th>\n",
       "      <th>TotalVisits</th>\n",
       "      <th>Total Time Spent on Website</th>\n",
       "      <th>Page Views Per Visit</th>\n",
       "      <th>Landing Page Submission</th>\n",
       "      <th>Lead Add Form</th>\n",
       "      <th>Google</th>\n",
       "      <th>Olark Chat</th>\n",
       "      <th>...</th>\n",
       "      <th>Other Metro Cities</th>\n",
       "      <th>Thane &amp; Outskirts</th>\n",
       "      <th>Tier II Cities</th>\n",
       "      <th>yes_copy</th>\n",
       "      <th>Email Opened</th>\n",
       "      <th>Modified</th>\n",
       "      <th>Olark Chat Conversation</th>\n",
       "      <th>Other_na</th>\n",
       "      <th>Page Visited on Website</th>\n",
       "      <th>SMS Sent</th>\n",
       "    </tr>\n",
       "  </thead>\n",
       "  <tbody>\n",
       "    <tr>\n",
       "      <th>6</th>\n",
       "      <td>9fae7df4-169d-489b-afe4-0f3d752542ed</td>\n",
       "      <td>660673</td>\n",
       "      <td>1</td>\n",
       "      <td>2.0</td>\n",
       "      <td>1640</td>\n",
       "      <td>2.0</td>\n",
       "      <td>1</td>\n",
       "      <td>0</td>\n",
       "      <td>1</td>\n",
       "      <td>0</td>\n",
       "      <td>...</td>\n",
       "      <td>0</td>\n",
       "      <td>0</td>\n",
       "      <td>0</td>\n",
       "      <td>0</td>\n",
       "      <td>0</td>\n",
       "      <td>1</td>\n",
       "      <td>0</td>\n",
       "      <td>0</td>\n",
       "      <td>0</td>\n",
       "      <td>0</td>\n",
       "    </tr>\n",
       "    <tr>\n",
       "      <th>22</th>\n",
       "      <td>8fd38b83-5c32-4277-bcfb-499f34a01c56</td>\n",
       "      <td>660471</td>\n",
       "      <td>1</td>\n",
       "      <td>1.0</td>\n",
       "      <td>1013</td>\n",
       "      <td>1.0</td>\n",
       "      <td>1</td>\n",
       "      <td>0</td>\n",
       "      <td>1</td>\n",
       "      <td>0</td>\n",
       "      <td>...</td>\n",
       "      <td>0</td>\n",
       "      <td>0</td>\n",
       "      <td>0</td>\n",
       "      <td>0</td>\n",
       "      <td>0</td>\n",
       "      <td>1</td>\n",
       "      <td>0</td>\n",
       "      <td>0</td>\n",
       "      <td>0</td>\n",
       "      <td>0</td>\n",
       "    </tr>\n",
       "    <tr>\n",
       "      <th>27</th>\n",
       "      <td>6d143c0e-abae-425f-a2c0-52c2946cbd45</td>\n",
       "      <td>660424</td>\n",
       "      <td>1</td>\n",
       "      <td>6.0</td>\n",
       "      <td>1315</td>\n",
       "      <td>6.0</td>\n",
       "      <td>1</td>\n",
       "      <td>0</td>\n",
       "      <td>1</td>\n",
       "      <td>0</td>\n",
       "      <td>...</td>\n",
       "      <td>0</td>\n",
       "      <td>0</td>\n",
       "      <td>0</td>\n",
       "      <td>0</td>\n",
       "      <td>1</td>\n",
       "      <td>0</td>\n",
       "      <td>0</td>\n",
       "      <td>0</td>\n",
       "      <td>0</td>\n",
       "      <td>0</td>\n",
       "    </tr>\n",
       "    <tr>\n",
       "      <th>37</th>\n",
       "      <td>e60a54bc-0816-430e-a99a-019a8b5a27e5</td>\n",
       "      <td>660267</td>\n",
       "      <td>1</td>\n",
       "      <td>5.0</td>\n",
       "      <td>563</td>\n",
       "      <td>5.0</td>\n",
       "      <td>1</td>\n",
       "      <td>0</td>\n",
       "      <td>1</td>\n",
       "      <td>0</td>\n",
       "      <td>...</td>\n",
       "      <td>0</td>\n",
       "      <td>0</td>\n",
       "      <td>0</td>\n",
       "      <td>0</td>\n",
       "      <td>1</td>\n",
       "      <td>0</td>\n",
       "      <td>0</td>\n",
       "      <td>0</td>\n",
       "      <td>0</td>\n",
       "      <td>0</td>\n",
       "    </tr>\n",
       "    <tr>\n",
       "      <th>39</th>\n",
       "      <td>d6686032-c65e-4495-a0f4-ba7471209356</td>\n",
       "      <td>660236</td>\n",
       "      <td>1</td>\n",
       "      <td>4.0</td>\n",
       "      <td>25</td>\n",
       "      <td>4.0</td>\n",
       "      <td>1</td>\n",
       "      <td>0</td>\n",
       "      <td>1</td>\n",
       "      <td>0</td>\n",
       "      <td>...</td>\n",
       "      <td>0</td>\n",
       "      <td>0</td>\n",
       "      <td>0</td>\n",
       "      <td>0</td>\n",
       "      <td>1</td>\n",
       "      <td>0</td>\n",
       "      <td>0</td>\n",
       "      <td>0</td>\n",
       "      <td>0</td>\n",
       "      <td>0</td>\n",
       "    </tr>\n",
       "  </tbody>\n",
       "</table>\n",
       "<p>5 rows × 59 columns</p>\n",
       "</div>"
      ],
      "text/plain": [
       "                             Prospect ID  Lead Number  Converted  TotalVisits  \\\n",
       "6   9fae7df4-169d-489b-afe4-0f3d752542ed       660673          1          2.0   \n",
       "22  8fd38b83-5c32-4277-bcfb-499f34a01c56       660471          1          1.0   \n",
       "27  6d143c0e-abae-425f-a2c0-52c2946cbd45       660424          1          6.0   \n",
       "37  e60a54bc-0816-430e-a99a-019a8b5a27e5       660267          1          5.0   \n",
       "39  d6686032-c65e-4495-a0f4-ba7471209356       660236          1          4.0   \n",
       "\n",
       "    Total Time Spent on Website  Page Views Per Visit  \\\n",
       "6                          1640                   2.0   \n",
       "22                         1013                   1.0   \n",
       "27                         1315                   6.0   \n",
       "37                          563                   5.0   \n",
       "39                           25                   4.0   \n",
       "\n",
       "    Landing Page Submission  Lead Add Form  Google  Olark Chat  ...  \\\n",
       "6                         1              0       1           0  ...   \n",
       "22                        1              0       1           0  ...   \n",
       "27                        1              0       1           0  ...   \n",
       "37                        1              0       1           0  ...   \n",
       "39                        1              0       1           0  ...   \n",
       "\n",
       "    Other Metro Cities  Thane & Outskirts  Tier II Cities  yes_copy  \\\n",
       "6                    0                  0               0         0   \n",
       "22                   0                  0               0         0   \n",
       "27                   0                  0               0         0   \n",
       "37                   0                  0               0         0   \n",
       "39                   0                  0               0         0   \n",
       "\n",
       "    Email Opened  Modified  Olark Chat Conversation  Other_na  \\\n",
       "6              0         1                        0         0   \n",
       "22             0         1                        0         0   \n",
       "27             1         0                        0         0   \n",
       "37             1         0                        0         0   \n",
       "39             1         0                        0         0   \n",
       "\n",
       "    Page Visited on Website  SMS Sent  \n",
       "6                         0         0  \n",
       "22                        0         0  \n",
       "27                        0         0  \n",
       "37                        0         0  \n",
       "39                        0         0  \n",
       "\n",
       "[5 rows x 59 columns]"
      ]
     },
     "execution_count": 419,
     "metadata": {},
     "output_type": "execute_result"
    }
   ],
   "source": [
    "final.head()"
   ]
  },
  {
   "cell_type": "markdown",
   "metadata": {},
   "source": [
    "## C. Dividing into train test data"
   ]
  },
  {
   "cell_type": "code",
   "execution_count": 420,
   "metadata": {},
   "outputs": [],
   "source": [
    "# importing relevant libraries \n",
    "\n",
    "import sklearn\n",
    "from sklearn.model_selection import train_test_split"
   ]
  },
  {
   "cell_type": "code",
   "execution_count": 421,
   "metadata": {},
   "outputs": [
    {
     "name": "stdout",
     "output_type": "stream",
     "text": [
      "(363, 59)\n",
      "(156, 59)\n"
     ]
    }
   ],
   "source": [
    "final_train, final_test = train_test_split(final, train_size = 0.7, random_state = 100)\n",
    "\n",
    "print(final_train.shape)\n",
    "print(final_test.shape)"
   ]
  },
  {
   "cell_type": "markdown",
   "metadata": {},
   "source": [
    "## D. Performing scaling on continuous variables "
   ]
  },
  {
   "cell_type": "code",
   "execution_count": 422,
   "metadata": {},
   "outputs": [],
   "source": [
    "# we are using the min max scaler for rescaling "
   ]
  },
  {
   "cell_type": "code",
   "execution_count": 423,
   "metadata": {},
   "outputs": [],
   "source": [
    "#importing relevant packages \n",
    "\n",
    "from sklearn.preprocessing import MinMaxScaler"
   ]
  },
  {
   "cell_type": "code",
   "execution_count": 424,
   "metadata": {},
   "outputs": [],
   "source": [
    "# Instiating scaler object \n",
    "\n",
    "scaler = MinMaxScaler()"
   ]
  },
  {
   "cell_type": "code",
   "execution_count": 425,
   "metadata": {},
   "outputs": [],
   "source": [
    "# creating a list of numeric variables \n",
    "\n",
    "numeric = ['TotalVisits','Total Time Spent on Website','Page Views Per Visit']"
   ]
  },
  {
   "cell_type": "code",
   "execution_count": 426,
   "metadata": {},
   "outputs": [],
   "source": [
    "final_train[numeric] = scaler.fit_transform(final_train[numeric])"
   ]
  },
  {
   "cell_type": "code",
   "execution_count": 427,
   "metadata": {},
   "outputs": [
    {
     "data": {
      "text/html": [
       "<div>\n",
       "<style scoped>\n",
       "    .dataframe tbody tr th:only-of-type {\n",
       "        vertical-align: middle;\n",
       "    }\n",
       "\n",
       "    .dataframe tbody tr th {\n",
       "        vertical-align: top;\n",
       "    }\n",
       "\n",
       "    .dataframe thead th {\n",
       "        text-align: right;\n",
       "    }\n",
       "</style>\n",
       "<table border=\"1\" class=\"dataframe\">\n",
       "  <thead>\n",
       "    <tr style=\"text-align: right;\">\n",
       "      <th></th>\n",
       "      <th>Prospect ID</th>\n",
       "      <th>Lead Number</th>\n",
       "      <th>Converted</th>\n",
       "      <th>TotalVisits</th>\n",
       "      <th>Total Time Spent on Website</th>\n",
       "      <th>Page Views Per Visit</th>\n",
       "      <th>Landing Page Submission</th>\n",
       "      <th>Lead Add Form</th>\n",
       "      <th>Google</th>\n",
       "      <th>Olark Chat</th>\n",
       "      <th>...</th>\n",
       "      <th>Other Metro Cities</th>\n",
       "      <th>Thane &amp; Outskirts</th>\n",
       "      <th>Tier II Cities</th>\n",
       "      <th>yes_copy</th>\n",
       "      <th>Email Opened</th>\n",
       "      <th>Modified</th>\n",
       "      <th>Olark Chat Conversation</th>\n",
       "      <th>Other_na</th>\n",
       "      <th>Page Visited on Website</th>\n",
       "      <th>SMS Sent</th>\n",
       "    </tr>\n",
       "  </thead>\n",
       "  <tbody>\n",
       "    <tr>\n",
       "      <th>9210</th>\n",
       "      <td>14ac6418-af18-4acd-b464-02f6e0fefa1c</td>\n",
       "      <td>579833</td>\n",
       "      <td>1</td>\n",
       "      <td>0.071429</td>\n",
       "      <td>0.471756</td>\n",
       "      <td>0.230769</td>\n",
       "      <td>1</td>\n",
       "      <td>0</td>\n",
       "      <td>0</td>\n",
       "      <td>0</td>\n",
       "      <td>...</td>\n",
       "      <td>0</td>\n",
       "      <td>0</td>\n",
       "      <td>0</td>\n",
       "      <td>0</td>\n",
       "      <td>0</td>\n",
       "      <td>1</td>\n",
       "      <td>0</td>\n",
       "      <td>0</td>\n",
       "      <td>0</td>\n",
       "      <td>0</td>\n",
       "    </tr>\n",
       "    <tr>\n",
       "      <th>4106</th>\n",
       "      <td>3c3eba72-cda4-4519-8d79-ee33f99d66b0</td>\n",
       "      <td>620588</td>\n",
       "      <td>0</td>\n",
       "      <td>0.023810</td>\n",
       "      <td>0.234606</td>\n",
       "      <td>0.076923</td>\n",
       "      <td>1</td>\n",
       "      <td>0</td>\n",
       "      <td>1</td>\n",
       "      <td>0</td>\n",
       "      <td>...</td>\n",
       "      <td>0</td>\n",
       "      <td>0</td>\n",
       "      <td>0</td>\n",
       "      <td>0</td>\n",
       "      <td>0</td>\n",
       "      <td>1</td>\n",
       "      <td>0</td>\n",
       "      <td>0</td>\n",
       "      <td>0</td>\n",
       "      <td>0</td>\n",
       "    </tr>\n",
       "    <tr>\n",
       "      <th>2851</th>\n",
       "      <td>988470a6-9910-4a4a-b4b7-f3fefe09e6e1</td>\n",
       "      <td>632338</td>\n",
       "      <td>1</td>\n",
       "      <td>0.047619</td>\n",
       "      <td>0.405598</td>\n",
       "      <td>0.153846</td>\n",
       "      <td>1</td>\n",
       "      <td>0</td>\n",
       "      <td>1</td>\n",
       "      <td>0</td>\n",
       "      <td>...</td>\n",
       "      <td>0</td>\n",
       "      <td>0</td>\n",
       "      <td>0</td>\n",
       "      <td>0</td>\n",
       "      <td>0</td>\n",
       "      <td>1</td>\n",
       "      <td>0</td>\n",
       "      <td>0</td>\n",
       "      <td>0</td>\n",
       "      <td>0</td>\n",
       "    </tr>\n",
       "    <tr>\n",
       "      <th>4291</th>\n",
       "      <td>1930406c-7458-45b0-8a22-904cac7f37a3</td>\n",
       "      <td>618747</td>\n",
       "      <td>1</td>\n",
       "      <td>0.095238</td>\n",
       "      <td>0.572519</td>\n",
       "      <td>0.307692</td>\n",
       "      <td>1</td>\n",
       "      <td>0</td>\n",
       "      <td>1</td>\n",
       "      <td>0</td>\n",
       "      <td>...</td>\n",
       "      <td>0</td>\n",
       "      <td>0</td>\n",
       "      <td>0</td>\n",
       "      <td>0</td>\n",
       "      <td>1</td>\n",
       "      <td>0</td>\n",
       "      <td>0</td>\n",
       "      <td>0</td>\n",
       "      <td>0</td>\n",
       "      <td>0</td>\n",
       "    </tr>\n",
       "    <tr>\n",
       "      <th>2303</th>\n",
       "      <td>be8bc9ee-a912-4b2c-be12-f4983bba4c38</td>\n",
       "      <td>637416</td>\n",
       "      <td>0</td>\n",
       "      <td>0.023810</td>\n",
       "      <td>0.789822</td>\n",
       "      <td>0.076923</td>\n",
       "      <td>1</td>\n",
       "      <td>0</td>\n",
       "      <td>1</td>\n",
       "      <td>0</td>\n",
       "      <td>...</td>\n",
       "      <td>0</td>\n",
       "      <td>0</td>\n",
       "      <td>0</td>\n",
       "      <td>0</td>\n",
       "      <td>0</td>\n",
       "      <td>1</td>\n",
       "      <td>0</td>\n",
       "      <td>0</td>\n",
       "      <td>0</td>\n",
       "      <td>0</td>\n",
       "    </tr>\n",
       "  </tbody>\n",
       "</table>\n",
       "<p>5 rows × 59 columns</p>\n",
       "</div>"
      ],
      "text/plain": [
       "                               Prospect ID  Lead Number  Converted  \\\n",
       "9210  14ac6418-af18-4acd-b464-02f6e0fefa1c       579833          1   \n",
       "4106  3c3eba72-cda4-4519-8d79-ee33f99d66b0       620588          0   \n",
       "2851  988470a6-9910-4a4a-b4b7-f3fefe09e6e1       632338          1   \n",
       "4291  1930406c-7458-45b0-8a22-904cac7f37a3       618747          1   \n",
       "2303  be8bc9ee-a912-4b2c-be12-f4983bba4c38       637416          0   \n",
       "\n",
       "      TotalVisits  Total Time Spent on Website  Page Views Per Visit  \\\n",
       "9210     0.071429                     0.471756              0.230769   \n",
       "4106     0.023810                     0.234606              0.076923   \n",
       "2851     0.047619                     0.405598              0.153846   \n",
       "4291     0.095238                     0.572519              0.307692   \n",
       "2303     0.023810                     0.789822              0.076923   \n",
       "\n",
       "      Landing Page Submission  Lead Add Form  Google  Olark Chat  ...  \\\n",
       "9210                        1              0       0           0  ...   \n",
       "4106                        1              0       1           0  ...   \n",
       "2851                        1              0       1           0  ...   \n",
       "4291                        1              0       1           0  ...   \n",
       "2303                        1              0       1           0  ...   \n",
       "\n",
       "      Other Metro Cities  Thane & Outskirts  Tier II Cities  yes_copy  \\\n",
       "9210                   0                  0               0         0   \n",
       "4106                   0                  0               0         0   \n",
       "2851                   0                  0               0         0   \n",
       "4291                   0                  0               0         0   \n",
       "2303                   0                  0               0         0   \n",
       "\n",
       "      Email Opened  Modified  Olark Chat Conversation  Other_na  \\\n",
       "9210             0         1                        0         0   \n",
       "4106             0         1                        0         0   \n",
       "2851             0         1                        0         0   \n",
       "4291             1         0                        0         0   \n",
       "2303             0         1                        0         0   \n",
       "\n",
       "      Page Visited on Website  SMS Sent  \n",
       "9210                        0         0  \n",
       "4106                        0         0  \n",
       "2851                        0         0  \n",
       "4291                        0         0  \n",
       "2303                        0         0  \n",
       "\n",
       "[5 rows x 59 columns]"
      ]
     },
     "execution_count": 427,
     "metadata": {},
     "output_type": "execute_result"
    }
   ],
   "source": [
    "final_train.head()"
   ]
  },
  {
   "cell_type": "markdown",
   "metadata": {},
   "source": [
    "## E. Creating the test train split "
   ]
  },
  {
   "cell_type": "code",
   "execution_count": 428,
   "metadata": {},
   "outputs": [],
   "source": [
    "from sklearn.model_selection import train_test_split"
   ]
  },
  {
   "cell_type": "code",
   "execution_count": 429,
   "metadata": {},
   "outputs": [],
   "source": [
    "x = final.drop(['Prospect ID','Lead Number','Converted'], axis =1)"
   ]
  },
  {
   "cell_type": "code",
   "execution_count": 430,
   "metadata": {},
   "outputs": [
    {
     "data": {
      "text/html": [
       "<div>\n",
       "<style scoped>\n",
       "    .dataframe tbody tr th:only-of-type {\n",
       "        vertical-align: middle;\n",
       "    }\n",
       "\n",
       "    .dataframe tbody tr th {\n",
       "        vertical-align: top;\n",
       "    }\n",
       "\n",
       "    .dataframe thead th {\n",
       "        text-align: right;\n",
       "    }\n",
       "</style>\n",
       "<table border=\"1\" class=\"dataframe\">\n",
       "  <thead>\n",
       "    <tr style=\"text-align: right;\">\n",
       "      <th></th>\n",
       "      <th>TotalVisits</th>\n",
       "      <th>Total Time Spent on Website</th>\n",
       "      <th>Page Views Per Visit</th>\n",
       "      <th>Landing Page Submission</th>\n",
       "      <th>Lead Add Form</th>\n",
       "      <th>Google</th>\n",
       "      <th>Olark Chat</th>\n",
       "      <th>Organic Search</th>\n",
       "      <th>Other_ls</th>\n",
       "      <th>Reference</th>\n",
       "      <th>...</th>\n",
       "      <th>Other Metro Cities</th>\n",
       "      <th>Thane &amp; Outskirts</th>\n",
       "      <th>Tier II Cities</th>\n",
       "      <th>yes_copy</th>\n",
       "      <th>Email Opened</th>\n",
       "      <th>Modified</th>\n",
       "      <th>Olark Chat Conversation</th>\n",
       "      <th>Other_na</th>\n",
       "      <th>Page Visited on Website</th>\n",
       "      <th>SMS Sent</th>\n",
       "    </tr>\n",
       "  </thead>\n",
       "  <tbody>\n",
       "    <tr>\n",
       "      <th>6</th>\n",
       "      <td>2.0</td>\n",
       "      <td>1640</td>\n",
       "      <td>2.0</td>\n",
       "      <td>1</td>\n",
       "      <td>0</td>\n",
       "      <td>1</td>\n",
       "      <td>0</td>\n",
       "      <td>0</td>\n",
       "      <td>0</td>\n",
       "      <td>0</td>\n",
       "      <td>...</td>\n",
       "      <td>0</td>\n",
       "      <td>0</td>\n",
       "      <td>0</td>\n",
       "      <td>0</td>\n",
       "      <td>0</td>\n",
       "      <td>1</td>\n",
       "      <td>0</td>\n",
       "      <td>0</td>\n",
       "      <td>0</td>\n",
       "      <td>0</td>\n",
       "    </tr>\n",
       "    <tr>\n",
       "      <th>22</th>\n",
       "      <td>1.0</td>\n",
       "      <td>1013</td>\n",
       "      <td>1.0</td>\n",
       "      <td>1</td>\n",
       "      <td>0</td>\n",
       "      <td>1</td>\n",
       "      <td>0</td>\n",
       "      <td>0</td>\n",
       "      <td>0</td>\n",
       "      <td>0</td>\n",
       "      <td>...</td>\n",
       "      <td>0</td>\n",
       "      <td>0</td>\n",
       "      <td>0</td>\n",
       "      <td>0</td>\n",
       "      <td>0</td>\n",
       "      <td>1</td>\n",
       "      <td>0</td>\n",
       "      <td>0</td>\n",
       "      <td>0</td>\n",
       "      <td>0</td>\n",
       "    </tr>\n",
       "    <tr>\n",
       "      <th>27</th>\n",
       "      <td>6.0</td>\n",
       "      <td>1315</td>\n",
       "      <td>6.0</td>\n",
       "      <td>1</td>\n",
       "      <td>0</td>\n",
       "      <td>1</td>\n",
       "      <td>0</td>\n",
       "      <td>0</td>\n",
       "      <td>0</td>\n",
       "      <td>0</td>\n",
       "      <td>...</td>\n",
       "      <td>0</td>\n",
       "      <td>0</td>\n",
       "      <td>0</td>\n",
       "      <td>0</td>\n",
       "      <td>1</td>\n",
       "      <td>0</td>\n",
       "      <td>0</td>\n",
       "      <td>0</td>\n",
       "      <td>0</td>\n",
       "      <td>0</td>\n",
       "    </tr>\n",
       "    <tr>\n",
       "      <th>37</th>\n",
       "      <td>5.0</td>\n",
       "      <td>563</td>\n",
       "      <td>5.0</td>\n",
       "      <td>1</td>\n",
       "      <td>0</td>\n",
       "      <td>1</td>\n",
       "      <td>0</td>\n",
       "      <td>0</td>\n",
       "      <td>0</td>\n",
       "      <td>0</td>\n",
       "      <td>...</td>\n",
       "      <td>0</td>\n",
       "      <td>0</td>\n",
       "      <td>0</td>\n",
       "      <td>0</td>\n",
       "      <td>1</td>\n",
       "      <td>0</td>\n",
       "      <td>0</td>\n",
       "      <td>0</td>\n",
       "      <td>0</td>\n",
       "      <td>0</td>\n",
       "    </tr>\n",
       "    <tr>\n",
       "      <th>39</th>\n",
       "      <td>4.0</td>\n",
       "      <td>25</td>\n",
       "      <td>4.0</td>\n",
       "      <td>1</td>\n",
       "      <td>0</td>\n",
       "      <td>1</td>\n",
       "      <td>0</td>\n",
       "      <td>0</td>\n",
       "      <td>0</td>\n",
       "      <td>0</td>\n",
       "      <td>...</td>\n",
       "      <td>0</td>\n",
       "      <td>0</td>\n",
       "      <td>0</td>\n",
       "      <td>0</td>\n",
       "      <td>1</td>\n",
       "      <td>0</td>\n",
       "      <td>0</td>\n",
       "      <td>0</td>\n",
       "      <td>0</td>\n",
       "      <td>0</td>\n",
       "    </tr>\n",
       "  </tbody>\n",
       "</table>\n",
       "<p>5 rows × 56 columns</p>\n",
       "</div>"
      ],
      "text/plain": [
       "    TotalVisits  Total Time Spent on Website  Page Views Per Visit  \\\n",
       "6           2.0                         1640                   2.0   \n",
       "22          1.0                         1013                   1.0   \n",
       "27          6.0                         1315                   6.0   \n",
       "37          5.0                          563                   5.0   \n",
       "39          4.0                           25                   4.0   \n",
       "\n",
       "    Landing Page Submission  Lead Add Form  Google  Olark Chat  \\\n",
       "6                         1              0       1           0   \n",
       "22                        1              0       1           0   \n",
       "27                        1              0       1           0   \n",
       "37                        1              0       1           0   \n",
       "39                        1              0       1           0   \n",
       "\n",
       "    Organic Search  Other_ls  Reference  ...  Other Metro Cities  \\\n",
       "6                0         0          0  ...                   0   \n",
       "22               0         0          0  ...                   0   \n",
       "27               0         0          0  ...                   0   \n",
       "37               0         0          0  ...                   0   \n",
       "39               0         0          0  ...                   0   \n",
       "\n",
       "    Thane & Outskirts  Tier II Cities  yes_copy  Email Opened  Modified  \\\n",
       "6                   0               0         0             0         1   \n",
       "22                  0               0         0             0         1   \n",
       "27                  0               0         0             1         0   \n",
       "37                  0               0         0             1         0   \n",
       "39                  0               0         0             1         0   \n",
       "\n",
       "    Olark Chat Conversation  Other_na  Page Visited on Website  SMS Sent  \n",
       "6                         0         0                        0         0  \n",
       "22                        0         0                        0         0  \n",
       "27                        0         0                        0         0  \n",
       "37                        0         0                        0         0  \n",
       "39                        0         0                        0         0  \n",
       "\n",
       "[5 rows x 56 columns]"
      ]
     },
     "execution_count": 430,
     "metadata": {},
     "output_type": "execute_result"
    }
   ],
   "source": [
    "x.head()"
   ]
  },
  {
   "cell_type": "code",
   "execution_count": 431,
   "metadata": {},
   "outputs": [],
   "source": [
    "y = final['Converted']"
   ]
  },
  {
   "cell_type": "code",
   "execution_count": 432,
   "metadata": {},
   "outputs": [
    {
     "data": {
      "text/plain": [
       "6     1\n",
       "22    1\n",
       "27    1\n",
       "37    1\n",
       "39    1\n",
       "Name: Converted, dtype: int64"
      ]
     },
     "execution_count": 432,
     "metadata": {},
     "output_type": "execute_result"
    }
   ],
   "source": [
    "y.head()"
   ]
  },
  {
   "cell_type": "code",
   "execution_count": 433,
   "metadata": {},
   "outputs": [],
   "source": [
    "x_train, x_test, y_train, y_test = train_test_split(x,y, train_size = 0.7, test_size = 0.3, random_state = 100)"
   ]
  },
  {
   "cell_type": "code",
   "execution_count": 434,
   "metadata": {},
   "outputs": [
    {
     "data": {
      "text/plain": [
       "0.6840077071290944"
      ]
     },
     "execution_count": 434,
     "metadata": {},
     "output_type": "execute_result"
    }
   ],
   "source": [
    "# calculating the conversion rate\n",
    "\n",
    "conversion = sum(final['Converted'])/len(final['Converted'].index)\n",
    "conversion"
   ]
  },
  {
   "cell_type": "markdown",
   "metadata": {},
   "source": [
    "- We have a converstion rate of 37.86 percentage "
   ]
  },
  {
   "cell_type": "markdown",
   "metadata": {},
   "source": [
    "## F. Building the first model"
   ]
  },
  {
   "cell_type": "code",
   "execution_count": 435,
   "metadata": {},
   "outputs": [],
   "source": [
    "import statsmodels.api as sm"
   ]
  },
  {
   "cell_type": "code",
   "execution_count": 436,
   "metadata": {},
   "outputs": [
    {
     "data": {
      "text/html": [
       "<table class=\"simpletable\">\n",
       "<caption>Generalized Linear Model Regression Results</caption>\n",
       "<tr>\n",
       "  <th>Dep. Variable:</th>       <td>Converted</td>    <th>  No. Observations:  </th>  <td>   363</td> \n",
       "</tr>\n",
       "<tr>\n",
       "  <th>Model:</th>                  <td>GLM</td>       <th>  Df Residuals:      </th>  <td>   307</td> \n",
       "</tr>\n",
       "<tr>\n",
       "  <th>Model Family:</th>        <td>Binomial</td>     <th>  Df Model:          </th>  <td>    55</td> \n",
       "</tr>\n",
       "<tr>\n",
       "  <th>Link Function:</th>         <td>Logit</td>      <th>  Scale:             </th> <td>  1.0000</td>\n",
       "</tr>\n",
       "<tr>\n",
       "  <th>Method:</th>                <td>IRLS</td>       <th>  Log-Likelihood:    </th> <td> -106.29</td>\n",
       "</tr>\n",
       "<tr>\n",
       "  <th>Date:</th>            <td>Tue, 25 Jun 2024</td> <th>  Deviance:          </th> <td>  212.57</td>\n",
       "</tr>\n",
       "<tr>\n",
       "  <th>Time:</th>                <td>05:57:18</td>     <th>  Pearson chi2:      </th>  <td>  230.</td> \n",
       "</tr>\n",
       "<tr>\n",
       "  <th>No. Iterations:</th>         <td>23</td>        <th>  Pseudo R-squ. (CS):</th>  <td>0.5045</td> \n",
       "</tr>\n",
       "<tr>\n",
       "  <th>Covariance Type:</th>     <td>nonrobust</td>    <th>                     </th>     <td> </td>   \n",
       "</tr>\n",
       "</table>\n",
       "<table class=\"simpletable\">\n",
       "<tr>\n",
       "               <td></td>                  <th>coef</th>     <th>std err</th>      <th>z</th>      <th>P>|z|</th>  <th>[0.025</th>    <th>0.975]</th>  \n",
       "</tr>\n",
       "<tr>\n",
       "  <th>const</th>                       <td>   -5.1862</td> <td>    3.095</td> <td>   -1.676</td> <td> 0.094</td> <td>  -11.252</td> <td>    0.879</td>\n",
       "</tr>\n",
       "<tr>\n",
       "  <th>TotalVisits</th>                 <td>    0.0464</td> <td>    0.056</td> <td>    0.832</td> <td> 0.405</td> <td>   -0.063</td> <td>    0.156</td>\n",
       "</tr>\n",
       "<tr>\n",
       "  <th>Total Time Spent on Website</th> <td>    0.0034</td> <td>    0.000</td> <td>    7.380</td> <td> 0.000</td> <td>    0.003</td> <td>    0.004</td>\n",
       "</tr>\n",
       "<tr>\n",
       "  <th>Page Views Per Visit</th>        <td>   -0.0293</td> <td>    0.141</td> <td>   -0.209</td> <td> 0.835</td> <td>   -0.305</td> <td>    0.246</td>\n",
       "</tr>\n",
       "<tr>\n",
       "  <th>Landing Page Submission</th>     <td>   -1.5632</td> <td>    1.001</td> <td>   -1.561</td> <td> 0.118</td> <td>   -3.526</td> <td>    0.399</td>\n",
       "</tr>\n",
       "<tr>\n",
       "  <th>Lead Add Form</th>               <td>   11.3515</td> <td> 6.55e+04</td> <td>    0.000</td> <td> 1.000</td> <td>-1.28e+05</td> <td> 1.28e+05</td>\n",
       "</tr>\n",
       "<tr>\n",
       "  <th>Google</th>                      <td>    1.2743</td> <td>    0.588</td> <td>    2.167</td> <td> 0.030</td> <td>    0.122</td> <td>    2.427</td>\n",
       "</tr>\n",
       "<tr>\n",
       "  <th>Olark Chat</th>                  <td>   -3.5151</td> <td>    2.285</td> <td>   -1.538</td> <td> 0.124</td> <td>   -7.994</td> <td>    0.964</td>\n",
       "</tr>\n",
       "<tr>\n",
       "  <th>Organic Search</th>              <td>   -1.0341</td> <td>    1.044</td> <td>   -0.990</td> <td> 0.322</td> <td>   -3.080</td> <td>    1.012</td>\n",
       "</tr>\n",
       "<tr>\n",
       "  <th>Other_ls</th>                    <td>  -22.3939</td> <td> 1.31e+05</td> <td>   -0.000</td> <td> 1.000</td> <td>-2.57e+05</td> <td> 2.57e+05</td>\n",
       "</tr>\n",
       "<tr>\n",
       "  <th>Reference</th>                   <td>   11.3515</td> <td> 6.55e+04</td> <td>    0.000</td> <td> 1.000</td> <td>-1.28e+05</td> <td> 1.28e+05</td>\n",
       "</tr>\n",
       "<tr>\n",
       "  <th>Referral Sites</th>              <td>   22.4613</td> <td> 1.31e+05</td> <td>    0.000</td> <td> 1.000</td> <td>-2.57e+05</td> <td> 2.57e+05</td>\n",
       "</tr>\n",
       "<tr>\n",
       "  <th>yes_email</th>                   <td>  -25.7688</td> <td> 3.45e+04</td> <td>   -0.001</td> <td> 0.999</td> <td>-6.76e+04</td> <td> 6.75e+04</td>\n",
       "</tr>\n",
       "<tr>\n",
       "  <th>Email Bounced</th>               <td>   19.5349</td> <td> 2.71e+04</td> <td>    0.001</td> <td> 0.999</td> <td>-5.31e+04</td> <td> 5.31e+04</td>\n",
       "</tr>\n",
       "<tr>\n",
       "  <th>Email Link Clicked</th>          <td>    1.7353</td> <td>    1.480</td> <td>    1.173</td> <td> 0.241</td> <td>   -1.165</td> <td>    4.635</td>\n",
       "</tr>\n",
       "<tr>\n",
       "  <th>Email Opened</th>                <td>    0.8030</td> <td>    1.235</td> <td>    0.650</td> <td> 0.516</td> <td>   -1.618</td> <td>    3.224</td>\n",
       "</tr>\n",
       "<tr>\n",
       "  <th>Form Submitted on Website</th>   <td>   -0.4303</td> <td>    1.577</td> <td>   -0.273</td> <td> 0.785</td> <td>   -3.521</td> <td>    2.660</td>\n",
       "</tr>\n",
       "<tr>\n",
       "  <th>Olark_Chat_Conversation_la</th>  <td>   -0.8226</td> <td>    1.597</td> <td>   -0.515</td> <td> 0.607</td> <td>   -3.953</td> <td>    2.308</td>\n",
       "</tr>\n",
       "<tr>\n",
       "  <th>Other_la</th>                    <td>   25.5054</td> <td>  8.3e+04</td> <td>    0.000</td> <td> 1.000</td> <td>-1.63e+05</td> <td> 1.63e+05</td>\n",
       "</tr>\n",
       "<tr>\n",
       "  <th>Page Visited on Website</th>     <td>    1.2352</td> <td>    1.349</td> <td>    0.915</td> <td> 0.360</td> <td>   -1.410</td> <td>    3.880</td>\n",
       "</tr>\n",
       "<tr>\n",
       "  <th>sms_sent_la</th>                 <td>    1.9433</td> <td>    1.357</td> <td>    1.432</td> <td> 0.152</td> <td>   -0.717</td> <td>    4.603</td>\n",
       "</tr>\n",
       "<tr>\n",
       "  <th>Business Administration</th>     <td>   -1.3561</td> <td>    0.851</td> <td>   -1.594</td> <td> 0.111</td> <td>   -3.024</td> <td>    0.312</td>\n",
       "</tr>\n",
       "<tr>\n",
       "  <th>E-Business</th>                  <td>   -0.2822</td> <td>    2.677</td> <td>   -0.105</td> <td> 0.916</td> <td>   -5.530</td> <td>    4.965</td>\n",
       "</tr>\n",
       "<tr>\n",
       "  <th>E-COMMERCE</th>                  <td>   21.4878</td> <td>  8.9e+04</td> <td>    0.000</td> <td> 1.000</td> <td>-1.74e+05</td> <td> 1.74e+05</td>\n",
       "</tr>\n",
       "<tr>\n",
       "  <th>Finance Management</th>          <td>   -0.4597</td> <td>    0.782</td> <td>   -0.588</td> <td> 0.557</td> <td>   -1.993</td> <td>    1.073</td>\n",
       "</tr>\n",
       "<tr>\n",
       "  <th>Healthcare Management</th>       <td>   21.8921</td> <td> 1.31e+05</td> <td>    0.000</td> <td> 1.000</td> <td>-2.57e+05</td> <td> 2.57e+05</td>\n",
       "</tr>\n",
       "<tr>\n",
       "  <th>Hospitality Management</th>      <td>   -0.3384</td> <td>    1.446</td> <td>   -0.234</td> <td> 0.815</td> <td>   -3.172</td> <td>    2.495</td>\n",
       "</tr>\n",
       "<tr>\n",
       "  <th>Human Resource Management</th>   <td>   -0.9940</td> <td>    0.815</td> <td>   -1.219</td> <td> 0.223</td> <td>   -2.592</td> <td>    0.604</td>\n",
       "</tr>\n",
       "<tr>\n",
       "  <th>IT Projects Management</th>      <td>   -0.1936</td> <td>    1.038</td> <td>   -0.186</td> <td> 0.852</td> <td>   -2.229</td> <td>    1.842</td>\n",
       "</tr>\n",
       "<tr>\n",
       "  <th>International Business</th>      <td>    1.1214</td> <td>    1.454</td> <td>    0.771</td> <td> 0.441</td> <td>   -1.728</td> <td>    3.971</td>\n",
       "</tr>\n",
       "<tr>\n",
       "  <th>Marketing Management</th>        <td>   -0.3170</td> <td>    0.835</td> <td>   -0.379</td> <td> 0.704</td> <td>   -1.954</td> <td>    1.320</td>\n",
       "</tr>\n",
       "<tr>\n",
       "  <th>Media and Advertising</th>       <td>   -0.1125</td> <td>    1.110</td> <td>   -0.101</td> <td> 0.919</td> <td>   -2.287</td> <td>    2.062</td>\n",
       "</tr>\n",
       "<tr>\n",
       "  <th>Operations Management</th>       <td>    0.0944</td> <td>    0.917</td> <td>    0.103</td> <td> 0.918</td> <td>   -1.703</td> <td>    1.891</td>\n",
       "</tr>\n",
       "<tr>\n",
       "  <th>Retail Management</th>           <td>   -2.1835</td> <td>    1.234</td> <td>   -1.769</td> <td> 0.077</td> <td>   -4.602</td> <td>    0.236</td>\n",
       "</tr>\n",
       "<tr>\n",
       "  <th>Rural and Agribusiness</th>      <td>   -2.2807</td> <td>    6.289</td> <td>   -0.363</td> <td> 0.717</td> <td>  -14.607</td> <td>   10.045</td>\n",
       "</tr>\n",
       "<tr>\n",
       "  <th>Supply Chain Management</th>     <td>    2.0187</td> <td>    1.394</td> <td>    1.448</td> <td> 0.148</td> <td>   -0.714</td> <td>    4.751</td>\n",
       "</tr>\n",
       "<tr>\n",
       "  <th>Travel and Tourism</th>          <td>   22.6357</td> <td>  5.2e+04</td> <td>    0.000</td> <td> 1.000</td> <td>-1.02e+05</td> <td> 1.02e+05</td>\n",
       "</tr>\n",
       "<tr>\n",
       "  <th>Online Search</th>               <td>    0.9774</td> <td>    0.806</td> <td>    1.212</td> <td> 0.225</td> <td>   -0.603</td> <td>    2.558</td>\n",
       "</tr>\n",
       "<tr>\n",
       "  <th>Other</th>                       <td>    1.3223</td> <td>    0.921</td> <td>    1.435</td> <td> 0.151</td> <td>   -0.483</td> <td>    3.128</td>\n",
       "</tr>\n",
       "<tr>\n",
       "  <th>Other_ed</th>                    <td>    1.4342</td> <td>    0.976</td> <td>    1.469</td> <td> 0.142</td> <td>   -0.479</td> <td>    3.348</td>\n",
       "</tr>\n",
       "<tr>\n",
       "  <th>Word Of Mouth</th>               <td>    1.5328</td> <td>    0.924</td> <td>    1.659</td> <td> 0.097</td> <td>   -0.278</td> <td>    3.344</td>\n",
       "</tr>\n",
       "<tr>\n",
       "  <th>edu_someschool</th>              <td>    2.0177</td> <td>    0.922</td> <td>    2.189</td> <td> 0.029</td> <td>    0.211</td> <td>    3.825</td>\n",
       "</tr>\n",
       "<tr>\n",
       "  <th>Other_lp</th>                    <td>   23.9799</td> <td> 5.38e+04</td> <td>    0.000</td> <td> 1.000</td> <td>-1.05e+05</td> <td> 1.05e+05</td>\n",
       "</tr>\n",
       "<tr>\n",
       "  <th>Potential Lead</th>              <td>    2.3007</td> <td>    0.456</td> <td>    5.045</td> <td> 0.000</td> <td>    1.407</td> <td>    3.194</td>\n",
       "</tr>\n",
       "<tr>\n",
       "  <th>lp_someschool</th>               <td>  -41.0206</td> <td> 3.78e+04</td> <td>   -0.001</td> <td> 0.999</td> <td>-7.41e+04</td> <td> 7.41e+04</td>\n",
       "</tr>\n",
       "<tr>\n",
       "  <th>Other Cities</th>                <td>    1.2222</td> <td>    0.745</td> <td>    1.641</td> <td> 0.101</td> <td>   -0.238</td> <td>    2.682</td>\n",
       "</tr>\n",
       "<tr>\n",
       "  <th>Other Cities of Maharashtra</th> <td>    0.0990</td> <td>    0.667</td> <td>    0.149</td> <td> 0.882</td> <td>   -1.208</td> <td>    1.406</td>\n",
       "</tr>\n",
       "<tr>\n",
       "  <th>Other Metro Cities</th>          <td>   24.8059</td> <td> 3.13e+04</td> <td>    0.001</td> <td> 0.999</td> <td>-6.13e+04</td> <td> 6.14e+04</td>\n",
       "</tr>\n",
       "<tr>\n",
       "  <th>Thane & Outskirts</th>           <td>    0.7889</td> <td>    0.500</td> <td>    1.576</td> <td> 0.115</td> <td>   -0.192</td> <td>    1.770</td>\n",
       "</tr>\n",
       "<tr>\n",
       "  <th>Tier II Cities</th>              <td>   -0.1568</td> <td>    3.287</td> <td>   -0.048</td> <td> 0.962</td> <td>   -6.599</td> <td>    6.286</td>\n",
       "</tr>\n",
       "<tr>\n",
       "  <th>yes_copy</th>                    <td>    0.2657</td> <td>    0.890</td> <td>    0.299</td> <td> 0.765</td> <td>   -1.478</td> <td>    2.009</td>\n",
       "</tr>\n",
       "<tr>\n",
       "  <th>Email Opened</th>                <td>    0.6370</td> <td>    2.511</td> <td>    0.254</td> <td> 0.800</td> <td>   -4.285</td> <td>    5.559</td>\n",
       "</tr>\n",
       "<tr>\n",
       "  <th>Modified</th>                    <td>   -0.0670</td> <td>    2.339</td> <td>   -0.029</td> <td> 0.977</td> <td>   -4.651</td> <td>    4.517</td>\n",
       "</tr>\n",
       "<tr>\n",
       "  <th>Olark Chat Conversation</th>     <td>   21.7476</td> <td> 1.31e+05</td> <td>    0.000</td> <td> 1.000</td> <td>-2.57e+05</td> <td> 2.57e+05</td>\n",
       "</tr>\n",
       "<tr>\n",
       "  <th>Other_na</th>                    <td>   -0.7695</td> <td> 8.99e+04</td> <td>-8.56e-06</td> <td> 1.000</td> <td>-1.76e+05</td> <td> 1.76e+05</td>\n",
       "</tr>\n",
       "<tr>\n",
       "  <th>Page Visited on Website</th>     <td>    0.9195</td> <td>    2.697</td> <td>    0.341</td> <td> 0.733</td> <td>   -4.367</td> <td>    6.206</td>\n",
       "</tr>\n",
       "<tr>\n",
       "  <th>SMS Sent</th>                    <td>   -0.6393</td> <td>    2.580</td> <td>   -0.248</td> <td> 0.804</td> <td>   -5.697</td> <td>    4.418</td>\n",
       "</tr>\n",
       "</table>"
      ],
      "text/latex": [
       "\\begin{center}\n",
       "\\begin{tabular}{lclc}\n",
       "\\toprule\n",
       "\\textbf{Dep. Variable:}                &    Converted     & \\textbf{  No. Observations:  } &      363    \\\\\n",
       "\\textbf{Model:}                        &       GLM        & \\textbf{  Df Residuals:      } &      307    \\\\\n",
       "\\textbf{Model Family:}                 &     Binomial     & \\textbf{  Df Model:          } &       55    \\\\\n",
       "\\textbf{Link Function:}                &      Logit       & \\textbf{  Scale:             } &    1.0000   \\\\\n",
       "\\textbf{Method:}                       &       IRLS       & \\textbf{  Log-Likelihood:    } &   -106.29   \\\\\n",
       "\\textbf{Date:}                         & Tue, 25 Jun 2024 & \\textbf{  Deviance:          } &    212.57   \\\\\n",
       "\\textbf{Time:}                         &     05:57:18     & \\textbf{  Pearson chi2:      } &     230.    \\\\\n",
       "\\textbf{No. Iterations:}               &        23        & \\textbf{  Pseudo R-squ. (CS):} &   0.5045    \\\\\n",
       "\\textbf{Covariance Type:}              &    nonrobust     & \\textbf{                     } &             \\\\\n",
       "\\bottomrule\n",
       "\\end{tabular}\n",
       "\\begin{tabular}{lcccccc}\n",
       "                                       & \\textbf{coef} & \\textbf{std err} & \\textbf{z} & \\textbf{P$> |$z$|$} & \\textbf{[0.025} & \\textbf{0.975]}  \\\\\n",
       "\\midrule\n",
       "\\textbf{const}                         &      -5.1862  &        3.095     &    -1.676  &         0.094        &      -11.252    &        0.879     \\\\\n",
       "\\textbf{TotalVisits}                   &       0.0464  &        0.056     &     0.832  &         0.405        &       -0.063    &        0.156     \\\\\n",
       "\\textbf{Total Time Spent on Website}   &       0.0034  &        0.000     &     7.380  &         0.000        &        0.003    &        0.004     \\\\\n",
       "\\textbf{Page Views Per Visit}          &      -0.0293  &        0.141     &    -0.209  &         0.835        &       -0.305    &        0.246     \\\\\n",
       "\\textbf{Landing Page Submission}       &      -1.5632  &        1.001     &    -1.561  &         0.118        &       -3.526    &        0.399     \\\\\n",
       "\\textbf{Lead Add Form}                 &      11.3515  &     6.55e+04     &     0.000  &         1.000        &    -1.28e+05    &     1.28e+05     \\\\\n",
       "\\textbf{Google}                        &       1.2743  &        0.588     &     2.167  &         0.030        &        0.122    &        2.427     \\\\\n",
       "\\textbf{Olark Chat}                    &      -3.5151  &        2.285     &    -1.538  &         0.124        &       -7.994    &        0.964     \\\\\n",
       "\\textbf{Organic Search}                &      -1.0341  &        1.044     &    -0.990  &         0.322        &       -3.080    &        1.012     \\\\\n",
       "\\textbf{Other\\_ls}                     &     -22.3939  &     1.31e+05     &    -0.000  &         1.000        &    -2.57e+05    &     2.57e+05     \\\\\n",
       "\\textbf{Reference}                     &      11.3515  &     6.55e+04     &     0.000  &         1.000        &    -1.28e+05    &     1.28e+05     \\\\\n",
       "\\textbf{Referral Sites}                &      22.4613  &     1.31e+05     &     0.000  &         1.000        &    -2.57e+05    &     2.57e+05     \\\\\n",
       "\\textbf{yes\\_email}                    &     -25.7688  &     3.45e+04     &    -0.001  &         0.999        &    -6.76e+04    &     6.75e+04     \\\\\n",
       "\\textbf{Email Bounced}                 &      19.5349  &     2.71e+04     &     0.001  &         0.999        &    -5.31e+04    &     5.31e+04     \\\\\n",
       "\\textbf{Email Link Clicked}            &       1.7353  &        1.480     &     1.173  &         0.241        &       -1.165    &        4.635     \\\\\n",
       "\\textbf{Email Opened}                  &       0.8030  &        1.235     &     0.650  &         0.516        &       -1.618    &        3.224     \\\\\n",
       "\\textbf{Form Submitted on Website}     &      -0.4303  &        1.577     &    -0.273  &         0.785        &       -3.521    &        2.660     \\\\\n",
       "\\textbf{Olark\\_Chat\\_Conversation\\_la} &      -0.8226  &        1.597     &    -0.515  &         0.607        &       -3.953    &        2.308     \\\\\n",
       "\\textbf{Other\\_la}                     &      25.5054  &      8.3e+04     &     0.000  &         1.000        &    -1.63e+05    &     1.63e+05     \\\\\n",
       "\\textbf{Page Visited on Website}       &       1.2352  &        1.349     &     0.915  &         0.360        &       -1.410    &        3.880     \\\\\n",
       "\\textbf{sms\\_sent\\_la}                 &       1.9433  &        1.357     &     1.432  &         0.152        &       -0.717    &        4.603     \\\\\n",
       "\\textbf{Business Administration}       &      -1.3561  &        0.851     &    -1.594  &         0.111        &       -3.024    &        0.312     \\\\\n",
       "\\textbf{E-Business}                    &      -0.2822  &        2.677     &    -0.105  &         0.916        &       -5.530    &        4.965     \\\\\n",
       "\\textbf{E-COMMERCE}                    &      21.4878  &      8.9e+04     &     0.000  &         1.000        &    -1.74e+05    &     1.74e+05     \\\\\n",
       "\\textbf{Finance Management}            &      -0.4597  &        0.782     &    -0.588  &         0.557        &       -1.993    &        1.073     \\\\\n",
       "\\textbf{Healthcare Management}         &      21.8921  &     1.31e+05     &     0.000  &         1.000        &    -2.57e+05    &     2.57e+05     \\\\\n",
       "\\textbf{Hospitality Management}        &      -0.3384  &        1.446     &    -0.234  &         0.815        &       -3.172    &        2.495     \\\\\n",
       "\\textbf{Human Resource Management}     &      -0.9940  &        0.815     &    -1.219  &         0.223        &       -2.592    &        0.604     \\\\\n",
       "\\textbf{IT Projects Management}        &      -0.1936  &        1.038     &    -0.186  &         0.852        &       -2.229    &        1.842     \\\\\n",
       "\\textbf{International Business}        &       1.1214  &        1.454     &     0.771  &         0.441        &       -1.728    &        3.971     \\\\\n",
       "\\textbf{Marketing Management}          &      -0.3170  &        0.835     &    -0.379  &         0.704        &       -1.954    &        1.320     \\\\\n",
       "\\textbf{Media and Advertising}         &      -0.1125  &        1.110     &    -0.101  &         0.919        &       -2.287    &        2.062     \\\\\n",
       "\\textbf{Operations Management}         &       0.0944  &        0.917     &     0.103  &         0.918        &       -1.703    &        1.891     \\\\\n",
       "\\textbf{Retail Management}             &      -2.1835  &        1.234     &    -1.769  &         0.077        &       -4.602    &        0.236     \\\\\n",
       "\\textbf{Rural and Agribusiness}        &      -2.2807  &        6.289     &    -0.363  &         0.717        &      -14.607    &       10.045     \\\\\n",
       "\\textbf{Supply Chain Management}       &       2.0187  &        1.394     &     1.448  &         0.148        &       -0.714    &        4.751     \\\\\n",
       "\\textbf{Travel and Tourism}            &      22.6357  &      5.2e+04     &     0.000  &         1.000        &    -1.02e+05    &     1.02e+05     \\\\\n",
       "\\textbf{Online Search}                 &       0.9774  &        0.806     &     1.212  &         0.225        &       -0.603    &        2.558     \\\\\n",
       "\\textbf{Other}                         &       1.3223  &        0.921     &     1.435  &         0.151        &       -0.483    &        3.128     \\\\\n",
       "\\textbf{Other\\_ed}                     &       1.4342  &        0.976     &     1.469  &         0.142        &       -0.479    &        3.348     \\\\\n",
       "\\textbf{Word Of Mouth}                 &       1.5328  &        0.924     &     1.659  &         0.097        &       -0.278    &        3.344     \\\\\n",
       "\\textbf{edu\\_someschool}               &       2.0177  &        0.922     &     2.189  &         0.029        &        0.211    &        3.825     \\\\\n",
       "\\textbf{Other\\_lp}                     &      23.9799  &     5.38e+04     &     0.000  &         1.000        &    -1.05e+05    &     1.05e+05     \\\\\n",
       "\\textbf{Potential Lead}                &       2.3007  &        0.456     &     5.045  &         0.000        &        1.407    &        3.194     \\\\\n",
       "\\textbf{lp\\_someschool}                &     -41.0206  &     3.78e+04     &    -0.001  &         0.999        &    -7.41e+04    &     7.41e+04     \\\\\n",
       "\\textbf{Other Cities}                  &       1.2222  &        0.745     &     1.641  &         0.101        &       -0.238    &        2.682     \\\\\n",
       "\\textbf{Other Cities of Maharashtra}   &       0.0990  &        0.667     &     0.149  &         0.882        &       -1.208    &        1.406     \\\\\n",
       "\\textbf{Other Metro Cities}            &      24.8059  &     3.13e+04     &     0.001  &         0.999        &    -6.13e+04    &     6.14e+04     \\\\\n",
       "\\textbf{Thane \\& Outskirts}            &       0.7889  &        0.500     &     1.576  &         0.115        &       -0.192    &        1.770     \\\\\n",
       "\\textbf{Tier II Cities}                &      -0.1568  &        3.287     &    -0.048  &         0.962        &       -6.599    &        6.286     \\\\\n",
       "\\textbf{yes\\_copy}                     &       0.2657  &        0.890     &     0.299  &         0.765        &       -1.478    &        2.009     \\\\\n",
       "\\textbf{Email Opened}                  &       0.6370  &        2.511     &     0.254  &         0.800        &       -4.285    &        5.559     \\\\\n",
       "\\textbf{Modified}                      &      -0.0670  &        2.339     &    -0.029  &         0.977        &       -4.651    &        4.517     \\\\\n",
       "\\textbf{Olark Chat Conversation}       &      21.7476  &     1.31e+05     &     0.000  &         1.000        &    -2.57e+05    &     2.57e+05     \\\\\n",
       "\\textbf{Other\\_na}                     &      -0.7695  &     8.99e+04     & -8.56e-06  &         1.000        &    -1.76e+05    &     1.76e+05     \\\\\n",
       "\\textbf{Page Visited on Website}       &       0.9195  &        2.697     &     0.341  &         0.733        &       -4.367    &        6.206     \\\\\n",
       "\\textbf{SMS Sent}                      &      -0.6393  &        2.580     &    -0.248  &         0.804        &       -5.697    &        4.418     \\\\\n",
       "\\bottomrule\n",
       "\\end{tabular}\n",
       "%\\caption{Generalized Linear Model Regression Results}\n",
       "\\end{center}"
      ],
      "text/plain": [
       "<class 'statsmodels.iolib.summary.Summary'>\n",
       "\"\"\"\n",
       "                 Generalized Linear Model Regression Results                  \n",
       "==============================================================================\n",
       "Dep. Variable:              Converted   No. Observations:                  363\n",
       "Model:                            GLM   Df Residuals:                      307\n",
       "Model Family:                Binomial   Df Model:                           55\n",
       "Link Function:                  Logit   Scale:                          1.0000\n",
       "Method:                          IRLS   Log-Likelihood:                -106.29\n",
       "Date:                Tue, 25 Jun 2024   Deviance:                       212.57\n",
       "Time:                        05:57:18   Pearson chi2:                     230.\n",
       "No. Iterations:                    23   Pseudo R-squ. (CS):             0.5045\n",
       "Covariance Type:            nonrobust                                         \n",
       "===============================================================================================\n",
       "                                  coef    std err          z      P>|z|      [0.025      0.975]\n",
       "-----------------------------------------------------------------------------------------------\n",
       "const                          -5.1862      3.095     -1.676      0.094     -11.252       0.879\n",
       "TotalVisits                     0.0464      0.056      0.832      0.405      -0.063       0.156\n",
       "Total Time Spent on Website     0.0034      0.000      7.380      0.000       0.003       0.004\n",
       "Page Views Per Visit           -0.0293      0.141     -0.209      0.835      -0.305       0.246\n",
       "Landing Page Submission        -1.5632      1.001     -1.561      0.118      -3.526       0.399\n",
       "Lead Add Form                  11.3515   6.55e+04      0.000      1.000   -1.28e+05    1.28e+05\n",
       "Google                          1.2743      0.588      2.167      0.030       0.122       2.427\n",
       "Olark Chat                     -3.5151      2.285     -1.538      0.124      -7.994       0.964\n",
       "Organic Search                 -1.0341      1.044     -0.990      0.322      -3.080       1.012\n",
       "Other_ls                      -22.3939   1.31e+05     -0.000      1.000   -2.57e+05    2.57e+05\n",
       "Reference                      11.3515   6.55e+04      0.000      1.000   -1.28e+05    1.28e+05\n",
       "Referral Sites                 22.4613   1.31e+05      0.000      1.000   -2.57e+05    2.57e+05\n",
       "yes_email                     -25.7688   3.45e+04     -0.001      0.999   -6.76e+04    6.75e+04\n",
       "Email Bounced                  19.5349   2.71e+04      0.001      0.999   -5.31e+04    5.31e+04\n",
       "Email Link Clicked              1.7353      1.480      1.173      0.241      -1.165       4.635\n",
       "Email Opened                    0.8030      1.235      0.650      0.516      -1.618       3.224\n",
       "Form Submitted on Website      -0.4303      1.577     -0.273      0.785      -3.521       2.660\n",
       "Olark_Chat_Conversation_la     -0.8226      1.597     -0.515      0.607      -3.953       2.308\n",
       "Other_la                       25.5054    8.3e+04      0.000      1.000   -1.63e+05    1.63e+05\n",
       "Page Visited on Website         1.2352      1.349      0.915      0.360      -1.410       3.880\n",
       "sms_sent_la                     1.9433      1.357      1.432      0.152      -0.717       4.603\n",
       "Business Administration        -1.3561      0.851     -1.594      0.111      -3.024       0.312\n",
       "E-Business                     -0.2822      2.677     -0.105      0.916      -5.530       4.965\n",
       "E-COMMERCE                     21.4878    8.9e+04      0.000      1.000   -1.74e+05    1.74e+05\n",
       "Finance Management             -0.4597      0.782     -0.588      0.557      -1.993       1.073\n",
       "Healthcare Management          21.8921   1.31e+05      0.000      1.000   -2.57e+05    2.57e+05\n",
       "Hospitality Management         -0.3384      1.446     -0.234      0.815      -3.172       2.495\n",
       "Human Resource Management      -0.9940      0.815     -1.219      0.223      -2.592       0.604\n",
       "IT Projects Management         -0.1936      1.038     -0.186      0.852      -2.229       1.842\n",
       "International Business          1.1214      1.454      0.771      0.441      -1.728       3.971\n",
       "Marketing Management           -0.3170      0.835     -0.379      0.704      -1.954       1.320\n",
       "Media and Advertising          -0.1125      1.110     -0.101      0.919      -2.287       2.062\n",
       "Operations Management           0.0944      0.917      0.103      0.918      -1.703       1.891\n",
       "Retail Management              -2.1835      1.234     -1.769      0.077      -4.602       0.236\n",
       "Rural and Agribusiness         -2.2807      6.289     -0.363      0.717     -14.607      10.045\n",
       "Supply Chain Management         2.0187      1.394      1.448      0.148      -0.714       4.751\n",
       "Travel and Tourism             22.6357    5.2e+04      0.000      1.000   -1.02e+05    1.02e+05\n",
       "Online Search                   0.9774      0.806      1.212      0.225      -0.603       2.558\n",
       "Other                           1.3223      0.921      1.435      0.151      -0.483       3.128\n",
       "Other_ed                        1.4342      0.976      1.469      0.142      -0.479       3.348\n",
       "Word Of Mouth                   1.5328      0.924      1.659      0.097      -0.278       3.344\n",
       "edu_someschool                  2.0177      0.922      2.189      0.029       0.211       3.825\n",
       "Other_lp                       23.9799   5.38e+04      0.000      1.000   -1.05e+05    1.05e+05\n",
       "Potential Lead                  2.3007      0.456      5.045      0.000       1.407       3.194\n",
       "lp_someschool                 -41.0206   3.78e+04     -0.001      0.999   -7.41e+04    7.41e+04\n",
       "Other Cities                    1.2222      0.745      1.641      0.101      -0.238       2.682\n",
       "Other Cities of Maharashtra     0.0990      0.667      0.149      0.882      -1.208       1.406\n",
       "Other Metro Cities             24.8059   3.13e+04      0.001      0.999   -6.13e+04    6.14e+04\n",
       "Thane & Outskirts               0.7889      0.500      1.576      0.115      -0.192       1.770\n",
       "Tier II Cities                 -0.1568      3.287     -0.048      0.962      -6.599       6.286\n",
       "yes_copy                        0.2657      0.890      0.299      0.765      -1.478       2.009\n",
       "Email Opened                    0.6370      2.511      0.254      0.800      -4.285       5.559\n",
       "Modified                       -0.0670      2.339     -0.029      0.977      -4.651       4.517\n",
       "Olark Chat Conversation        21.7476   1.31e+05      0.000      1.000   -2.57e+05    2.57e+05\n",
       "Other_na                       -0.7695   8.99e+04  -8.56e-06      1.000   -1.76e+05    1.76e+05\n",
       "Page Visited on Website         0.9195      2.697      0.341      0.733      -4.367       6.206\n",
       "SMS Sent                       -0.6393      2.580     -0.248      0.804      -5.697       4.418\n",
       "===============================================================================================\n",
       "\"\"\""
      ]
     },
     "execution_count": 436,
     "metadata": {},
     "output_type": "execute_result"
    }
   ],
   "source": [
    "model = sm.GLM(y_train, (sm.add_constant(x_train)), family = sm.families.Binomial())\n",
    "model.fit().summary()"
   ]
  },
  {
   "cell_type": "markdown",
   "metadata": {},
   "source": [
    "## G. Selecting the Variables with RFE"
   ]
  },
  {
   "cell_type": "code",
   "execution_count": 437,
   "metadata": {},
   "outputs": [],
   "source": [
    "# importing relevant libraries \n",
    "\n",
    "from sklearn.linear_model import LogisticRegression \n",
    "logreg = LogisticRegression()"
   ]
  },
  {
   "cell_type": "code",
   "execution_count": 438,
   "metadata": {},
   "outputs": [],
   "source": [
    "# running Recursive Feature Elimination (RFE) \n",
    "\n",
    "from sklearn.feature_selection import RFE \n",
    "rfe = RFE(estimator=logreg, n_features_to_select = 10)\n",
    "\n",
    "rfe = rfe.fit(x_train, y_train)"
   ]
  },
  {
   "cell_type": "code",
   "execution_count": 439,
   "metadata": {},
   "outputs": [
    {
     "data": {
      "text/plain": [
       "[('TotalVisits', False, 46),\n",
       " ('Total Time Spent on Website', False, 47),\n",
       " ('Page Views Per Visit', False, 33),\n",
       " ('Landing Page Submission', False, 2),\n",
       " ('Lead Add Form', False, 31),\n",
       " ('Google', True, 1),\n",
       " ('Olark Chat', False, 23),\n",
       " ('Organic Search', False, 3),\n",
       " ('Other_ls', False, 35),\n",
       " ('Reference', False, 30),\n",
       " ('Referral Sites', False, 18),\n",
       " ('yes_email', False, 5),\n",
       " ('Email Bounced', False, 19),\n",
       " ('Email Link Clicked', False, 12),\n",
       " ('Email Opened', False, 13),\n",
       " ('Form Submitted on Website', True, 1),\n",
       " ('Olark_Chat_Conversation_la', False, 21),\n",
       " ('Other_la', False, 10),\n",
       " ('Page Visited on Website', False, 14),\n",
       " ('sms_sent_la', False, 11),\n",
       " ('Business Administration', False, 16),\n",
       " ('E-Business', False, 26),\n",
       " ('E-COMMERCE', False, 8),\n",
       " ('Finance Management', False, 17),\n",
       " ('Healthcare Management', False, 29),\n",
       " ('Hospitality Management', False, 7),\n",
       " ('Human Resource Management', False, 15),\n",
       " ('IT Projects Management', False, 37),\n",
       " ('International Business', False, 45),\n",
       " ('Marketing Management', False, 39),\n",
       " ('Media and Advertising', False, 38),\n",
       " ('Operations Management', False, 27),\n",
       " ('Retail Management', True, 1),\n",
       " ('Rural and Agribusiness', False, 32),\n",
       " ('Supply Chain Management', True, 1),\n",
       " ('Travel and Tourism', True, 1),\n",
       " ('Online Search', False, 43),\n",
       " ('Other', False, 41),\n",
       " ('Other_ed', False, 4),\n",
       " ('Word Of Mouth', False, 22),\n",
       " ('edu_someschool', False, 20),\n",
       " ('Other_lp', True, 1),\n",
       " ('Potential Lead', True, 1),\n",
       " ('lp_someschool', True, 1),\n",
       " ('Other Cities', False, 25),\n",
       " ('Other Cities of Maharashtra', False, 9),\n",
       " ('Other Metro Cities', True, 1),\n",
       " ('Thane & Outskirts', False, 34),\n",
       " ('Tier II Cities', False, 24),\n",
       " ('yes_copy', False, 6),\n",
       " ('Email Opened', False, 44),\n",
       " ('Modified', True, 1),\n",
       " ('Olark Chat Conversation', False, 28),\n",
       " ('Other_na', False, 42),\n",
       " ('Page Visited on Website', False, 36),\n",
       " ('SMS Sent', False, 40)]"
      ]
     },
     "execution_count": 439,
     "metadata": {},
     "output_type": "execute_result"
    }
   ],
   "source": [
    "# creating a list of all the variables and their RFE rankings \n",
    "\n",
    "list(zip(x_train.columns, rfe.support_, rfe.ranking_))"
   ]
  },
  {
   "cell_type": "code",
   "execution_count": 440,
   "metadata": {},
   "outputs": [],
   "source": [
    "# storing the selected columns in col\n",
    "\n",
    "col = x_train.columns[rfe.support_]"
   ]
  },
  {
   "cell_type": "code",
   "execution_count": 441,
   "metadata": {},
   "outputs": [
    {
     "data": {
      "text/html": [
       "<div>\n",
       "<style scoped>\n",
       "    .dataframe tbody tr th:only-of-type {\n",
       "        vertical-align: middle;\n",
       "    }\n",
       "\n",
       "    .dataframe tbody tr th {\n",
       "        vertical-align: top;\n",
       "    }\n",
       "\n",
       "    .dataframe thead th {\n",
       "        text-align: right;\n",
       "    }\n",
       "</style>\n",
       "<table border=\"1\" class=\"dataframe\">\n",
       "  <thead>\n",
       "    <tr style=\"text-align: right;\">\n",
       "      <th></th>\n",
       "      <th>Google</th>\n",
       "      <th>Form Submitted on Website</th>\n",
       "      <th>Retail Management</th>\n",
       "      <th>Supply Chain Management</th>\n",
       "      <th>Travel and Tourism</th>\n",
       "      <th>Other_lp</th>\n",
       "      <th>Potential Lead</th>\n",
       "      <th>lp_someschool</th>\n",
       "      <th>Other Metro Cities</th>\n",
       "      <th>Modified</th>\n",
       "    </tr>\n",
       "  </thead>\n",
       "  <tbody>\n",
       "    <tr>\n",
       "      <th>9210</th>\n",
       "      <td>0</td>\n",
       "      <td>0</td>\n",
       "      <td>0</td>\n",
       "      <td>0</td>\n",
       "      <td>0</td>\n",
       "      <td>0</td>\n",
       "      <td>1</td>\n",
       "      <td>0</td>\n",
       "      <td>0</td>\n",
       "      <td>1</td>\n",
       "    </tr>\n",
       "    <tr>\n",
       "      <th>4106</th>\n",
       "      <td>1</td>\n",
       "      <td>1</td>\n",
       "      <td>0</td>\n",
       "      <td>0</td>\n",
       "      <td>0</td>\n",
       "      <td>0</td>\n",
       "      <td>0</td>\n",
       "      <td>0</td>\n",
       "      <td>0</td>\n",
       "      <td>1</td>\n",
       "    </tr>\n",
       "    <tr>\n",
       "      <th>2851</th>\n",
       "      <td>1</td>\n",
       "      <td>0</td>\n",
       "      <td>0</td>\n",
       "      <td>0</td>\n",
       "      <td>0</td>\n",
       "      <td>0</td>\n",
       "      <td>1</td>\n",
       "      <td>0</td>\n",
       "      <td>0</td>\n",
       "      <td>1</td>\n",
       "    </tr>\n",
       "    <tr>\n",
       "      <th>4291</th>\n",
       "      <td>1</td>\n",
       "      <td>0</td>\n",
       "      <td>0</td>\n",
       "      <td>0</td>\n",
       "      <td>0</td>\n",
       "      <td>0</td>\n",
       "      <td>1</td>\n",
       "      <td>0</td>\n",
       "      <td>0</td>\n",
       "      <td>0</td>\n",
       "    </tr>\n",
       "    <tr>\n",
       "      <th>2303</th>\n",
       "      <td>1</td>\n",
       "      <td>0</td>\n",
       "      <td>0</td>\n",
       "      <td>0</td>\n",
       "      <td>0</td>\n",
       "      <td>0</td>\n",
       "      <td>0</td>\n",
       "      <td>0</td>\n",
       "      <td>0</td>\n",
       "      <td>1</td>\n",
       "    </tr>\n",
       "  </tbody>\n",
       "</table>\n",
       "</div>"
      ],
      "text/plain": [
       "      Google  Form Submitted on Website  Retail Management  \\\n",
       "9210       0                          0                  0   \n",
       "4106       1                          1                  0   \n",
       "2851       1                          0                  0   \n",
       "4291       1                          0                  0   \n",
       "2303       1                          0                  0   \n",
       "\n",
       "      Supply Chain Management  Travel and Tourism  Other_lp  Potential Lead  \\\n",
       "9210                        0                   0         0               1   \n",
       "4106                        0                   0         0               0   \n",
       "2851                        0                   0         0               1   \n",
       "4291                        0                   0         0               1   \n",
       "2303                        0                   0         0               0   \n",
       "\n",
       "      lp_someschool  Other Metro Cities  Modified  \n",
       "9210              0                   0         1  \n",
       "4106              0                   0         1  \n",
       "2851              0                   0         1  \n",
       "4291              0                   0         0  \n",
       "2303              0                   0         1  "
      ]
     },
     "execution_count": 441,
     "metadata": {},
     "output_type": "execute_result"
    }
   ],
   "source": [
    "x_train[col].head()"
   ]
  },
  {
   "cell_type": "code",
   "execution_count": 442,
   "metadata": {},
   "outputs": [
    {
     "data": {
      "text/plain": [
       "Index(['Google', 'Form Submitted on Website', 'Retail Management',\n",
       "       'Supply Chain Management', 'Travel and Tourism', 'Other_lp',\n",
       "       'Potential Lead', 'lp_someschool', 'Other Metro Cities', 'Modified'],\n",
       "      dtype='object')"
      ]
     },
     "execution_count": 442,
     "metadata": {},
     "output_type": "execute_result"
    }
   ],
   "source": [
    "# chekcking the selected columns \n",
    "\n",
    "x_train.columns[rfe.support_]"
   ]
  },
  {
   "cell_type": "markdown",
   "metadata": {},
   "source": [
    "## H. Building the Model Based on the selected variables "
   ]
  },
  {
   "cell_type": "code",
   "execution_count": 443,
   "metadata": {},
   "outputs": [
    {
     "data": {
      "text/html": [
       "<table class=\"simpletable\">\n",
       "<caption>Generalized Linear Model Regression Results</caption>\n",
       "<tr>\n",
       "  <th>Dep. Variable:</th>       <td>Converted</td>    <th>  No. Observations:  </th>  <td>   363</td> \n",
       "</tr>\n",
       "<tr>\n",
       "  <th>Model:</th>                  <td>GLM</td>       <th>  Df Residuals:      </th>  <td>   352</td> \n",
       "</tr>\n",
       "<tr>\n",
       "  <th>Model Family:</th>        <td>Binomial</td>     <th>  Df Model:          </th>  <td>    10</td> \n",
       "</tr>\n",
       "<tr>\n",
       "  <th>Link Function:</th>         <td>Logit</td>      <th>  Scale:             </th> <td>  1.0000</td>\n",
       "</tr>\n",
       "<tr>\n",
       "  <th>Method:</th>                <td>IRLS</td>       <th>  Log-Likelihood:    </th> <td> -168.33</td>\n",
       "</tr>\n",
       "<tr>\n",
       "  <th>Date:</th>            <td>Tue, 25 Jun 2024</td> <th>  Deviance:          </th> <td>  336.65</td>\n",
       "</tr>\n",
       "<tr>\n",
       "  <th>Time:</th>                <td>05:57:18</td>     <th>  Pearson chi2:      </th>  <td>  318.</td> \n",
       "</tr>\n",
       "<tr>\n",
       "  <th>No. Iterations:</th>         <td>22</td>        <th>  Pseudo R-squ. (CS):</th>  <td>0.3026</td> \n",
       "</tr>\n",
       "<tr>\n",
       "  <th>Covariance Type:</th>     <td>nonrobust</td>    <th>                     </th>     <td> </td>   \n",
       "</tr>\n",
       "</table>\n",
       "<table class=\"simpletable\">\n",
       "<tr>\n",
       "              <td></td>                 <th>coef</th>     <th>std err</th>      <th>z</th>      <th>P>|z|</th>  <th>[0.025</th>    <th>0.975]</th>  \n",
       "</tr>\n",
       "<tr>\n",
       "  <th>const</th>                     <td>   -1.4404</td> <td>    0.377</td> <td>   -3.823</td> <td> 0.000</td> <td>   -2.179</td> <td>   -0.702</td>\n",
       "</tr>\n",
       "<tr>\n",
       "  <th>Google</th>                    <td>    1.1551</td> <td>    0.331</td> <td>    3.490</td> <td> 0.000</td> <td>    0.506</td> <td>    1.804</td>\n",
       "</tr>\n",
       "<tr>\n",
       "  <th>Form Submitted on Website</th> <td>   -1.5192</td> <td>    0.875</td> <td>   -1.737</td> <td> 0.082</td> <td>   -3.234</td> <td>    0.195</td>\n",
       "</tr>\n",
       "<tr>\n",
       "  <th>Retail Management</th>         <td>   -1.4114</td> <td>    0.703</td> <td>   -2.007</td> <td> 0.045</td> <td>   -2.790</td> <td>   -0.033</td>\n",
       "</tr>\n",
       "<tr>\n",
       "  <th>Supply Chain Management</th>   <td>    2.2897</td> <td>    1.112</td> <td>    2.058</td> <td> 0.040</td> <td>    0.110</td> <td>    4.470</td>\n",
       "</tr>\n",
       "<tr>\n",
       "  <th>Travel and Tourism</th>        <td>   23.4895</td> <td> 3.02e+04</td> <td>    0.001</td> <td> 0.999</td> <td>-5.91e+04</td> <td> 5.91e+04</td>\n",
       "</tr>\n",
       "<tr>\n",
       "  <th>Other_lp</th>                  <td>   23.7966</td> <td> 3.34e+04</td> <td>    0.001</td> <td> 0.999</td> <td>-6.55e+04</td> <td> 6.56e+04</td>\n",
       "</tr>\n",
       "<tr>\n",
       "  <th>Potential Lead</th>            <td>    2.0596</td> <td>    0.294</td> <td>    7.015</td> <td> 0.000</td> <td>    1.484</td> <td>    2.635</td>\n",
       "</tr>\n",
       "<tr>\n",
       "  <th>lp_someschool</th>             <td>  -23.5733</td> <td> 2.38e+04</td> <td>   -0.001</td> <td> 0.999</td> <td>-4.67e+04</td> <td> 4.67e+04</td>\n",
       "</tr>\n",
       "<tr>\n",
       "  <th>Other Metro Cities</th>        <td>   22.8614</td> <td> 1.98e+04</td> <td>    0.001</td> <td> 0.999</td> <td>-3.88e+04</td> <td> 3.88e+04</td>\n",
       "</tr>\n",
       "<tr>\n",
       "  <th>Modified</th>                  <td>   -0.8518</td> <td>    0.307</td> <td>   -2.771</td> <td> 0.006</td> <td>   -1.454</td> <td>   -0.249</td>\n",
       "</tr>\n",
       "</table>"
      ],
      "text/latex": [
       "\\begin{center}\n",
       "\\begin{tabular}{lclc}\n",
       "\\toprule\n",
       "\\textbf{Dep. Variable:}            &    Converted     & \\textbf{  No. Observations:  } &      363    \\\\\n",
       "\\textbf{Model:}                    &       GLM        & \\textbf{  Df Residuals:      } &      352    \\\\\n",
       "\\textbf{Model Family:}             &     Binomial     & \\textbf{  Df Model:          } &       10    \\\\\n",
       "\\textbf{Link Function:}            &      Logit       & \\textbf{  Scale:             } &    1.0000   \\\\\n",
       "\\textbf{Method:}                   &       IRLS       & \\textbf{  Log-Likelihood:    } &   -168.33   \\\\\n",
       "\\textbf{Date:}                     & Tue, 25 Jun 2024 & \\textbf{  Deviance:          } &    336.65   \\\\\n",
       "\\textbf{Time:}                     &     05:57:18     & \\textbf{  Pearson chi2:      } &     318.    \\\\\n",
       "\\textbf{No. Iterations:}           &        22        & \\textbf{  Pseudo R-squ. (CS):} &   0.3026    \\\\\n",
       "\\textbf{Covariance Type:}          &    nonrobust     & \\textbf{                     } &             \\\\\n",
       "\\bottomrule\n",
       "\\end{tabular}\n",
       "\\begin{tabular}{lcccccc}\n",
       "                                   & \\textbf{coef} & \\textbf{std err} & \\textbf{z} & \\textbf{P$> |$z$|$} & \\textbf{[0.025} & \\textbf{0.975]}  \\\\\n",
       "\\midrule\n",
       "\\textbf{const}                     &      -1.4404  &        0.377     &    -3.823  &         0.000        &       -2.179    &       -0.702     \\\\\n",
       "\\textbf{Google}                    &       1.1551  &        0.331     &     3.490  &         0.000        &        0.506    &        1.804     \\\\\n",
       "\\textbf{Form Submitted on Website} &      -1.5192  &        0.875     &    -1.737  &         0.082        &       -3.234    &        0.195     \\\\\n",
       "\\textbf{Retail Management}         &      -1.4114  &        0.703     &    -2.007  &         0.045        &       -2.790    &       -0.033     \\\\\n",
       "\\textbf{Supply Chain Management}   &       2.2897  &        1.112     &     2.058  &         0.040        &        0.110    &        4.470     \\\\\n",
       "\\textbf{Travel and Tourism}        &      23.4895  &     3.02e+04     &     0.001  &         0.999        &    -5.91e+04    &     5.91e+04     \\\\\n",
       "\\textbf{Other\\_lp}                 &      23.7966  &     3.34e+04     &     0.001  &         0.999        &    -6.55e+04    &     6.56e+04     \\\\\n",
       "\\textbf{Potential Lead}            &       2.0596  &        0.294     &     7.015  &         0.000        &        1.484    &        2.635     \\\\\n",
       "\\textbf{lp\\_someschool}            &     -23.5733  &     2.38e+04     &    -0.001  &         0.999        &    -4.67e+04    &     4.67e+04     \\\\\n",
       "\\textbf{Other Metro Cities}        &      22.8614  &     1.98e+04     &     0.001  &         0.999        &    -3.88e+04    &     3.88e+04     \\\\\n",
       "\\textbf{Modified}                  &      -0.8518  &        0.307     &    -2.771  &         0.006        &       -1.454    &       -0.249     \\\\\n",
       "\\bottomrule\n",
       "\\end{tabular}\n",
       "%\\caption{Generalized Linear Model Regression Results}\n",
       "\\end{center}"
      ],
      "text/plain": [
       "<class 'statsmodels.iolib.summary.Summary'>\n",
       "\"\"\"\n",
       "                 Generalized Linear Model Regression Results                  \n",
       "==============================================================================\n",
       "Dep. Variable:              Converted   No. Observations:                  363\n",
       "Model:                            GLM   Df Residuals:                      352\n",
       "Model Family:                Binomial   Df Model:                           10\n",
       "Link Function:                  Logit   Scale:                          1.0000\n",
       "Method:                          IRLS   Log-Likelihood:                -168.33\n",
       "Date:                Tue, 25 Jun 2024   Deviance:                       336.65\n",
       "Time:                        05:57:18   Pearson chi2:                     318.\n",
       "No. Iterations:                    22   Pseudo R-squ. (CS):             0.3026\n",
       "Covariance Type:            nonrobust                                         \n",
       "=============================================================================================\n",
       "                                coef    std err          z      P>|z|      [0.025      0.975]\n",
       "---------------------------------------------------------------------------------------------\n",
       "const                        -1.4404      0.377     -3.823      0.000      -2.179      -0.702\n",
       "Google                        1.1551      0.331      3.490      0.000       0.506       1.804\n",
       "Form Submitted on Website    -1.5192      0.875     -1.737      0.082      -3.234       0.195\n",
       "Retail Management            -1.4114      0.703     -2.007      0.045      -2.790      -0.033\n",
       "Supply Chain Management       2.2897      1.112      2.058      0.040       0.110       4.470\n",
       "Travel and Tourism           23.4895   3.02e+04      0.001      0.999   -5.91e+04    5.91e+04\n",
       "Other_lp                     23.7966   3.34e+04      0.001      0.999   -6.55e+04    6.56e+04\n",
       "Potential Lead                2.0596      0.294      7.015      0.000       1.484       2.635\n",
       "lp_someschool               -23.5733   2.38e+04     -0.001      0.999   -4.67e+04    4.67e+04\n",
       "Other Metro Cities           22.8614   1.98e+04      0.001      0.999   -3.88e+04    3.88e+04\n",
       "Modified                     -0.8518      0.307     -2.771      0.006      -1.454      -0.249\n",
       "=============================================================================================\n",
       "\"\"\""
      ]
     },
     "execution_count": 443,
     "metadata": {},
     "output_type": "execute_result"
    }
   ],
   "source": [
    "# creating the model \n",
    "\n",
    "x_train_sm = sm.add_constant(x_train[col])\n",
    "model_one = sm.GLM(y_train, x_train_sm, family = sm.families.Binomial())\n",
    "model_one.fit().summary()"
   ]
  },
  {
   "cell_type": "code",
   "execution_count": 444,
   "metadata": {},
   "outputs": [],
   "source": [
    "# importing relevant libraries \n",
    "\n",
    "from statsmodels.stats.outliers_influence import variance_inflation_factor"
   ]
  },
  {
   "cell_type": "code",
   "execution_count": 445,
   "metadata": {},
   "outputs": [
    {
     "data": {
      "text/html": [
       "<div>\n",
       "<style scoped>\n",
       "    .dataframe tbody tr th:only-of-type {\n",
       "        vertical-align: middle;\n",
       "    }\n",
       "\n",
       "    .dataframe tbody tr th {\n",
       "        vertical-align: top;\n",
       "    }\n",
       "\n",
       "    .dataframe thead th {\n",
       "        text-align: right;\n",
       "    }\n",
       "</style>\n",
       "<table border=\"1\" class=\"dataframe\">\n",
       "  <thead>\n",
       "    <tr style=\"text-align: right;\">\n",
       "      <th></th>\n",
       "      <th>variables</th>\n",
       "      <th>VIF</th>\n",
       "    </tr>\n",
       "  </thead>\n",
       "  <tbody>\n",
       "    <tr>\n",
       "      <th>0</th>\n",
       "      <td>Google</td>\n",
       "      <td>2.71</td>\n",
       "    </tr>\n",
       "    <tr>\n",
       "      <th>6</th>\n",
       "      <td>Potential Lead</td>\n",
       "      <td>2.45</td>\n",
       "    </tr>\n",
       "    <tr>\n",
       "      <th>9</th>\n",
       "      <td>Modified</td>\n",
       "      <td>1.45</td>\n",
       "    </tr>\n",
       "    <tr>\n",
       "      <th>1</th>\n",
       "      <td>Form Submitted on Website</td>\n",
       "      <td>1.14</td>\n",
       "    </tr>\n",
       "    <tr>\n",
       "      <th>7</th>\n",
       "      <td>lp_someschool</td>\n",
       "      <td>1.07</td>\n",
       "    </tr>\n",
       "    <tr>\n",
       "      <th>3</th>\n",
       "      <td>Supply Chain Management</td>\n",
       "      <td>1.06</td>\n",
       "    </tr>\n",
       "    <tr>\n",
       "      <th>5</th>\n",
       "      <td>Other_lp</td>\n",
       "      <td>1.05</td>\n",
       "    </tr>\n",
       "    <tr>\n",
       "      <th>8</th>\n",
       "      <td>Other Metro Cities</td>\n",
       "      <td>1.05</td>\n",
       "    </tr>\n",
       "    <tr>\n",
       "      <th>2</th>\n",
       "      <td>Retail Management</td>\n",
       "      <td>1.04</td>\n",
       "    </tr>\n",
       "    <tr>\n",
       "      <th>4</th>\n",
       "      <td>Travel and Tourism</td>\n",
       "      <td>1.01</td>\n",
       "    </tr>\n",
       "  </tbody>\n",
       "</table>\n",
       "</div>"
      ],
      "text/plain": [
       "                   variables   VIF\n",
       "0                     Google  2.71\n",
       "6             Potential Lead  2.45\n",
       "9                   Modified  1.45\n",
       "1  Form Submitted on Website  1.14\n",
       "7              lp_someschool  1.07\n",
       "3    Supply Chain Management  1.06\n",
       "5                   Other_lp  1.05\n",
       "8         Other Metro Cities  1.05\n",
       "2          Retail Management  1.04\n",
       "4         Travel and Tourism  1.01"
      ]
     },
     "execution_count": 445,
     "metadata": {},
     "output_type": "execute_result"
    }
   ],
   "source": [
    "# creating a new dataframe that consists of the name of the variables and their respective VIF\n",
    "\n",
    "vif = pd.DataFrame()\n",
    "\n",
    "# assigning the column 'variables' with the columns of X_train \n",
    "\n",
    "vif['variables'] = x_train[col].columns\n",
    "\n",
    "# assigning the column 'VIF' with the VIF values of the variales \n",
    "\n",
    "vif['VIF'] = [variance_inflation_factor(x_train[col].values,i) for i in range (x_train[col].shape[1])]\n",
    "\n",
    "# rounding off the VIF values to 2 decimal places \n",
    "\n",
    "vif['VIF'] = round(vif['VIF'],2)\n",
    "\n",
    "# sorting the VIF values in descending order \n",
    "\n",
    "vif = vif.sort_values(by = 'VIF' , ascending = False)\n",
    "\n",
    "# printing the dataframe vif \n",
    "\n",
    "vif"
   ]
  },
  {
   "cell_type": "code",
   "execution_count": 446,
   "metadata": {},
   "outputs": [],
   "source": [
    "# 'other_lp' has a very low significance based on the p-value"
   ]
  },
  {
   "cell_type": "code",
   "execution_count": 447,
   "metadata": {},
   "outputs": [],
   "source": [
    "new = x_train[col]"
   ]
  },
  {
   "cell_type": "code",
   "execution_count": 448,
   "metadata": {},
   "outputs": [],
   "source": [
    "new.drop('Other_lp', axis = 1, inplace = True)"
   ]
  },
  {
   "cell_type": "code",
   "execution_count": 449,
   "metadata": {},
   "outputs": [
    {
     "data": {
      "text/html": [
       "<table class=\"simpletable\">\n",
       "<caption>Generalized Linear Model Regression Results</caption>\n",
       "<tr>\n",
       "  <th>Dep. Variable:</th>       <td>Converted</td>    <th>  No. Observations:  </th>  <td>   363</td> \n",
       "</tr>\n",
       "<tr>\n",
       "  <th>Model:</th>                  <td>GLM</td>       <th>  Df Residuals:      </th>  <td>   353</td> \n",
       "</tr>\n",
       "<tr>\n",
       "  <th>Model Family:</th>        <td>Binomial</td>     <th>  Df Model:          </th>  <td>     9</td> \n",
       "</tr>\n",
       "<tr>\n",
       "  <th>Link Function:</th>         <td>Logit</td>      <th>  Scale:             </th> <td>  1.0000</td>\n",
       "</tr>\n",
       "<tr>\n",
       "  <th>Method:</th>                <td>IRLS</td>       <th>  Log-Likelihood:    </th> <td> -172.11</td>\n",
       "</tr>\n",
       "<tr>\n",
       "  <th>Date:</th>            <td>Tue, 25 Jun 2024</td> <th>  Deviance:          </th> <td>  344.22</td>\n",
       "</tr>\n",
       "<tr>\n",
       "  <th>Time:</th>                <td>05:57:18</td>     <th>  Pearson chi2:      </th>  <td>  322.</td> \n",
       "</tr>\n",
       "<tr>\n",
       "  <th>No. Iterations:</th>         <td>22</td>        <th>  Pseudo R-squ. (CS):</th>  <td>0.2879</td> \n",
       "</tr>\n",
       "<tr>\n",
       "  <th>Covariance Type:</th>     <td>nonrobust</td>    <th>                     </th>     <td> </td>   \n",
       "</tr>\n",
       "</table>\n",
       "<table class=\"simpletable\">\n",
       "<tr>\n",
       "              <td></td>                 <th>coef</th>     <th>std err</th>      <th>z</th>      <th>P>|z|</th>  <th>[0.025</th>    <th>0.975]</th>  \n",
       "</tr>\n",
       "<tr>\n",
       "  <th>const</th>                     <td>   -1.3435</td> <td>    0.370</td> <td>   -3.632</td> <td> 0.000</td> <td>   -2.068</td> <td>   -0.618</td>\n",
       "</tr>\n",
       "<tr>\n",
       "  <th>Google</th>                    <td>    1.1896</td> <td>    0.329</td> <td>    3.621</td> <td> 0.000</td> <td>    0.546</td> <td>    1.833</td>\n",
       "</tr>\n",
       "<tr>\n",
       "  <th>Form Submitted on Website</th> <td>   -1.5592</td> <td>    0.871</td> <td>   -1.791</td> <td> 0.073</td> <td>   -3.266</td> <td>    0.147</td>\n",
       "</tr>\n",
       "<tr>\n",
       "  <th>Retail Management</th>         <td>   -1.4329</td> <td>    0.699</td> <td>   -2.050</td> <td> 0.040</td> <td>   -2.803</td> <td>   -0.063</td>\n",
       "</tr>\n",
       "<tr>\n",
       "  <th>Supply Chain Management</th>   <td>    2.2140</td> <td>    1.106</td> <td>    2.002</td> <td> 0.045</td> <td>    0.047</td> <td>    4.381</td>\n",
       "</tr>\n",
       "<tr>\n",
       "  <th>Travel and Tourism</th>        <td>   23.4235</td> <td> 3.05e+04</td> <td>    0.001</td> <td> 0.999</td> <td>-5.97e+04</td> <td> 5.98e+04</td>\n",
       "</tr>\n",
       "<tr>\n",
       "  <th>Potential Lead</th>            <td>    1.9353</td> <td>    0.286</td> <td>    6.769</td> <td> 0.000</td> <td>    1.375</td> <td>    2.496</td>\n",
       "</tr>\n",
       "<tr>\n",
       "  <th>lp_someschool</th>             <td>  -23.6647</td> <td> 2.39e+04</td> <td>   -0.001</td> <td> 0.999</td> <td>-4.69e+04</td> <td> 4.69e+04</td>\n",
       "</tr>\n",
       "<tr>\n",
       "  <th>Other Metro Cities</th>        <td>   23.1860</td> <td> 1.96e+04</td> <td>    0.001</td> <td> 0.999</td> <td>-3.84e+04</td> <td> 3.84e+04</td>\n",
       "</tr>\n",
       "<tr>\n",
       "  <th>Modified</th>                  <td>   -0.8366</td> <td>    0.303</td> <td>   -2.761</td> <td> 0.006</td> <td>   -1.431</td> <td>   -0.243</td>\n",
       "</tr>\n",
       "</table>"
      ],
      "text/latex": [
       "\\begin{center}\n",
       "\\begin{tabular}{lclc}\n",
       "\\toprule\n",
       "\\textbf{Dep. Variable:}            &    Converted     & \\textbf{  No. Observations:  } &      363    \\\\\n",
       "\\textbf{Model:}                    &       GLM        & \\textbf{  Df Residuals:      } &      353    \\\\\n",
       "\\textbf{Model Family:}             &     Binomial     & \\textbf{  Df Model:          } &        9    \\\\\n",
       "\\textbf{Link Function:}            &      Logit       & \\textbf{  Scale:             } &    1.0000   \\\\\n",
       "\\textbf{Method:}                   &       IRLS       & \\textbf{  Log-Likelihood:    } &   -172.11   \\\\\n",
       "\\textbf{Date:}                     & Tue, 25 Jun 2024 & \\textbf{  Deviance:          } &    344.22   \\\\\n",
       "\\textbf{Time:}                     &     05:57:18     & \\textbf{  Pearson chi2:      } &     322.    \\\\\n",
       "\\textbf{No. Iterations:}           &        22        & \\textbf{  Pseudo R-squ. (CS):} &   0.2879    \\\\\n",
       "\\textbf{Covariance Type:}          &    nonrobust     & \\textbf{                     } &             \\\\\n",
       "\\bottomrule\n",
       "\\end{tabular}\n",
       "\\begin{tabular}{lcccccc}\n",
       "                                   & \\textbf{coef} & \\textbf{std err} & \\textbf{z} & \\textbf{P$> |$z$|$} & \\textbf{[0.025} & \\textbf{0.975]}  \\\\\n",
       "\\midrule\n",
       "\\textbf{const}                     &      -1.3435  &        0.370     &    -3.632  &         0.000        &       -2.068    &       -0.618     \\\\\n",
       "\\textbf{Google}                    &       1.1896  &        0.329     &     3.621  &         0.000        &        0.546    &        1.833     \\\\\n",
       "\\textbf{Form Submitted on Website} &      -1.5592  &        0.871     &    -1.791  &         0.073        &       -3.266    &        0.147     \\\\\n",
       "\\textbf{Retail Management}         &      -1.4329  &        0.699     &    -2.050  &         0.040        &       -2.803    &       -0.063     \\\\\n",
       "\\textbf{Supply Chain Management}   &       2.2140  &        1.106     &     2.002  &         0.045        &        0.047    &        4.381     \\\\\n",
       "\\textbf{Travel and Tourism}        &      23.4235  &     3.05e+04     &     0.001  &         0.999        &    -5.97e+04    &     5.98e+04     \\\\\n",
       "\\textbf{Potential Lead}            &       1.9353  &        0.286     &     6.769  &         0.000        &        1.375    &        2.496     \\\\\n",
       "\\textbf{lp\\_someschool}            &     -23.6647  &     2.39e+04     &    -0.001  &         0.999        &    -4.69e+04    &     4.69e+04     \\\\\n",
       "\\textbf{Other Metro Cities}        &      23.1860  &     1.96e+04     &     0.001  &         0.999        &    -3.84e+04    &     3.84e+04     \\\\\n",
       "\\textbf{Modified}                  &      -0.8366  &        0.303     &    -2.761  &         0.006        &       -1.431    &       -0.243     \\\\\n",
       "\\bottomrule\n",
       "\\end{tabular}\n",
       "%\\caption{Generalized Linear Model Regression Results}\n",
       "\\end{center}"
      ],
      "text/plain": [
       "<class 'statsmodels.iolib.summary.Summary'>\n",
       "\"\"\"\n",
       "                 Generalized Linear Model Regression Results                  \n",
       "==============================================================================\n",
       "Dep. Variable:              Converted   No. Observations:                  363\n",
       "Model:                            GLM   Df Residuals:                      353\n",
       "Model Family:                Binomial   Df Model:                            9\n",
       "Link Function:                  Logit   Scale:                          1.0000\n",
       "Method:                          IRLS   Log-Likelihood:                -172.11\n",
       "Date:                Tue, 25 Jun 2024   Deviance:                       344.22\n",
       "Time:                        05:57:18   Pearson chi2:                     322.\n",
       "No. Iterations:                    22   Pseudo R-squ. (CS):             0.2879\n",
       "Covariance Type:            nonrobust                                         \n",
       "=============================================================================================\n",
       "                                coef    std err          z      P>|z|      [0.025      0.975]\n",
       "---------------------------------------------------------------------------------------------\n",
       "const                        -1.3435      0.370     -3.632      0.000      -2.068      -0.618\n",
       "Google                        1.1896      0.329      3.621      0.000       0.546       1.833\n",
       "Form Submitted on Website    -1.5592      0.871     -1.791      0.073      -3.266       0.147\n",
       "Retail Management            -1.4329      0.699     -2.050      0.040      -2.803      -0.063\n",
       "Supply Chain Management       2.2140      1.106      2.002      0.045       0.047       4.381\n",
       "Travel and Tourism           23.4235   3.05e+04      0.001      0.999   -5.97e+04    5.98e+04\n",
       "Potential Lead                1.9353      0.286      6.769      0.000       1.375       2.496\n",
       "lp_someschool               -23.6647   2.39e+04     -0.001      0.999   -4.69e+04    4.69e+04\n",
       "Other Metro Cities           23.1860   1.96e+04      0.001      0.999   -3.84e+04    3.84e+04\n",
       "Modified                     -0.8366      0.303     -2.761      0.006      -1.431      -0.243\n",
       "=============================================================================================\n",
       "\"\"\""
      ]
     },
     "execution_count": 449,
     "metadata": {},
     "output_type": "execute_result"
    }
   ],
   "source": [
    "# creating the model after dropping 'Other_lp'\n",
    "\n",
    "x_train_sm = sm.add_constant(new)\n",
    "model_one = sm.GLM(y_train, x_train_sm, family = sm.families.Binomial())\n",
    "pred = model_one.fit()\n",
    "pred.summary()"
   ]
  },
  {
   "cell_type": "code",
   "execution_count": 450,
   "metadata": {},
   "outputs": [
    {
     "data": {
      "text/html": [
       "<div>\n",
       "<style scoped>\n",
       "    .dataframe tbody tr th:only-of-type {\n",
       "        vertical-align: middle;\n",
       "    }\n",
       "\n",
       "    .dataframe tbody tr th {\n",
       "        vertical-align: top;\n",
       "    }\n",
       "\n",
       "    .dataframe thead th {\n",
       "        text-align: right;\n",
       "    }\n",
       "</style>\n",
       "<table border=\"1\" class=\"dataframe\">\n",
       "  <thead>\n",
       "    <tr style=\"text-align: right;\">\n",
       "      <th></th>\n",
       "      <th>variables</th>\n",
       "      <th>VIF</th>\n",
       "    </tr>\n",
       "  </thead>\n",
       "  <tbody>\n",
       "    <tr>\n",
       "      <th>0</th>\n",
       "      <td>Google</td>\n",
       "      <td>2.65</td>\n",
       "    </tr>\n",
       "    <tr>\n",
       "      <th>5</th>\n",
       "      <td>Potential Lead</td>\n",
       "      <td>2.40</td>\n",
       "    </tr>\n",
       "    <tr>\n",
       "      <th>8</th>\n",
       "      <td>Modified</td>\n",
       "      <td>1.45</td>\n",
       "    </tr>\n",
       "    <tr>\n",
       "      <th>1</th>\n",
       "      <td>Form Submitted on Website</td>\n",
       "      <td>1.14</td>\n",
       "    </tr>\n",
       "    <tr>\n",
       "      <th>6</th>\n",
       "      <td>lp_someschool</td>\n",
       "      <td>1.07</td>\n",
       "    </tr>\n",
       "    <tr>\n",
       "      <th>3</th>\n",
       "      <td>Supply Chain Management</td>\n",
       "      <td>1.06</td>\n",
       "    </tr>\n",
       "    <tr>\n",
       "      <th>2</th>\n",
       "      <td>Retail Management</td>\n",
       "      <td>1.04</td>\n",
       "    </tr>\n",
       "    <tr>\n",
       "      <th>7</th>\n",
       "      <td>Other Metro Cities</td>\n",
       "      <td>1.03</td>\n",
       "    </tr>\n",
       "    <tr>\n",
       "      <th>4</th>\n",
       "      <td>Travel and Tourism</td>\n",
       "      <td>1.01</td>\n",
       "    </tr>\n",
       "  </tbody>\n",
       "</table>\n",
       "</div>"
      ],
      "text/plain": [
       "                   variables   VIF\n",
       "0                     Google  2.65\n",
       "5             Potential Lead  2.40\n",
       "8                   Modified  1.45\n",
       "1  Form Submitted on Website  1.14\n",
       "6              lp_someschool  1.07\n",
       "3    Supply Chain Management  1.06\n",
       "2          Retail Management  1.04\n",
       "7         Other Metro Cities  1.03\n",
       "4         Travel and Tourism  1.01"
      ]
     },
     "execution_count": 450,
     "metadata": {},
     "output_type": "execute_result"
    }
   ],
   "source": [
    "# creating a new dataframe that consists of the name of the variables and their respective VIF\n",
    "\n",
    "vif = pd.DataFrame()\n",
    "\n",
    "# assigning the column 'variables' with the columns of X_train \n",
    "\n",
    "vif['variables'] = new.columns\n",
    "\n",
    "# assigning the column 'VIF' with the VIF values of the variales \n",
    "\n",
    "vif['VIF'] = [variance_inflation_factor(new.values,i) for i in range (new.shape[1])]\n",
    "\n",
    "# rounding off the VIF values to 2 decimal places \n",
    "\n",
    "vif['VIF'] = round(vif['VIF'],2)\n",
    "\n",
    "# sorting the VIF values in descending order \n",
    "\n",
    "vif = vif.sort_values(by = 'VIF' , ascending = False)\n",
    "\n",
    "# printing the dataframe vif \n",
    "\n",
    "vif"
   ]
  },
  {
   "cell_type": "code",
   "execution_count": 451,
   "metadata": {},
   "outputs": [
    {
     "data": {
      "text/plain": [
       "9210    0.439102\n",
       "4106    0.072450\n",
       "2851    0.720069\n",
       "4291    0.855872\n",
       "2303    0.270819\n",
       "3330    0.855872\n",
       "6144    0.270819\n",
       "3270    0.981933\n",
       "9121    0.586266\n",
       "1676    0.720069\n",
       "dtype: float64"
      ]
     },
     "execution_count": 451,
     "metadata": {},
     "output_type": "execute_result"
    }
   ],
   "source": [
    "# Getting the predicted values on the train set\n",
    "\n",
    "y_train_pred = pred.predict(x_train_sm)\n",
    "y_train_pred[:10]"
   ]
  },
  {
   "cell_type": "code",
   "execution_count": 452,
   "metadata": {},
   "outputs": [
    {
     "data": {
      "text/plain": [
       "9210    0.439102\n",
       "4106    0.072450\n",
       "2851    0.720069\n",
       "4291    0.855872\n",
       "2303    0.270819\n",
       "          ...   \n",
       "4253    0.855872\n",
       "5012    0.461612\n",
       "1326    1.000000\n",
       "6589    0.270819\n",
       "1731    0.643781\n",
       "Length: 363, dtype: float64"
      ]
     },
     "execution_count": 452,
     "metadata": {},
     "output_type": "execute_result"
    }
   ],
   "source": [
    "y_train_pred"
   ]
  },
  {
   "cell_type": "code",
   "execution_count": 453,
   "metadata": {},
   "outputs": [],
   "source": [
    "y_train_pred = y_train_pred.values.reshape(-1)"
   ]
  },
  {
   "cell_type": "code",
   "execution_count": 454,
   "metadata": {},
   "outputs": [
    {
     "data": {
      "text/plain": [
       "array([4.39102013e-01, 7.24500570e-02, 7.20068583e-01, 8.55872102e-01,\n",
       "       2.70818947e-01, 8.55872102e-01, 2.70818947e-01, 9.81933190e-01,\n",
       "       5.86265987e-01, 7.20068583e-01, 8.55872102e-01, 7.20068583e-01,\n",
       "       8.55872102e-01, 4.61612312e-01, 8.55872102e-01, 8.55872102e-01,\n",
       "       8.55872102e-01, 4.61612312e-01, 8.55872102e-01, 7.20068583e-01,\n",
       "       4.61612312e-01, 5.86166200e-02, 2.06941205e-01, 8.55872102e-01,\n",
       "       8.55872102e-01, 7.20068583e-01, 8.55872102e-01, 8.55872102e-01,\n",
       "       8.55872102e-01, 8.55872102e-01, 1.96058517e-11, 9.81933190e-01,\n",
       "       8.55872102e-01, 1.41366676e-01, 8.55872102e-01, 7.20068583e-01,\n",
       "       6.43780507e-01, 6.43780507e-01, 1.00000000e+00, 5.86265987e-01,\n",
       "       1.00000000e+00, 4.39102013e-01, 7.20068583e-01, 8.55872102e-01,\n",
       "       1.41366676e-01, 2.06941205e-01, 9.59255191e-01, 4.61612312e-01,\n",
       "       8.55872102e-01, 4.61612312e-01, 8.55872102e-01, 4.61612312e-01,\n",
       "       1.00000000e+00, 6.43780507e-01, 7.24500570e-02, 8.55872102e-01,\n",
       "       4.61612312e-01, 2.70818947e-01, 4.61612312e-01, 8.55872102e-01,\n",
       "       8.55872102e-01, 9.81933190e-01, 4.61612312e-01, 4.61612312e-01,\n",
       "       8.14100490e-02, 2.70818947e-01, 9.59255191e-01, 2.06941205e-01,\n",
       "       8.55872102e-01, 8.55872102e-01, 2.06941205e-01, 4.61612312e-01,\n",
       "       6.43780507e-01, 4.61612312e-01, 8.55872102e-01, 8.55872102e-01,\n",
       "       8.55872102e-01, 2.70818947e-01, 8.55872102e-01, 8.55872102e-01,\n",
       "       8.55872102e-01, 1.00000000e+00, 8.55872102e-01, 8.55872102e-01,\n",
       "       4.61612312e-01, 8.55872102e-01, 8.55872102e-01, 8.55872102e-01,\n",
       "       6.43780507e-01, 2.70818947e-01, 3.51061666e-01, 4.61612312e-01,\n",
       "       8.55872102e-01, 8.55872102e-01, 8.55872102e-01, 4.39102013e-01,\n",
       "       6.43780507e-01, 6.43780507e-01, 7.20068583e-01, 7.20068583e-01,\n",
       "       6.43780507e-01, 8.55872102e-01, 8.55872102e-01, 1.00000000e+00,\n",
       "       8.55872102e-01, 8.55872102e-01, 8.55872102e-01, 2.06941205e-01,\n",
       "       5.86265987e-01, 8.55872102e-01, 8.55872102e-01, 7.20068583e-01,\n",
       "       8.55872102e-01, 4.39102013e-01, 4.52610170e-11, 2.70818947e-01,\n",
       "       7.20068583e-01, 4.61612312e-01, 8.55872102e-01, 8.55872102e-01,\n",
       "       2.06941205e-01, 8.55872102e-01, 4.39102013e-01, 8.55872102e-01,\n",
       "       4.61612312e-01, 8.55872102e-01, 6.43780507e-01, 8.55872102e-01,\n",
       "       8.55872102e-01, 6.43780507e-01, 8.55872102e-01, 8.55872102e-01,\n",
       "       4.61612312e-01, 4.61612312e-01, 1.00000000e+00, 8.55872102e-01,\n",
       "       8.55872102e-01, 4.61612312e-01, 7.20068583e-01, 7.20068583e-01,\n",
       "       1.00000000e+00, 2.70818947e-01, 6.43780507e-01, 8.55872102e-01,\n",
       "       6.43780507e-01, 8.55872102e-01, 8.86971549e-01, 7.20068583e-01,\n",
       "       8.55872102e-01, 7.20068583e-01, 8.55872102e-01, 1.96058517e-11,\n",
       "       2.06941205e-01, 9.81933190e-01, 8.55872102e-01, 7.04863088e-01,\n",
       "       8.55872102e-01, 7.20068583e-01, 8.55872102e-01, 6.43780507e-01,\n",
       "       8.55872102e-01, 8.55872102e-01, 4.52610170e-11, 6.43780507e-01,\n",
       "       9.81933190e-01, 7.20068583e-01, 7.20068583e-01, 4.61612312e-01,\n",
       "       4.61612312e-01, 4.61612312e-01, 4.61612312e-01, 4.39102013e-01,\n",
       "       4.61612312e-01, 2.70818947e-01, 8.55872102e-01, 7.20068583e-01,\n",
       "       2.32197544e-02, 8.55872102e-01, 6.43780507e-01, 1.96058517e-11,\n",
       "       8.55872102e-01, 1.00000000e+00, 1.00000000e+00, 8.55872102e-01,\n",
       "       8.55872102e-01, 8.55872102e-01, 8.55872102e-01, 5.86265987e-01,\n",
       "       8.55872102e-01, 4.61612312e-01, 8.55872102e-01, 8.55872102e-01,\n",
       "       4.39102013e-01, 8.55872102e-01, 8.55872102e-01, 8.55872102e-01,\n",
       "       3.51061666e-01, 1.00000000e+00, 4.39102013e-01, 8.55872102e-01,\n",
       "       2.70818947e-01, 6.43780507e-01, 1.00000000e+00, 7.20068583e-01,\n",
       "       8.55872102e-01, 8.55872102e-01, 4.61612312e-01, 8.55872102e-01,\n",
       "       8.55872102e-01, 2.70818947e-01, 4.61612312e-01, 4.61612312e-01,\n",
       "       8.55872102e-01, 2.70818947e-01, 6.43780507e-01, 7.20068583e-01,\n",
       "       2.70818947e-01, 4.39102013e-01, 7.20068583e-01, 4.52610170e-11,\n",
       "       2.06941205e-01, 8.55872102e-01, 8.55872102e-01, 8.55872102e-01,\n",
       "       4.61612312e-01, 2.70818947e-01, 4.39102013e-01, 8.55872102e-01,\n",
       "       8.55872102e-01, 6.43780507e-01, 8.55872102e-01, 5.86265987e-01,\n",
       "       8.55872102e-01, 7.20068583e-01, 8.55872102e-01, 8.55872102e-01,\n",
       "       6.43780507e-01, 4.61612312e-01, 8.55872102e-01, 8.55872102e-01,\n",
       "       8.55872102e-01, 1.69845436e-01, 1.00000000e+00, 8.55872102e-01,\n",
       "       7.20068583e-01, 2.06941205e-01, 8.55872102e-01, 4.61612312e-01,\n",
       "       4.61612312e-01, 8.55872102e-01, 8.55872102e-01, 4.14251375e-10,\n",
       "       7.20068583e-01, 4.61612312e-01, 7.20068583e-01, 2.70818947e-01,\n",
       "       6.43780507e-01, 8.55872102e-01, 8.55872102e-01, 6.43780507e-01,\n",
       "       7.20068583e-01, 9.42990464e-01, 8.55872102e-01, 8.55872102e-01,\n",
       "       5.86265987e-01, 8.55872102e-01, 8.55872102e-01, 7.20068583e-01,\n",
       "       7.72688613e-01, 7.20068583e-01, 8.55872102e-01, 4.61612312e-01,\n",
       "       1.00000000e+00, 8.55872102e-01, 8.55872102e-01, 4.61612312e-01,\n",
       "       2.70818947e-01, 9.59255191e-01, 4.61612312e-01, 1.00000000e+00,\n",
       "       4.61612312e-01, 8.55872102e-01, 8.55872102e-01, 8.55872102e-01,\n",
       "       1.00000000e+00, 2.70818947e-01, 7.20068583e-01, 6.43780507e-01,\n",
       "       2.70818947e-01, 1.37747471e-11, 4.39102013e-01, 2.70818947e-01,\n",
       "       9.59255191e-01, 4.61612312e-01, 5.86265987e-01, 8.55872102e-01,\n",
       "       3.51061666e-01, 8.55872102e-01, 9.81933190e-01, 3.51061666e-01,\n",
       "       5.86265987e-01, 4.61612312e-01, 8.55872102e-01, 2.06941205e-01,\n",
       "       7.24500570e-02, 8.55872102e-01, 7.20068583e-01, 7.20068583e-01,\n",
       "       8.55872102e-01, 8.55872102e-01, 2.70818947e-01, 8.55872102e-01,\n",
       "       4.61612312e-01, 8.55872102e-01, 2.06941205e-01, 7.20068583e-01,\n",
       "       8.55872102e-01, 4.61612312e-01, 2.06941205e-01, 2.06941205e-01,\n",
       "       4.61612312e-01, 8.55872102e-01, 4.61612312e-01, 8.55872102e-01,\n",
       "       2.70818947e-01, 8.55872102e-01, 4.61612312e-01, 8.55872102e-01,\n",
       "       8.55872102e-01, 7.24500570e-02, 9.81933190e-01, 8.55872102e-01,\n",
       "       8.55872102e-01, 4.61612312e-01, 4.39102013e-01, 8.55872102e-01,\n",
       "       9.81933190e-01, 2.06941205e-01, 1.96058517e-11, 1.00000000e+00,\n",
       "       6.43780507e-01, 4.39102013e-01, 8.55872102e-01, 7.20068583e-01,\n",
       "       4.61612312e-01, 8.55872102e-01, 8.55872102e-01, 7.20068583e-01,\n",
       "       8.55872102e-01, 8.55872102e-01, 6.43780507e-01, 6.43780507e-01,\n",
       "       4.61612312e-01, 1.00000000e+00, 8.55872102e-01, 7.20068583e-01,\n",
       "       7.20068583e-01, 6.43780507e-01, 8.55872102e-01, 4.61612312e-01,\n",
       "       1.00000000e+00, 2.70818947e-01, 6.43780507e-01])"
      ]
     },
     "execution_count": 454,
     "metadata": {},
     "output_type": "execute_result"
    }
   ],
   "source": [
    "y_train_pred"
   ]
  },
  {
   "cell_type": "code",
   "execution_count": 455,
   "metadata": {},
   "outputs": [],
   "source": [
    "# creating the columns 'Convert' and 'Convert_prob' for the dataframe y_train_final\n",
    "\n",
    "y_train_final = pd.DataFrame({'Convert' :y_train.values, 'Convert_prob' : y_train_pred })"
   ]
  },
  {
   "cell_type": "code",
   "execution_count": 456,
   "metadata": {},
   "outputs": [
    {
     "data": {
      "text/plain": [
       "6       660673\n",
       "22      660471\n",
       "27      660424\n",
       "37      660267\n",
       "39      660236\n",
       "         ...  \n",
       "9222    579764\n",
       "9224    579753\n",
       "9227    579728\n",
       "9230    579701\n",
       "9231    579697\n",
       "Name: Lead Number, Length: 519, dtype: int64"
      ]
     },
     "execution_count": 456,
     "metadata": {},
     "output_type": "execute_result"
    }
   ],
   "source": [
    "final['Lead Number']"
   ]
  },
  {
   "cell_type": "code",
   "execution_count": 477,
   "metadata": {},
   "outputs": [],
   "source": [
    "# creating a column 'Lead_Number' for the datframe y_train_final\n",
    "\n",
    "y_train_final['Lead Number'] = final['Lead Number']"
   ]
  },
  {
   "cell_type": "code",
   "execution_count": 474,
   "metadata": {},
   "outputs": [],
   "source": [
    "y_train_final.reset_index(drop=True, inplace=True)\n",
    "final.reset_index(drop=True, inplace=True)"
   ]
  },
  {
   "cell_type": "code",
   "execution_count": 479,
   "metadata": {},
   "outputs": [
    {
     "data": {
      "text/html": [
       "<div>\n",
       "<style scoped>\n",
       "    .dataframe tbody tr th:only-of-type {\n",
       "        vertical-align: middle;\n",
       "    }\n",
       "\n",
       "    .dataframe tbody tr th {\n",
       "        vertical-align: top;\n",
       "    }\n",
       "\n",
       "    .dataframe thead th {\n",
       "        text-align: right;\n",
       "    }\n",
       "</style>\n",
       "<table border=\"1\" class=\"dataframe\">\n",
       "  <thead>\n",
       "    <tr style=\"text-align: right;\">\n",
       "      <th></th>\n",
       "      <th>Convert</th>\n",
       "      <th>Convert_prob</th>\n",
       "      <th>predicted</th>\n",
       "      <th>score</th>\n",
       "      <th>Lead Number</th>\n",
       "    </tr>\n",
       "  </thead>\n",
       "  <tbody>\n",
       "    <tr>\n",
       "      <th>0</th>\n",
       "      <td>1</td>\n",
       "      <td>0.439102</td>\n",
       "      <td>0</td>\n",
       "      <td>44.0</td>\n",
       "      <td>660673</td>\n",
       "    </tr>\n",
       "    <tr>\n",
       "      <th>1</th>\n",
       "      <td>0</td>\n",
       "      <td>0.072450</td>\n",
       "      <td>0</td>\n",
       "      <td>7.0</td>\n",
       "      <td>660471</td>\n",
       "    </tr>\n",
       "    <tr>\n",
       "      <th>2</th>\n",
       "      <td>1</td>\n",
       "      <td>0.720069</td>\n",
       "      <td>1</td>\n",
       "      <td>72.0</td>\n",
       "      <td>660424</td>\n",
       "    </tr>\n",
       "    <tr>\n",
       "      <th>3</th>\n",
       "      <td>1</td>\n",
       "      <td>0.855872</td>\n",
       "      <td>1</td>\n",
       "      <td>86.0</td>\n",
       "      <td>660267</td>\n",
       "    </tr>\n",
       "    <tr>\n",
       "      <th>4</th>\n",
       "      <td>0</td>\n",
       "      <td>0.270819</td>\n",
       "      <td>0</td>\n",
       "      <td>27.0</td>\n",
       "      <td>660236</td>\n",
       "    </tr>\n",
       "  </tbody>\n",
       "</table>\n",
       "</div>"
      ],
      "text/plain": [
       "   Convert  Convert_prob  predicted  score  Lead Number\n",
       "0        1      0.439102          0   44.0       660673\n",
       "1        0      0.072450          0    7.0       660471\n",
       "2        1      0.720069          1   72.0       660424\n",
       "3        1      0.855872          1   86.0       660267\n",
       "4        0      0.270819          0   27.0       660236"
      ]
     },
     "execution_count": 479,
     "metadata": {},
     "output_type": "execute_result"
    }
   ],
   "source": [
    "y_train_final.head()"
   ]
  },
  {
   "cell_type": "code",
   "execution_count": 460,
   "metadata": {},
   "outputs": [],
   "source": [
    "# creating a column predicted with the cutoff at 0.5\n",
    "\n",
    "y_train_final['predicted'] = y_train_final.Convert_prob.map(lambda x: 1 if x >0.5 else 0)"
   ]
  },
  {
   "cell_type": "code",
   "execution_count": 461,
   "metadata": {},
   "outputs": [
    {
     "data": {
      "text/html": [
       "<div>\n",
       "<style scoped>\n",
       "    .dataframe tbody tr th:only-of-type {\n",
       "        vertical-align: middle;\n",
       "    }\n",
       "\n",
       "    .dataframe tbody tr th {\n",
       "        vertical-align: top;\n",
       "    }\n",
       "\n",
       "    .dataframe thead th {\n",
       "        text-align: right;\n",
       "    }\n",
       "</style>\n",
       "<table border=\"1\" class=\"dataframe\">\n",
       "  <thead>\n",
       "    <tr style=\"text-align: right;\">\n",
       "      <th></th>\n",
       "      <th>Convert</th>\n",
       "      <th>Convert_prob</th>\n",
       "      <th>predicted</th>\n",
       "    </tr>\n",
       "  </thead>\n",
       "  <tbody>\n",
       "    <tr>\n",
       "      <th>0</th>\n",
       "      <td>1</td>\n",
       "      <td>0.439102</td>\n",
       "      <td>0</td>\n",
       "    </tr>\n",
       "    <tr>\n",
       "      <th>1</th>\n",
       "      <td>0</td>\n",
       "      <td>0.072450</td>\n",
       "      <td>0</td>\n",
       "    </tr>\n",
       "    <tr>\n",
       "      <th>2</th>\n",
       "      <td>1</td>\n",
       "      <td>0.720069</td>\n",
       "      <td>1</td>\n",
       "    </tr>\n",
       "    <tr>\n",
       "      <th>3</th>\n",
       "      <td>1</td>\n",
       "      <td>0.855872</td>\n",
       "      <td>1</td>\n",
       "    </tr>\n",
       "    <tr>\n",
       "      <th>4</th>\n",
       "      <td>0</td>\n",
       "      <td>0.270819</td>\n",
       "      <td>0</td>\n",
       "    </tr>\n",
       "  </tbody>\n",
       "</table>\n",
       "</div>"
      ],
      "text/plain": [
       "   Convert  Convert_prob  predicted\n",
       "0        1      0.439102          0\n",
       "1        0      0.072450          0\n",
       "2        1      0.720069          1\n",
       "3        1      0.855872          1\n",
       "4        0      0.270819          0"
      ]
     },
     "execution_count": 461,
     "metadata": {},
     "output_type": "execute_result"
    }
   ],
   "source": [
    "y_train_final.head()"
   ]
  },
  {
   "cell_type": "code",
   "execution_count": 462,
   "metadata": {},
   "outputs": [],
   "source": [
    "# calculating the score and storing the information in the column 'score'\n",
    "\n",
    "y_train_final['score'] = round(y_train_final['Convert_prob']*100,0)"
   ]
  },
  {
   "cell_type": "code",
   "execution_count": 463,
   "metadata": {},
   "outputs": [
    {
     "data": {
      "text/html": [
       "<div>\n",
       "<style scoped>\n",
       "    .dataframe tbody tr th:only-of-type {\n",
       "        vertical-align: middle;\n",
       "    }\n",
       "\n",
       "    .dataframe tbody tr th {\n",
       "        vertical-align: top;\n",
       "    }\n",
       "\n",
       "    .dataframe thead th {\n",
       "        text-align: right;\n",
       "    }\n",
       "</style>\n",
       "<table border=\"1\" class=\"dataframe\">\n",
       "  <thead>\n",
       "    <tr style=\"text-align: right;\">\n",
       "      <th></th>\n",
       "      <th>Convert</th>\n",
       "      <th>Convert_prob</th>\n",
       "      <th>predicted</th>\n",
       "      <th>score</th>\n",
       "    </tr>\n",
       "  </thead>\n",
       "  <tbody>\n",
       "    <tr>\n",
       "      <th>0</th>\n",
       "      <td>1</td>\n",
       "      <td>0.439102</td>\n",
       "      <td>0</td>\n",
       "      <td>44.0</td>\n",
       "    </tr>\n",
       "    <tr>\n",
       "      <th>1</th>\n",
       "      <td>0</td>\n",
       "      <td>0.072450</td>\n",
       "      <td>0</td>\n",
       "      <td>7.0</td>\n",
       "    </tr>\n",
       "    <tr>\n",
       "      <th>2</th>\n",
       "      <td>1</td>\n",
       "      <td>0.720069</td>\n",
       "      <td>1</td>\n",
       "      <td>72.0</td>\n",
       "    </tr>\n",
       "    <tr>\n",
       "      <th>3</th>\n",
       "      <td>1</td>\n",
       "      <td>0.855872</td>\n",
       "      <td>1</td>\n",
       "      <td>86.0</td>\n",
       "    </tr>\n",
       "    <tr>\n",
       "      <th>4</th>\n",
       "      <td>0</td>\n",
       "      <td>0.270819</td>\n",
       "      <td>0</td>\n",
       "      <td>27.0</td>\n",
       "    </tr>\n",
       "  </tbody>\n",
       "</table>\n",
       "</div>"
      ],
      "text/plain": [
       "   Convert  Convert_prob  predicted  score\n",
       "0        1      0.439102          0   44.0\n",
       "1        0      0.072450          0    7.0\n",
       "2        1      0.720069          1   72.0\n",
       "3        1      0.855872          1   86.0\n",
       "4        0      0.270819          0   27.0"
      ]
     },
     "execution_count": 463,
     "metadata": {},
     "output_type": "execute_result"
    }
   ],
   "source": [
    "y_train_final.head()"
   ]
  },
  {
   "cell_type": "markdown",
   "metadata": {},
   "source": [
    "## Solution One"
   ]
  },
  {
   "cell_type": "markdown",
   "metadata": {},
   "source": [
    "- The score in the 'score' column of y_train_final is the value we need as the first part of the solution for the problem"
   ]
  },
  {
   "cell_type": "markdown",
   "metadata": {},
   "source": [
    "## I. Evaluating the Model"
   ]
  },
  {
   "cell_type": "markdown",
   "metadata": {},
   "source": [
    "#### Checking the accuracy of the model"
   ]
  },
  {
   "cell_type": "code",
   "execution_count": 480,
   "metadata": {},
   "outputs": [],
   "source": [
    "# importing relevant libraries \n",
    "\n",
    "from sklearn import metrics "
   ]
  },
  {
   "cell_type": "code",
   "execution_count": 481,
   "metadata": {},
   "outputs": [
    {
     "name": "stdout",
     "output_type": "stream",
     "text": [
      "[[ 79  46]\n",
      " [ 41 197]]\n"
     ]
    }
   ],
   "source": [
    "# creating the confusion matrix \n",
    "\n",
    "confusion = metrics.confusion_matrix(y_train_final.Convert, y_train_final.predicted)\n",
    "print(confusion)"
   ]
  },
  {
   "cell_type": "code",
   "execution_count": 482,
   "metadata": {},
   "outputs": [],
   "source": [
    "# Predicted     not-churn    churn \n",
    "# Actual                  \n",
    "# not-churn       3323        582    \n",
    "# churn            735       1711"
   ]
  },
  {
   "cell_type": "code",
   "execution_count": 483,
   "metadata": {},
   "outputs": [
    {
     "name": "stdout",
     "output_type": "stream",
     "text": [
      "0.7603305785123967\n"
     ]
    }
   ],
   "source": [
    "print(metrics.accuracy_score(y_train_final.Convert, y_train_final.predicted))"
   ]
  },
  {
   "cell_type": "markdown",
   "metadata": {},
   "source": [
    "#### Checking the further metrices "
   ]
  },
  {
   "cell_type": "code",
   "execution_count": 484,
   "metadata": {},
   "outputs": [],
   "source": [
    "# true positives\n",
    "tp = confusion[1,1] \n",
    "\n",
    "#true negatives\n",
    "tn = confusion[0,0]\n",
    "\n",
    "# false positives\n",
    "fp = confusion[0,1]\n",
    "\n",
    "# false negatives\n",
    "fn = confusion[1,0]"
   ]
  },
  {
   "cell_type": "code",
   "execution_count": 485,
   "metadata": {},
   "outputs": [
    {
     "data": {
      "text/plain": [
       "0.8277310924369747"
      ]
     },
     "execution_count": 485,
     "metadata": {},
     "output_type": "execute_result"
    }
   ],
   "source": [
    "# sensitivity of the model : A measure of how accurately does the model predict the positive outcomes\n",
    "# sensitivity can also be termed as true positive rate \n",
    "\n",
    "tp /(tp+fn)"
   ]
  },
  {
   "cell_type": "markdown",
   "metadata": {},
   "source": [
    "The model has low sensitivity. For our requirement this metric needs to be high. "
   ]
  },
  {
   "cell_type": "code",
   "execution_count": 486,
   "metadata": {},
   "outputs": [
    {
     "data": {
      "text/plain": [
       "0.632"
      ]
     },
     "execution_count": 486,
     "metadata": {},
     "output_type": "execute_result"
    }
   ],
   "source": [
    "# specificity of the model : A measure of how accurately does the model predict negative outcomes \n",
    "\n",
    "tn /(tn+fp)"
   ]
  },
  {
   "cell_type": "code",
   "execution_count": 487,
   "metadata": {},
   "outputs": [
    {
     "data": {
      "text/plain": [
       "0.368"
      ]
     },
     "execution_count": 487,
     "metadata": {},
     "output_type": "execute_result"
    }
   ],
   "source": [
    "# false positive rate : A measure of how many 0s were predicted as 1 \n",
    "\n",
    "fp /(tn+fp)"
   ]
  },
  {
   "cell_type": "markdown",
   "metadata": {},
   "source": [
    "The model has high specificity "
   ]
  },
  {
   "cell_type": "markdown",
   "metadata": {},
   "source": [
    "#### Checking the ROC curve "
   ]
  },
  {
   "cell_type": "code",
   "execution_count": 488,
   "metadata": {},
   "outputs": [],
   "source": [
    "# importing relevant libraries \n",
    "\n",
    "import matplotlib.pyplot as plt"
   ]
  },
  {
   "cell_type": "code",
   "execution_count": 489,
   "metadata": {},
   "outputs": [
    {
     "data": {
      "image/png": "[encoded data removed]",
      "text/plain": [
       "<Figure size 500x500 with 1 Axes>"
      ]
     },
     "metadata": {},
     "output_type": "display_data"
    }
   ],
   "source": [
    "# preparing the ROC curve \n",
    "\n",
    "def draw_roc( actual, probs ):\n",
    "    fpr, tpr, thresholds = metrics.roc_curve( actual, probs,\n",
    "                                              drop_intermediate = False )\n",
    "    auc_score = metrics.roc_auc_score( actual, probs )\n",
    "    plt.figure(figsize=(5, 5))\n",
    "    plt.plot( fpr, tpr, label='ROC curve (area = %0.2f)' % auc_score )\n",
    "    plt.plot([0, 1], [0, 1], 'k--')\n",
    "    plt.xlim([0.0, 1.0])\n",
    "    plt.ylim([0.0, 1.05])\n",
    "    plt.xlabel('False Positive Rate or [1 - True Negative Rate]')\n",
    "    plt.ylabel('True Positive Rate')\n",
    "    plt.title('Receiver operating characteristic example')\n",
    "    plt.legend(loc=\"lower right\")\n",
    "    plt.show()\n",
    "\n",
    "    return None\n",
    "\n",
    "# Calling the function\n",
    "draw_roc(y_train_final.Convert, y_train_final.Convert_prob)"
   ]
  },
  {
   "cell_type": "markdown",
   "metadata": {},
   "source": [
    "#### Note"
   ]
  },
  {
   "cell_type": "markdown",
   "metadata": {},
   "source": [
    "- The area under the ROC curve is 0.83 which depicts that the model is a good classifier"
   ]
  },
  {
   "cell_type": "code",
   "execution_count": 490,
   "metadata": {},
   "outputs": [
    {
     "data": {
      "text/html": [
       "<div>\n",
       "<style scoped>\n",
       "    .dataframe tbody tr th:only-of-type {\n",
       "        vertical-align: middle;\n",
       "    }\n",
       "\n",
       "    .dataframe tbody tr th {\n",
       "        vertical-align: top;\n",
       "    }\n",
       "\n",
       "    .dataframe thead th {\n",
       "        text-align: right;\n",
       "    }\n",
       "</style>\n",
       "<table border=\"1\" class=\"dataframe\">\n",
       "  <thead>\n",
       "    <tr style=\"text-align: right;\">\n",
       "      <th></th>\n",
       "      <th>Convert</th>\n",
       "      <th>Convert_prob</th>\n",
       "      <th>predicted</th>\n",
       "      <th>score</th>\n",
       "      <th>Lead Number</th>\n",
       "      <th>0.0</th>\n",
       "      <th>0.1</th>\n",
       "      <th>0.2</th>\n",
       "      <th>0.3</th>\n",
       "      <th>0.4</th>\n",
       "      <th>0.5</th>\n",
       "      <th>0.6</th>\n",
       "      <th>0.7</th>\n",
       "      <th>0.8</th>\n",
       "      <th>0.9</th>\n",
       "    </tr>\n",
       "  </thead>\n",
       "  <tbody>\n",
       "    <tr>\n",
       "      <th>0</th>\n",
       "      <td>1</td>\n",
       "      <td>0.439102</td>\n",
       "      <td>0</td>\n",
       "      <td>44.0</td>\n",
       "      <td>660673</td>\n",
       "      <td>1</td>\n",
       "      <td>1</td>\n",
       "      <td>1</td>\n",
       "      <td>1</td>\n",
       "      <td>1</td>\n",
       "      <td>0</td>\n",
       "      <td>0</td>\n",
       "      <td>0</td>\n",
       "      <td>0</td>\n",
       "      <td>0</td>\n",
       "    </tr>\n",
       "    <tr>\n",
       "      <th>1</th>\n",
       "      <td>0</td>\n",
       "      <td>0.072450</td>\n",
       "      <td>0</td>\n",
       "      <td>7.0</td>\n",
       "      <td>660471</td>\n",
       "      <td>1</td>\n",
       "      <td>0</td>\n",
       "      <td>0</td>\n",
       "      <td>0</td>\n",
       "      <td>0</td>\n",
       "      <td>0</td>\n",
       "      <td>0</td>\n",
       "      <td>0</td>\n",
       "      <td>0</td>\n",
       "      <td>0</td>\n",
       "    </tr>\n",
       "    <tr>\n",
       "      <th>2</th>\n",
       "      <td>1</td>\n",
       "      <td>0.720069</td>\n",
       "      <td>1</td>\n",
       "      <td>72.0</td>\n",
       "      <td>660424</td>\n",
       "      <td>1</td>\n",
       "      <td>1</td>\n",
       "      <td>1</td>\n",
       "      <td>1</td>\n",
       "      <td>1</td>\n",
       "      <td>1</td>\n",
       "      <td>1</td>\n",
       "      <td>1</td>\n",
       "      <td>0</td>\n",
       "      <td>0</td>\n",
       "    </tr>\n",
       "    <tr>\n",
       "      <th>3</th>\n",
       "      <td>1</td>\n",
       "      <td>0.855872</td>\n",
       "      <td>1</td>\n",
       "      <td>86.0</td>\n",
       "      <td>660267</td>\n",
       "      <td>1</td>\n",
       "      <td>1</td>\n",
       "      <td>1</td>\n",
       "      <td>1</td>\n",
       "      <td>1</td>\n",
       "      <td>1</td>\n",
       "      <td>1</td>\n",
       "      <td>1</td>\n",
       "      <td>1</td>\n",
       "      <td>0</td>\n",
       "    </tr>\n",
       "    <tr>\n",
       "      <th>4</th>\n",
       "      <td>0</td>\n",
       "      <td>0.270819</td>\n",
       "      <td>0</td>\n",
       "      <td>27.0</td>\n",
       "      <td>660236</td>\n",
       "      <td>1</td>\n",
       "      <td>1</td>\n",
       "      <td>1</td>\n",
       "      <td>0</td>\n",
       "      <td>0</td>\n",
       "      <td>0</td>\n",
       "      <td>0</td>\n",
       "      <td>0</td>\n",
       "      <td>0</td>\n",
       "      <td>0</td>\n",
       "    </tr>\n",
       "  </tbody>\n",
       "</table>\n",
       "</div>"
      ],
      "text/plain": [
       "   Convert  Convert_prob  predicted  score  Lead Number  0.0  0.1  0.2  0.3  \\\n",
       "0        1      0.439102          0   44.0       660673    1    1    1    1   \n",
       "1        0      0.072450          0    7.0       660471    1    0    0    0   \n",
       "2        1      0.720069          1   72.0       660424    1    1    1    1   \n",
       "3        1      0.855872          1   86.0       660267    1    1    1    1   \n",
       "4        0      0.270819          0   27.0       660236    1    1    1    0   \n",
       "\n",
       "   0.4  0.5  0.6  0.7  0.8  0.9  \n",
       "0    1    0    0    0    0    0  \n",
       "1    0    0    0    0    0    0  \n",
       "2    1    1    1    1    0    0  \n",
       "3    1    1    1    1    1    0  \n",
       "4    0    0    0    0    0    0  "
      ]
     },
     "execution_count": 490,
     "metadata": {},
     "output_type": "execute_result"
    }
   ],
   "source": [
    "# checking different probablity cutoffs \n",
    "\n",
    "numbers = [float(x)/10 for x in range(10)]\n",
    "for i in numbers:\n",
    "    y_train_final[i] = y_train_final.Convert_prob.map(lambda x:1 if x>i else 0)\n",
    "y_train_final.head()"
   ]
  },
  {
   "cell_type": "code",
   "execution_count": 491,
   "metadata": {},
   "outputs": [
    {
     "name": "stdout",
     "output_type": "stream",
     "text": [
      "     prob  accuracy     sensi  speci\n",
      "0.0   0.0  0.655647  1.000000  0.000\n",
      "0.1   0.1  0.699725  1.000000  0.128\n",
      "0.2   0.2  0.707989  1.000000  0.152\n",
      "0.3   0.3  0.757576  0.962185  0.368\n",
      "0.4   0.4  0.757576  0.953782  0.384\n",
      "0.5   0.5  0.760331  0.827731  0.632\n",
      "0.6   0.6  0.754821  0.806723  0.656\n",
      "0.7   0.7  0.741047  0.739496  0.744\n",
      "0.8   0.8  0.699725  0.626050  0.840\n",
      "0.9   0.9  0.429752  0.130252  1.000\n"
     ]
    }
   ],
   "source": [
    "# creating a dataframe with information about probability, accuracy, sensitivity and specificity \n",
    "\n",
    "cutoff_df = pd.DataFrame( columns = ['prob','accuracy','sensi','speci'])\n",
    "#from sklearn.metrics import confusion_matrix\n",
    "\n",
    "# tp = confusion[1,1]  true positive \n",
    "# tn = confusion[0,0]  true negatives\n",
    "# fp = confusion[0,1]  false positives\n",
    "# fn = confusion[1,0]  false negatives\n",
    "\n",
    "num = [0.0,0.1,0.2,0.3,0.4,0.5,0.6,0.7,0.8,0.9]\n",
    "for i in num:\n",
    "    cm1 = metrics.confusion_matrix(y_train_final.Convert, y_train_final[i])\n",
    "    total1=sum(sum(cm1))\n",
    "    accuracy = (cm1[0,0]+cm1[1,1])/total1\n",
    "    \n",
    "    speci = cm1[0,0]/(cm1[0,0]+cm1[0,1])\n",
    "    sensi = cm1[1,1]/(cm1[1,0]+cm1[1,1])\n",
    "    \n",
    "    cutoff_df.loc[i] =[ i ,accuracy,sensi,speci]\n",
    "    \n",
    "print(cutoff_df)"
   ]
  },
  {
   "cell_type": "code",
   "execution_count": 492,
   "metadata": {},
   "outputs": [],
   "source": [
    "# If we have to be extremely sure : we can choose 0.2 because sensitivity is 97 percentage and accuracy 53 percentage\n",
    "# If we have to save time then : we can choose 0.5 because accuracy : 0.79 sensi: 0.70"
   ]
  },
  {
   "cell_type": "code",
   "execution_count": 493,
   "metadata": {},
   "outputs": [
    {
     "data": {
      "image/png": "[encoded data removed]",
      "text/plain": [
       "<Figure size 640x480 with 1 Axes>"
      ]
     },
     "metadata": {},
     "output_type": "display_data"
    }
   ],
   "source": [
    "# plotting probability \n",
    "\n",
    "cutoff_df.plot.line(x= 'prob', y = ['accuracy','sensi','speci'])\n",
    "plt.show()"
   ]
  },
  {
   "cell_type": "markdown",
   "metadata": {},
   "source": [
    "#### Note"
   ]
  },
  {
   "cell_type": "markdown",
   "metadata": {},
   "source": [
    "- According to the graph the optimal value of cutoff seems to be around 0.3 "
   ]
  },
  {
   "cell_type": "markdown",
   "metadata": {},
   "source": [
    "## Solution Two"
   ]
  },
  {
   "cell_type": "markdown",
   "metadata": {},
   "source": [
    "### Case One : When we hire summer interns"
   ]
  },
  {
   "cell_type": "code",
   "execution_count": 494,
   "metadata": {},
   "outputs": [],
   "source": [
    "y_train_final['predicted_interns'] = y_train_final.Convert_prob.map(lambda x: 1 if x >0.2 else 0)"
   ]
  },
  {
   "cell_type": "code",
   "execution_count": 495,
   "metadata": {},
   "outputs": [
    {
     "data": {
      "text/plain": [
       "predicted_interns\n",
       "1    344\n",
       "0     19\n",
       "Name: count, dtype: int64"
      ]
     },
     "execution_count": 495,
     "metadata": {},
     "output_type": "execute_result"
    }
   ],
   "source": [
    "y_train_final['predicted_interns'].value_counts()"
   ]
  },
  {
   "cell_type": "code",
   "execution_count": 496,
   "metadata": {},
   "outputs": [],
   "source": [
    "# When we hire summer interns we can call 5290 people based on the cutoff of 0.2"
   ]
  },
  {
   "cell_type": "markdown",
   "metadata": {},
   "source": [
    "#### Financial Note"
   ]
  },
  {
   "cell_type": "markdown",
   "metadata": {},
   "source": [
    "When we mark the model cutoff at 0.2, the sales team has 83 percent people (from the train set its 5290/6351) to call during this period. The accuracy of the Model is not the greatest. However, we will not miss people who could get converted as the sensitivity of the model at this cutoff is very high.\n",
    "\n",
    "This allows us to not miss any customer who can get converted. Thus for the company this makes more financial sense during this period as:\n",
    "1. We are completely focused on sales \n",
    "2. We have hired interns to do this job so the cost for result is very low \n",
    "3. We will be able to convert more customers hence more revenue "
   ]
  },
  {
   "cell_type": "markdown",
   "metadata": {},
   "source": [
    "### Case Two : When we make call with necessary"
   ]
  },
  {
   "cell_type": "code",
   "execution_count": 497,
   "metadata": {},
   "outputs": [],
   "source": [
    "y_train_final['predicted_necessary'] = y_train_final.Convert_prob.map(lambda x: 1 if x >0.5 else 0)"
   ]
  },
  {
   "cell_type": "code",
   "execution_count": 498,
   "metadata": {},
   "outputs": [
    {
     "data": {
      "text/plain": [
       "predicted_necessary\n",
       "1    243\n",
       "0    120\n",
       "Name: count, dtype: int64"
      ]
     },
     "execution_count": 498,
     "metadata": {},
     "output_type": "execute_result"
    }
   ],
   "source": [
    "y_train_final['predicted_necessary'].value_counts()"
   ]
  },
  {
   "cell_type": "code",
   "execution_count": 499,
   "metadata": {},
   "outputs": [],
   "source": [
    "# When we calling on necessity we call 2293 people based on the cutoff of 0.5"
   ]
  },
  {
   "cell_type": "markdown",
   "metadata": {},
   "source": [
    "#### Financial Note"
   ]
  },
  {
   "cell_type": "markdown",
   "metadata": {},
   "source": [
    "When we can mark the model cutoff at 0.5, the sales team has 36 percent people (from the train set its 2293/6351) to call during this period. This percentage is very close to the actual conversion rate which is 37.85 percentage. The accuracy at this cutoff is almost the highest, the sensitivity is close to maximum and we will end up calling the most optimal set of customers. \n",
    "\n",
    "This allows us to only focus on the customers that are more likely to convert. Thus for the company this makes more financial sense during period as:\n",
    "1. We have other things to focus on, so we wont be able to dedicate a lot of resources to calling \n",
    "2. We can make optimal use of our human resource as we have lesser customers to target who are more likely to convert\n",
    "3. The sales team is able to focus on other work of higher importance "
   ]
  },
  {
   "cell_type": "markdown",
   "metadata": {},
   "source": [
    "## J. Making Predictions"
   ]
  },
  {
   "cell_type": "markdown",
   "metadata": {},
   "source": [
    "#### Scaling the continuous features "
   ]
  },
  {
   "cell_type": "code",
   "execution_count": 500,
   "metadata": {},
   "outputs": [],
   "source": [
    "# tarnsforming the continuous features in the test dataset \n",
    "\n",
    "final_test[numeric] = scaler.fit_transform(final_test[numeric])"
   ]
  },
  {
   "cell_type": "code",
   "execution_count": 501,
   "metadata": {},
   "outputs": [
    {
     "data": {
      "text/html": [
       "<div>\n",
       "<style scoped>\n",
       "    .dataframe tbody tr th:only-of-type {\n",
       "        vertical-align: middle;\n",
       "    }\n",
       "\n",
       "    .dataframe tbody tr th {\n",
       "        vertical-align: top;\n",
       "    }\n",
       "\n",
       "    .dataframe thead th {\n",
       "        text-align: right;\n",
       "    }\n",
       "</style>\n",
       "<table border=\"1\" class=\"dataframe\">\n",
       "  <thead>\n",
       "    <tr style=\"text-align: right;\">\n",
       "      <th></th>\n",
       "      <th>Prospect ID</th>\n",
       "      <th>Lead Number</th>\n",
       "      <th>Converted</th>\n",
       "      <th>TotalVisits</th>\n",
       "      <th>Total Time Spent on Website</th>\n",
       "      <th>Page Views Per Visit</th>\n",
       "      <th>Landing Page Submission</th>\n",
       "      <th>Lead Add Form</th>\n",
       "      <th>Google</th>\n",
       "      <th>Olark Chat</th>\n",
       "      <th>...</th>\n",
       "      <th>Other Metro Cities</th>\n",
       "      <th>Thane &amp; Outskirts</th>\n",
       "      <th>Tier II Cities</th>\n",
       "      <th>yes_copy</th>\n",
       "      <th>Email Opened</th>\n",
       "      <th>Modified</th>\n",
       "      <th>Olark Chat Conversation</th>\n",
       "      <th>Other_na</th>\n",
       "      <th>Page Visited on Website</th>\n",
       "      <th>SMS Sent</th>\n",
       "    </tr>\n",
       "  </thead>\n",
       "  <tbody>\n",
       "    <tr>\n",
       "      <th>2109</th>\n",
       "      <td>94b60093-49cd-41f5-be6e-ebc3c009ae54</td>\n",
       "      <td>639376</td>\n",
       "      <td>1</td>\n",
       "      <td>0.076923</td>\n",
       "      <td>0.489894</td>\n",
       "      <td>0.166667</td>\n",
       "      <td>1</td>\n",
       "      <td>0</td>\n",
       "      <td>1</td>\n",
       "      <td>0</td>\n",
       "      <td>...</td>\n",
       "      <td>0</td>\n",
       "      <td>0</td>\n",
       "      <td>0</td>\n",
       "      <td>0</td>\n",
       "      <td>0</td>\n",
       "      <td>1</td>\n",
       "      <td>0</td>\n",
       "      <td>0</td>\n",
       "      <td>0</td>\n",
       "      <td>0</td>\n",
       "    </tr>\n",
       "    <tr>\n",
       "      <th>9138</th>\n",
       "      <td>2e9f60dd-3ed7-48da-b1de-2f8747e026b1</td>\n",
       "      <td>580373</td>\n",
       "      <td>1</td>\n",
       "      <td>0.500000</td>\n",
       "      <td>0.175168</td>\n",
       "      <td>0.150000</td>\n",
       "      <td>1</td>\n",
       "      <td>0</td>\n",
       "      <td>1</td>\n",
       "      <td>0</td>\n",
       "      <td>...</td>\n",
       "      <td>0</td>\n",
       "      <td>0</td>\n",
       "      <td>0</td>\n",
       "      <td>0</td>\n",
       "      <td>0</td>\n",
       "      <td>1</td>\n",
       "      <td>0</td>\n",
       "      <td>0</td>\n",
       "      <td>0</td>\n",
       "      <td>0</td>\n",
       "    </tr>\n",
       "    <tr>\n",
       "      <th>5637</th>\n",
       "      <td>a137659a-3875-4168-9353-2adf499be078</td>\n",
       "      <td>606704</td>\n",
       "      <td>1</td>\n",
       "      <td>0.076923</td>\n",
       "      <td>0.092397</td>\n",
       "      <td>0.166667</td>\n",
       "      <td>1</td>\n",
       "      <td>0</td>\n",
       "      <td>1</td>\n",
       "      <td>0</td>\n",
       "      <td>...</td>\n",
       "      <td>0</td>\n",
       "      <td>0</td>\n",
       "      <td>0</td>\n",
       "      <td>0</td>\n",
       "      <td>0</td>\n",
       "      <td>0</td>\n",
       "      <td>0</td>\n",
       "      <td>0</td>\n",
       "      <td>0</td>\n",
       "      <td>1</td>\n",
       "    </tr>\n",
       "    <tr>\n",
       "      <th>7537</th>\n",
       "      <td>13080004-1399-427b-93c8-c0c26aa3f3f7</td>\n",
       "      <td>591793</td>\n",
       "      <td>1</td>\n",
       "      <td>1.000000</td>\n",
       "      <td>0.162656</td>\n",
       "      <td>0.366667</td>\n",
       "      <td>0</td>\n",
       "      <td>1</td>\n",
       "      <td>0</td>\n",
       "      <td>0</td>\n",
       "      <td>...</td>\n",
       "      <td>0</td>\n",
       "      <td>1</td>\n",
       "      <td>0</td>\n",
       "      <td>0</td>\n",
       "      <td>1</td>\n",
       "      <td>0</td>\n",
       "      <td>0</td>\n",
       "      <td>0</td>\n",
       "      <td>0</td>\n",
       "      <td>0</td>\n",
       "    </tr>\n",
       "    <tr>\n",
       "      <th>4937</th>\n",
       "      <td>413fb82a-0eaa-4e44-a0f1-07276f790d4f</td>\n",
       "      <td>612658</td>\n",
       "      <td>0</td>\n",
       "      <td>0.076923</td>\n",
       "      <td>0.106833</td>\n",
       "      <td>0.166667</td>\n",
       "      <td>1</td>\n",
       "      <td>0</td>\n",
       "      <td>1</td>\n",
       "      <td>0</td>\n",
       "      <td>...</td>\n",
       "      <td>0</td>\n",
       "      <td>1</td>\n",
       "      <td>0</td>\n",
       "      <td>0</td>\n",
       "      <td>0</td>\n",
       "      <td>0</td>\n",
       "      <td>0</td>\n",
       "      <td>0</td>\n",
       "      <td>0</td>\n",
       "      <td>1</td>\n",
       "    </tr>\n",
       "  </tbody>\n",
       "</table>\n",
       "<p>5 rows × 59 columns</p>\n",
       "</div>"
      ],
      "text/plain": [
       "                               Prospect ID  Lead Number  Converted  \\\n",
       "2109  94b60093-49cd-41f5-be6e-ebc3c009ae54       639376          1   \n",
       "9138  2e9f60dd-3ed7-48da-b1de-2f8747e026b1       580373          1   \n",
       "5637  a137659a-3875-4168-9353-2adf499be078       606704          1   \n",
       "7537  13080004-1399-427b-93c8-c0c26aa3f3f7       591793          1   \n",
       "4937  413fb82a-0eaa-4e44-a0f1-07276f790d4f       612658          0   \n",
       "\n",
       "      TotalVisits  Total Time Spent on Website  Page Views Per Visit  \\\n",
       "2109     0.076923                     0.489894              0.166667   \n",
       "9138     0.500000                     0.175168              0.150000   \n",
       "5637     0.076923                     0.092397              0.166667   \n",
       "7537     1.000000                     0.162656              0.366667   \n",
       "4937     0.076923                     0.106833              0.166667   \n",
       "\n",
       "      Landing Page Submission  Lead Add Form  Google  Olark Chat  ...  \\\n",
       "2109                        1              0       1           0  ...   \n",
       "9138                        1              0       1           0  ...   \n",
       "5637                        1              0       1           0  ...   \n",
       "7537                        0              1       0           0  ...   \n",
       "4937                        1              0       1           0  ...   \n",
       "\n",
       "      Other Metro Cities  Thane & Outskirts  Tier II Cities  yes_copy  \\\n",
       "2109                   0                  0               0         0   \n",
       "9138                   0                  0               0         0   \n",
       "5637                   0                  0               0         0   \n",
       "7537                   0                  1               0         0   \n",
       "4937                   0                  1               0         0   \n",
       "\n",
       "      Email Opened  Modified  Olark Chat Conversation  Other_na  \\\n",
       "2109             0         1                        0         0   \n",
       "9138             0         1                        0         0   \n",
       "5637             0         0                        0         0   \n",
       "7537             1         0                        0         0   \n",
       "4937             0         0                        0         0   \n",
       "\n",
       "      Page Visited on Website  SMS Sent  \n",
       "2109                        0         0  \n",
       "9138                        0         0  \n",
       "5637                        0         1  \n",
       "7537                        0         0  \n",
       "4937                        0         1  \n",
       "\n",
       "[5 rows x 59 columns]"
      ]
     },
     "execution_count": 501,
     "metadata": {},
     "output_type": "execute_result"
    }
   ],
   "source": [
    "final_test.head()"
   ]
  },
  {
   "cell_type": "code",
   "execution_count": 502,
   "metadata": {},
   "outputs": [],
   "source": [
    "# using the features in the test dataframe that were used to create our model \n",
    "\n",
    "x_test = x_test[col]"
   ]
  },
  {
   "cell_type": "code",
   "execution_count": 503,
   "metadata": {},
   "outputs": [
    {
     "data": {
      "text/html": [
       "<div>\n",
       "<style scoped>\n",
       "    .dataframe tbody tr th:only-of-type {\n",
       "        vertical-align: middle;\n",
       "    }\n",
       "\n",
       "    .dataframe tbody tr th {\n",
       "        vertical-align: top;\n",
       "    }\n",
       "\n",
       "    .dataframe thead th {\n",
       "        text-align: right;\n",
       "    }\n",
       "</style>\n",
       "<table border=\"1\" class=\"dataframe\">\n",
       "  <thead>\n",
       "    <tr style=\"text-align: right;\">\n",
       "      <th></th>\n",
       "      <th>Google</th>\n",
       "      <th>Form Submitted on Website</th>\n",
       "      <th>Retail Management</th>\n",
       "      <th>Supply Chain Management</th>\n",
       "      <th>Travel and Tourism</th>\n",
       "      <th>Other_lp</th>\n",
       "      <th>Potential Lead</th>\n",
       "      <th>lp_someschool</th>\n",
       "      <th>Other Metro Cities</th>\n",
       "      <th>Modified</th>\n",
       "    </tr>\n",
       "  </thead>\n",
       "  <tbody>\n",
       "    <tr>\n",
       "      <th>2109</th>\n",
       "      <td>1</td>\n",
       "      <td>0</td>\n",
       "      <td>0</td>\n",
       "      <td>0</td>\n",
       "      <td>0</td>\n",
       "      <td>0</td>\n",
       "      <td>1</td>\n",
       "      <td>0</td>\n",
       "      <td>0</td>\n",
       "      <td>1</td>\n",
       "    </tr>\n",
       "    <tr>\n",
       "      <th>9138</th>\n",
       "      <td>1</td>\n",
       "      <td>0</td>\n",
       "      <td>0</td>\n",
       "      <td>0</td>\n",
       "      <td>0</td>\n",
       "      <td>0</td>\n",
       "      <td>1</td>\n",
       "      <td>0</td>\n",
       "      <td>0</td>\n",
       "      <td>1</td>\n",
       "    </tr>\n",
       "    <tr>\n",
       "      <th>5637</th>\n",
       "      <td>1</td>\n",
       "      <td>0</td>\n",
       "      <td>0</td>\n",
       "      <td>0</td>\n",
       "      <td>0</td>\n",
       "      <td>0</td>\n",
       "      <td>1</td>\n",
       "      <td>0</td>\n",
       "      <td>0</td>\n",
       "      <td>0</td>\n",
       "    </tr>\n",
       "    <tr>\n",
       "      <th>7537</th>\n",
       "      <td>0</td>\n",
       "      <td>0</td>\n",
       "      <td>0</td>\n",
       "      <td>0</td>\n",
       "      <td>0</td>\n",
       "      <td>0</td>\n",
       "      <td>1</td>\n",
       "      <td>0</td>\n",
       "      <td>0</td>\n",
       "      <td>0</td>\n",
       "    </tr>\n",
       "    <tr>\n",
       "      <th>4937</th>\n",
       "      <td>1</td>\n",
       "      <td>0</td>\n",
       "      <td>0</td>\n",
       "      <td>0</td>\n",
       "      <td>0</td>\n",
       "      <td>0</td>\n",
       "      <td>0</td>\n",
       "      <td>0</td>\n",
       "      <td>0</td>\n",
       "      <td>0</td>\n",
       "    </tr>\n",
       "  </tbody>\n",
       "</table>\n",
       "</div>"
      ],
      "text/plain": [
       "      Google  Form Submitted on Website  Retail Management  \\\n",
       "2109       1                          0                  0   \n",
       "9138       1                          0                  0   \n",
       "5637       1                          0                  0   \n",
       "7537       0                          0                  0   \n",
       "4937       1                          0                  0   \n",
       "\n",
       "      Supply Chain Management  Travel and Tourism  Other_lp  Potential Lead  \\\n",
       "2109                        0                   0         0               1   \n",
       "9138                        0                   0         0               1   \n",
       "5637                        0                   0         0               1   \n",
       "7537                        0                   0         0               1   \n",
       "4937                        0                   0         0               0   \n",
       "\n",
       "      lp_someschool  Other Metro Cities  Modified  \n",
       "2109              0                   0         1  \n",
       "9138              0                   0         1  \n",
       "5637              0                   0         0  \n",
       "7537              0                   0         0  \n",
       "4937              0                   0         0  "
      ]
     },
     "execution_count": 503,
     "metadata": {},
     "output_type": "execute_result"
    }
   ],
   "source": [
    "x_test.head()"
   ]
  },
  {
   "cell_type": "code",
   "execution_count": null,
   "metadata": {},
   "outputs": [],
   "source": [
    "# dropping the feature that our model had shown to have very less significance\n",
    "\n",
    "x_test.drop('Other_lp', axis=1,inplace =True )"
   ]
  },
  {
   "cell_type": "code",
   "execution_count": null,
   "metadata": {},
   "outputs": [],
   "source": [
    "# adding the constant to x_test\n",
    "\n",
    "x_test_sm = sm.add_constant(x_test)"
   ]
  },
  {
   "cell_type": "code",
   "execution_count": null,
   "metadata": {},
   "outputs": [],
   "source": [
    "# creating the predictions based on the model \n",
    "\n",
    "y_test_pred = pred.predict(x_test_sm)\n",
    "y_test_pred[:10]"
   ]
  },
  {
   "cell_type": "code",
   "execution_count": null,
   "metadata": {},
   "outputs": [],
   "source": [
    "# creating different columns to store the covert situation and the probability for the same\n",
    "\n",
    "y_test_final = pd.DataFrame({'Convert' : y_test.values, 'Convert_prob' : y_test_pred})"
   ]
  },
  {
   "cell_type": "code",
   "execution_count": null,
   "metadata": {},
   "outputs": [],
   "source": [
    "y_test_final.head()"
   ]
  },
  {
   "cell_type": "code",
   "execution_count": null,
   "metadata": {},
   "outputs": [],
   "source": [
    "# testing with a cutoff at 0.3 . We can use different cutoffs as required \n",
    "\n",
    "y_test_final['predicted'] = y_test_final.Convert_prob.map(lambda x: 1 if x >0.5 else 0)"
   ]
  },
  {
   "cell_type": "code",
   "execution_count": null,
   "metadata": {},
   "outputs": [],
   "source": [
    "# creating the confusion matrix \n",
    "\n",
    "confusion_one = metrics.confusion_matrix(y_test_final.Convert, y_test_final.predicted)\n",
    "print(confusion_one)"
   ]
  },
  {
   "cell_type": "code",
   "execution_count": null,
   "metadata": {},
   "outputs": [],
   "source": [
    "# Predicted     not-churn    churn \n",
    "# Actual                  \n",
    "# not-churn       1487        247    \n",
    "# churn            322        667"
   ]
  },
  {
   "cell_type": "code",
   "execution_count": null,
   "metadata": {},
   "outputs": [],
   "source": [
    "# the accuracy of the model \n",
    "\n",
    "print(metrics.accuracy_score(y_test_final.Convert, y_test_final.predicted))"
   ]
  },
  {
   "cell_type": "code",
   "execution_count": null,
   "metadata": {},
   "outputs": [],
   "source": [
    "# true positives\n",
    "tp1 = confusion_one[1,1] \n",
    "\n",
    "#true negatives\n",
    "tn1 = confusion_one[0,0]\n",
    "\n",
    "# false positives\n",
    "fp1 = confusion_one[0,1]\n",
    "\n",
    "# false negatives\n",
    "fn1 = confusion_one[1,0]"
   ]
  },
  {
   "cell_type": "code",
   "execution_count": null,
   "metadata": {},
   "outputs": [],
   "source": [
    "# sensitivity of the model : A measure of how accurately does the model predict the positive outcomes\n",
    "# sesitivity can also be termed as true positive rate \n",
    "\n",
    "tp1 /(tp1+fn1)"
   ]
  },
  {
   "cell_type": "code",
   "execution_count": null,
   "metadata": {},
   "outputs": [],
   "source": [
    "# specificity of the model : A measure of how accurately does the model predict negative outcomes \n",
    "\n",
    "tn1 /(tn1+fp1)"
   ]
  },
  {
   "cell_type": "code",
   "execution_count": null,
   "metadata": {},
   "outputs": [],
   "source": [
    "# false positive rate : A measure of how many 0s were predicted as 1 \n",
    "\n",
    "fp1 /(tn1+fp1)"
   ]
  },
  {
   "cell_type": "markdown",
   "metadata": {},
   "source": [
    "#### Note"
   ]
  },
  {
   "cell_type": "markdown",
   "metadata": {},
   "source": [
    "1. Model works well \n",
    "2. The accuracy, sensitivity, specificity are very close to the one generated by the train set on a similar cutoff\n",
    "3. We can select different cutoff to increase the accuracy, sensitivity and specificity based on the requirement of the case in context"
   ]
  }
 ],
 "metadata": {
  "kernelspec": {
   "display_name": "Python 3 (ipykernel)",
   "language": "python",
   "name": "python3"
  },
  "language_info": {
   "codemirror_mode": {
    "name": "ipython",
    "version": 3
   },
   "file_extension": ".py",
   "mimetype": "text/x-python",
   "name": "python",
   "nbconvert_exporter": "python",
   "pygments_lexer": "ipython3",
   "version": "3.10.13"
  }
 },
 "nbformat": 4,
 "nbformat_minor": 4
}
